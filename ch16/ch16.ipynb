{
 "cells": [
  {
   "cell_type": "code",
   "execution_count": 1,
   "metadata": {},
   "outputs": [],
   "source": [
    "import pandas as pd\n",
    "import numpy as np\n",
    "import statsmodels.formula.api as smf"
   ]
  },
  {
   "cell_type": "code",
   "execution_count": 2,
   "metadata": {},
   "outputs": [],
   "source": [
    "transport = pd.read_sas('transport.sas7bdat')"
   ]
  },
  {
   "cell_type": "markdown",
   "metadata": {},
   "source": [
    "### Probit Model"
   ]
  },
  {
   "cell_type": "code",
   "execution_count": 3,
   "metadata": {},
   "outputs": [
    {
     "name": "stdout",
     "output_type": "stream",
     "text": [
      "Optimization terminated successfully.\n",
      "         Current function value: 0.293579\n",
      "         Iterations 6\n",
      "                          Probit Regression Results                           \n",
      "==============================================================================\n",
      "Dep. Variable:                   auto   No. Observations:                   21\n",
      "Model:                         Probit   Df Residuals:                       19\n",
      "Method:                           MLE   Df Model:                            1\n",
      "Date:                Tue, 16 Feb 2021   Pseudo R-squ.:                  0.5758\n",
      "Time:                        23:30:07   Log-Likelihood:                -6.1652\n",
      "converged:                       True   LL-Null:                       -14.532\n",
      "Covariance Type:            nonrobust   LLR p-value:                 4.300e-05\n",
      "==============================================================================\n",
      "                 coef    std err          z      P>|z|      [0.025      0.975]\n",
      "------------------------------------------------------------------------------\n",
      "Intercept     -0.0644      0.399     -0.161      0.872      -0.847       0.718\n",
      "dtime          0.3000      0.103      2.916      0.004       0.098       0.502\n",
      "==============================================================================\n"
     ]
    }
   ],
   "source": [
    "mdl_probit = smf.probit('auto~dtime', data=transport).fit()\n",
    "print(mdl_probit.summary())"
   ]
  },
  {
   "cell_type": "markdown",
   "metadata": {},
   "source": [
    "### Logit Model"
   ]
  },
  {
   "cell_type": "code",
   "execution_count": 4,
   "metadata": {},
   "outputs": [
    {
     "name": "stdout",
     "output_type": "stream",
     "text": [
      "Optimization terminated successfully.\n",
      "         Current function value: 0.293621\n",
      "         Iterations 7\n",
      "                           Logit Regression Results                           \n",
      "==============================================================================\n",
      "Dep. Variable:                   auto   No. Observations:                   21\n",
      "Model:                          Logit   Df Residuals:                       19\n",
      "Method:                           MLE   Df Model:                            1\n",
      "Date:                Tue, 16 Feb 2021   Pseudo R-squ.:                  0.5757\n",
      "Time:                        23:30:07   Log-Likelihood:                -6.1660\n",
      "converged:                       True   LL-Null:                       -14.532\n",
      "Covariance Type:            nonrobust   LLR p-value:                 4.304e-05\n",
      "==============================================================================\n",
      "                 coef    std err          z      P>|z|      [0.025      0.975]\n",
      "------------------------------------------------------------------------------\n",
      "Intercept     -0.2376      0.750     -0.317      0.752      -1.708       1.233\n",
      "dtime          0.5311      0.206      2.573      0.010       0.127       0.936\n",
      "==============================================================================\n"
     ]
    }
   ],
   "source": [
    "mdl_logit = smf.logit('auto~dtime', data=transport).fit()\n",
    "print(mdl_logit.summary())"
   ]
  },
  {
   "cell_type": "code",
   "execution_count": null,
   "metadata": {},
   "outputs": [],
   "source": []
  }
 ],
 "metadata": {
  "kernelspec": {
   "display_name": "Python 3",
   "language": "python",
   "name": "python3"
  },
  "language_info": {
   "codemirror_mode": {
    "name": "ipython",
    "version": 3
   },
   "file_extension": ".py",
   "mimetype": "text/x-python",
   "name": "python",
   "nbconvert_exporter": "python",
   "pygments_lexer": "ipython3",
   "version": "3.8.5"
  }
 },
 "nbformat": 4,
 "nbformat_minor": 2
}
