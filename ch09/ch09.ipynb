{
 "cells": [
  {
   "cell_type": "code",
   "execution_count": 1,
   "metadata": {},
   "outputs": [],
   "source": [
    "import pandas as pd\n",
    "import numpy as np\n",
    "import statsmodels.formula.api as smf"
   ]
  },
  {
   "cell_type": "markdown",
   "metadata": {},
   "source": [
    "### Okun's Law\n",
    "\n",
    "- `g`: growth rate of output\n",
    "- `u`: unemployment rate"
   ]
  },
  {
   "cell_type": "code",
   "execution_count": 2,
   "metadata": {},
   "outputs": [],
   "source": [
    "okun = pd.read_sas('okun.sas7bdat')"
   ]
  },
  {
   "cell_type": "code",
   "execution_count": 3,
   "metadata": {},
   "outputs": [
    {
     "name": "stdout",
     "output_type": "stream",
     "text": [
      "     g    u\n",
      "0  1.4  7.3\n",
      "1  2.0  7.2\n",
      "2  1.4  7.0\n",
      "3  1.5  7.0\n",
      "4  0.9  7.2\n"
     ]
    }
   ],
   "source": [
    "print(okun.head())"
   ]
  },
  {
   "cell_type": "markdown",
   "metadata": {},
   "source": [
    "### Autocorrelation Coefficient\n",
    "\n",
    "We import `acf` from `statsmodels.tsa.stattools`"
   ]
  },
  {
   "cell_type": "code",
   "execution_count": 4,
   "metadata": {},
   "outputs": [],
   "source": [
    "from statsmodels.tsa.stattools import acf"
   ]
  },
  {
   "cell_type": "code",
   "execution_count": 5,
   "metadata": {},
   "outputs": [
    {
     "name": "stdout",
     "output_type": "stream",
     "text": [
      "[ 1.          0.49425676  0.4107073   0.1544205   0.20043788  0.09038538\n",
      "  0.02447111 -0.03008434 -0.08231978  0.04410661 -0.02128483 -0.08683463\n",
      " -0.20404326 -0.14418367 -0.06948648 -0.06402047 -0.08179742 -0.08479459\n",
      " -0.07667928  0.00103167 -0.05466495 -0.10768211 -0.04507015  0.0237855\n",
      "  0.12412861  0.11713235  0.13231832  0.04490049  0.13946239  0.19462665\n",
      "  0.17964479  0.06940628  0.0813598   0.05801531  0.02024042 -0.03398073\n",
      " -0.14582792 -0.09337329 -0.06815819  0.05394989 -0.01896214]\n"
     ]
    },
    {
     "name": "stderr",
     "output_type": "stream",
     "text": [
      "C:\\ProgramData\\Anaconda3\\lib\\site-packages\\statsmodels\\tsa\\stattools.py:655: FutureWarning: The default number of lags is changing from 40 tomin(int(10 * np.log10(nobs)), nobs - 1) after 0.12is released. Set the number of lags to an integer to  silence this warning.\n",
      "  warnings.warn(\n"
     ]
    }
   ],
   "source": [
    "g_acf = acf(okun['g'],fft=False)\n",
    "print(g_acf)"
   ]
  },
  {
   "cell_type": "markdown",
   "metadata": {},
   "source": [
    "### Philips Curve of Australia\n",
    "\n",
    "- `inf`: inflation rate\n",
    "- `u`: unemployment rate\n",
    "\n",
    "Please note that `inf` is a reserved word in Python, which means infinity. We should avoid this kind of potential confusion."
   ]
  },
  {
   "cell_type": "code",
   "execution_count": 6,
   "metadata": {},
   "outputs": [],
   "source": [
    "phillips_aus = pd.read_sas('phillips_aus.sas7bdat')"
   ]
  },
  {
   "cell_type": "code",
   "execution_count": 7,
   "metadata": {},
   "outputs": [
    {
     "name": "stdout",
     "output_type": "stream",
     "text": [
      "   inf    u\n",
      "0  2.0  8.1\n",
      "1  1.5  8.0\n",
      "2  1.7  7.8\n",
      "3  1.8  7.7\n",
      "4  1.8  7.3\n"
     ]
    }
   ],
   "source": [
    "print(phillips_aus.head())"
   ]
  },
  {
   "cell_type": "markdown",
   "metadata": {},
   "source": [
    "**Use `.shift()` to get the lagged variable"
   ]
  },
  {
   "cell_type": "code",
   "execution_count": 8,
   "metadata": {},
   "outputs": [],
   "source": [
    "phillips_aus['du'] = phillips_aus['u'] - phillips_aus['u'].shift(1)"
   ]
  },
  {
   "cell_type": "code",
   "execution_count": 9,
   "metadata": {},
   "outputs": [
    {
     "name": "stdout",
     "output_type": "stream",
     "text": [
      "   inf    u   du\n",
      "0  2.0  8.1  NaN\n",
      "1  1.5  8.0 -0.1\n",
      "2  1.7  7.8 -0.2\n",
      "3  1.8  7.7 -0.1\n",
      "4  1.8  7.3 -0.4\n"
     ]
    }
   ],
   "source": [
    "print(phillips_aus.head())"
   ]
  },
  {
   "cell_type": "markdown",
   "metadata": {},
   "source": [
    "### Change the variable name `inf` to `y`\n",
    "\n",
    "`inf` is a reserved word in Python. Its meaning is infinity. "
   ]
  },
  {
   "cell_type": "code",
   "execution_count": 10,
   "metadata": {},
   "outputs": [],
   "source": [
    "phillips_aus['y'] = phillips_aus['inf']"
   ]
  },
  {
   "cell_type": "code",
   "execution_count": 11,
   "metadata": {},
   "outputs": [
    {
     "name": "stdout",
     "output_type": "stream",
     "text": [
      "                            OLS Regression Results                            \n",
      "==============================================================================\n",
      "Dep. Variable:                      y   R-squared:                       0.057\n",
      "Model:                            OLS   Adj. R-squared:                  0.046\n",
      "Method:                 Least Squares   F-statistic:                     5.295\n",
      "Date:                Tue, 16 Feb 2021   Prob (F-statistic):             0.0238\n",
      "Time:                        20:01:11   Log-Likelihood:                -83.958\n",
      "No. Observations:                  90   AIC:                             171.9\n",
      "Df Residuals:                      88   BIC:                             176.9\n",
      "Df Model:                           1                                         \n",
      "Covariance Type:            nonrobust                                         \n",
      "==============================================================================\n",
      "                 coef    std err          t      P>|t|      [0.025      0.975]\n",
      "------------------------------------------------------------------------------\n",
      "Intercept      0.7776      0.066     11.813      0.000       0.647       0.908\n",
      "du            -0.5279      0.229     -2.301      0.024      -0.984      -0.072\n",
      "==============================================================================\n",
      "Omnibus:                       11.203   Durbin-Watson:                   0.887\n",
      "Prob(Omnibus):                  0.004   Jarque-Bera (JB):               11.461\n",
      "Skew:                           0.783   Prob(JB):                      0.00324\n",
      "Kurtosis:                       3.776   Cond. No.                         3.50\n",
      "==============================================================================\n",
      "\n",
      "Notes:\n",
      "[1] Standard Errors assume that the covariance matrix of the errors is correctly specified.\n"
     ]
    }
   ],
   "source": [
    "mdl_phillips_aus = smf.ols('y ~ du', data = phillips_aus).fit()\n",
    "print(mdl_phillips_aus.summary())"
   ]
  },
  {
   "cell_type": "code",
   "execution_count": 12,
   "metadata": {},
   "outputs": [],
   "source": [
    "phillips_aus['e']=mdl_phillips_aus.resid"
   ]
  },
  {
   "cell_type": "code",
   "execution_count": 13,
   "metadata": {},
   "outputs": [
    {
     "name": "stdout",
     "output_type": "stream",
     "text": [
      "[ 1.          0.54865864  0.45573248  0.43321578  0.42049358  0.33903419\n",
      "  0.27097344  0.1912208   0.250694    0.15340865  0.05000153 -0.01573694\n",
      " -0.01318805 -0.00856231 -0.00350055 -0.12810175 -0.12837491  0.00937824\n",
      " -0.01553458  0.01229718  0.0514645   0.0872629   0.10266355  0.01361149\n",
      "  0.01581844  0.02512371 -0.03429133 -0.05338998 -0.05255196 -0.10977013\n",
      " -0.10840154 -0.1095806  -0.14186622 -0.21696352 -0.21653986 -0.2266333\n",
      " -0.24662648 -0.21327263 -0.1644506  -0.15469006 -0.12907371]\n"
     ]
    },
    {
     "name": "stderr",
     "output_type": "stream",
     "text": [
      "C:\\ProgramData\\Anaconda3\\lib\\site-packages\\statsmodels\\tsa\\stattools.py:655: FutureWarning: The default number of lags is changing from 40 tomin(int(10 * np.log10(nobs)), nobs - 1) after 0.12is released. Set the number of lags to an integer to  silence this warning.\n",
      "  warnings.warn(\n"
     ]
    }
   ],
   "source": [
    "e_acf = acf(phillips_aus['e'][1:],fft=False)\n",
    "print(e_acf)"
   ]
  },
  {
   "cell_type": "code",
   "execution_count": 14,
   "metadata": {},
   "outputs": [],
   "source": [
    "phillips_aus['le'] = phillips_aus['e'].shift(1)"
   ]
  },
  {
   "cell_type": "code",
   "execution_count": 15,
   "metadata": {},
   "outputs": [
    {
     "name": "stdout",
     "output_type": "stream",
     "text": [
      "   inf    u   du    y         e        le\n",
      "0  2.0  8.1  NaN  2.0       NaN       NaN\n",
      "1  1.5  8.0 -0.1  1.5  0.669592       NaN\n",
      "2  1.7  7.8 -0.2  1.7  0.816806  0.669592\n",
      "3  1.8  7.7 -0.1  1.8  0.969592  0.816806\n",
      "4  1.8  7.3 -0.4  1.8  0.811233  0.969592\n"
     ]
    }
   ],
   "source": [
    "print(phillips_aus.head())"
   ]
  },
  {
   "cell_type": "code",
   "execution_count": 16,
   "metadata": {},
   "outputs": [
    {
     "name": "stdout",
     "output_type": "stream",
     "text": [
      "                            OLS Regression Results                            \n",
      "==============================================================================\n",
      "Dep. Variable:                      y   R-squared:                       0.349\n",
      "Model:                            OLS   Adj. R-squared:                  0.334\n",
      "Method:                 Least Squares   F-statistic:                     23.04\n",
      "Date:                Tue, 16 Feb 2021   Prob (F-statistic):           9.73e-09\n",
      "Time:                        20:01:11   Log-Likelihood:                -66.400\n",
      "No. Observations:                  89   AIC:                             138.8\n",
      "Df Residuals:                      86   BIC:                             146.3\n",
      "Df Model:                           2                                         \n",
      "Covariance Type:            nonrobust                                         \n",
      "==============================================================================\n",
      "                 coef    std err          t      P>|t|      [0.025      0.975]\n",
      "------------------------------------------------------------------------------\n",
      "Intercept      0.7682      0.055     13.911      0.000       0.658       0.878\n",
      "du            -0.6725      0.193     -3.483      0.001      -1.056      -0.289\n",
      "le             0.5583      0.090      6.219      0.000       0.380       0.737\n",
      "==============================================================================\n",
      "Omnibus:                       12.327   Durbin-Watson:                   2.286\n",
      "Prob(Omnibus):                  0.002   Jarque-Bera (JB):               29.435\n",
      "Skew:                           0.348   Prob(JB):                     4.06e-07\n",
      "Kurtosis:                       5.730   Cond. No.                         3.52\n",
      "==============================================================================\n",
      "\n",
      "Notes:\n",
      "[1] Standard Errors assume that the covariance matrix of the errors is correctly specified.\n"
     ]
    }
   ],
   "source": [
    "mdl_phillips_aus2 = smf.ols('y~du+le', data=phillips_aus).fit()\n",
    "\n",
    "print(mdl_phillips_aus2.summary())"
   ]
  },
  {
   "cell_type": "code",
   "execution_count": 17,
   "metadata": {},
   "outputs": [
    {
     "name": "stdout",
     "output_type": "stream",
     "text": [
      "                            OLS Regression Results                            \n",
      "==============================================================================\n",
      "Dep. Variable:                      e   R-squared:                       0.310\n",
      "Model:                            OLS   Adj. R-squared:                  0.294\n",
      "Method:                 Least Squares   F-statistic:                     19.34\n",
      "Date:                Tue, 16 Feb 2021   Prob (F-statistic):           1.16e-07\n",
      "Time:                        20:01:11   Log-Likelihood:                -66.400\n",
      "No. Observations:                  89   AIC:                             138.8\n",
      "Df Residuals:                      86   BIC:                             146.3\n",
      "Df Model:                           2                                         \n",
      "Covariance Type:            nonrobust                                         \n",
      "==============================================================================\n",
      "                 coef    std err          t      P>|t|      [0.025      0.975]\n",
      "------------------------------------------------------------------------------\n",
      "Intercept     -0.0094      0.055     -0.170      0.866      -0.119       0.100\n",
      "du            -0.1446      0.193     -0.749      0.456      -0.528       0.239\n",
      "le             0.5583      0.090      6.219      0.000       0.380       0.737\n",
      "==============================================================================\n",
      "Omnibus:                       12.327   Durbin-Watson:                   2.286\n",
      "Prob(Omnibus):                  0.002   Jarque-Bera (JB):               29.435\n",
      "Skew:                           0.348   Prob(JB):                     4.06e-07\n",
      "Kurtosis:                       5.730   Cond. No.                         3.52\n",
      "==============================================================================\n",
      "\n",
      "Notes:\n",
      "[1] Standard Errors assume that the covariance matrix of the errors is correctly specified.\n"
     ]
    }
   ],
   "source": [
    "mdl_phillips_aus3 = smf.ols('e~du+le', data=phillips_aus).fit()\n",
    "\n",
    "print(mdl_phillips_aus3.summary())"
   ]
  },
  {
   "cell_type": "markdown",
   "metadata": {},
   "source": [
    "### HAC SE\n",
    "\n",
    "For HAC standard error, the closest to the textbook version we can find is to use `cov_type='hac', cov_kwds={'maxlags':3}` as parameters inside `.fit()`."
   ]
  },
  {
   "cell_type": "code",
   "execution_count": 18,
   "metadata": {},
   "outputs": [
    {
     "name": "stdout",
     "output_type": "stream",
     "text": [
      "                            OLS Regression Results                            \n",
      "==============================================================================\n",
      "Dep. Variable:                      y   R-squared:                       0.057\n",
      "Model:                            OLS   Adj. R-squared:                  0.046\n",
      "Method:                 Least Squares   F-statistic:                     2.914\n",
      "Date:                Tue, 16 Feb 2021   Prob (F-statistic):             0.0913\n",
      "Time:                        20:01:11   Log-Likelihood:                -83.958\n",
      "No. Observations:                  90   AIC:                             171.9\n",
      "Df Residuals:                      88   BIC:                             176.9\n",
      "Df Model:                           1                                         \n",
      "Covariance Type:                  hac                                         \n",
      "==============================================================================\n",
      "                 coef    std err          z      P>|z|      [0.025      0.975]\n",
      "------------------------------------------------------------------------------\n",
      "Intercept      0.7776      0.102      7.635      0.000       0.578       0.977\n",
      "du            -0.5279      0.309     -1.707      0.088      -1.134       0.078\n",
      "==============================================================================\n",
      "Omnibus:                       11.203   Durbin-Watson:                   0.887\n",
      "Prob(Omnibus):                  0.004   Jarque-Bera (JB):               11.461\n",
      "Skew:                           0.783   Prob(JB):                      0.00324\n",
      "Kurtosis:                       3.776   Cond. No.                         3.50\n",
      "==============================================================================\n",
      "\n",
      "Notes:\n",
      "[1] Standard Errors are heteroscedasticity and autocorrelation robust (HAC) using 3 lags and without small sample correction\n"
     ]
    }
   ],
   "source": [
    "mdl_phillips_aus4 = smf.ols('y~du', data=phillips_aus).fit(cov_type='hac', cov_kwds={'maxlags':3})\n",
    "\n",
    "print(mdl_phillips_aus4.summary())"
   ]
  }
 ],
 "metadata": {
  "kernelspec": {
   "display_name": "Python 3",
   "language": "python",
   "name": "python3"
  },
  "language_info": {
   "codemirror_mode": {
    "name": "ipython",
    "version": 3
   },
   "file_extension": ".py",
   "mimetype": "text/x-python",
   "name": "python",
   "nbconvert_exporter": "python",
   "pygments_lexer": "ipython3",
   "version": "3.8.5"
  }
 },
 "nbformat": 4,
 "nbformat_minor": 2
}
