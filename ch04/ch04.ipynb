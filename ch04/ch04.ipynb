{
 "cells": [
  {
   "cell_type": "markdown",
   "metadata": {},
   "source": [
    "### Data re-scaling\n",
    "\n",
    "We multiply the original `income` by 100 and name it `income1`, which is in the unit of dollars now."
   ]
  },
  {
   "cell_type": "code",
   "execution_count": 1,
   "metadata": {},
   "outputs": [],
   "source": [
    "import pandas as pd\n",
    "\n",
    "food = pd.read_sas('food.sas7bdat')\n",
    "food['income1'] = food['income']*100"
   ]
  },
  {
   "cell_type": "code",
   "execution_count": 2,
   "metadata": {},
   "outputs": [
    {
     "name": "stdout",
     "output_type": "stream",
     "text": [
      "   food_exp  income  income1\n",
      "0    115.22    3.69    369.0\n",
      "1    135.98    4.39    439.0\n",
      "2    119.34    4.75    475.0\n",
      "3    114.96    6.03    603.0\n",
      "4    187.05   12.47   1247.0\n"
     ]
    }
   ],
   "source": [
    "print(food.head())"
   ]
  },
  {
   "cell_type": "markdown",
   "metadata": {},
   "source": [
    "### Run ols on the rescaled variable\n",
    "\n",
    "Please compare the statistics of the parameter of `income1` to the statistics of `income` in the previous chapter."
   ]
  },
  {
   "cell_type": "code",
   "execution_count": 3,
   "metadata": {},
   "outputs": [],
   "source": [
    "import statsmodels.formula.api as smf"
   ]
  },
  {
   "cell_type": "code",
   "execution_count": 4,
   "metadata": {},
   "outputs": [],
   "source": [
    "mdl_food = smf.ols('food_exp~income1', data=food).fit()"
   ]
  },
  {
   "cell_type": "code",
   "execution_count": 5,
   "metadata": {},
   "outputs": [
    {
     "name": "stdout",
     "output_type": "stream",
     "text": [
      "                            OLS Regression Results                            \n",
      "==============================================================================\n",
      "Dep. Variable:               food_exp   R-squared:                       0.385\n",
      "Model:                            OLS   Adj. R-squared:                  0.369\n",
      "Method:                 Least Squares   F-statistic:                     23.79\n",
      "Date:                Mon, 15 Feb 2021   Prob (F-statistic):           1.95e-05\n",
      "Time:                        17:58:46   Log-Likelihood:                -235.51\n",
      "No. Observations:                  40   AIC:                             475.0\n",
      "Df Residuals:                      38   BIC:                             478.4\n",
      "Df Model:                           1                                         \n",
      "Covariance Type:            nonrobust                                         \n",
      "==============================================================================\n",
      "                 coef    std err          t      P>|t|      [0.025      0.975]\n",
      "------------------------------------------------------------------------------\n",
      "Intercept     83.4160     43.410      1.922      0.062      -4.463     171.295\n",
      "income1        0.1021      0.021      4.877      0.000       0.060       0.144\n",
      "==============================================================================\n",
      "Omnibus:                        0.277   Durbin-Watson:                   1.894\n",
      "Prob(Omnibus):                  0.870   Jarque-Bera (JB):                0.063\n",
      "Skew:                          -0.097   Prob(JB):                        0.969\n",
      "Kurtosis:                       2.989   Cond. No.                     6.36e+03\n",
      "==============================================================================\n",
      "\n",
      "Notes:\n",
      "[1] Standard Errors assume that the covariance matrix of the errors is correctly specified.\n",
      "[2] The condition number is large, 6.36e+03. This might indicate that there are\n",
      "strong multicollinearity or other numerical problems.\n"
     ]
    }
   ],
   "source": [
    "print(mdl_food.summary())"
   ]
  },
  {
   "cell_type": "code",
   "execution_count": null,
   "metadata": {},
   "outputs": [],
   "source": []
  }
 ],
 "metadata": {
  "kernelspec": {
   "display_name": "Python 3",
   "language": "python",
   "name": "python3"
  },
  "language_info": {
   "codemirror_mode": {
    "name": "ipython",
    "version": 3
   },
   "file_extension": ".py",
   "mimetype": "text/x-python",
   "name": "python",
   "nbconvert_exporter": "python",
   "pygments_lexer": "ipython3",
   "version": "3.7.4"
  }
 },
 "nbformat": 4,
 "nbformat_minor": 2
}
