{
 "cells": [
  {
   "cell_type": "markdown",
   "metadata": {},
   "source": [
    "## Read data from Excel or csv files\n",
    "\n",
    "import pandas for reading data and data manipulation\n"
   ]
  },
  {
   "cell_type": "markdown",
   "metadata": {},
   "source": [
    "### Read data from `CAPM.csv`"
   ]
  },
  {
   "cell_type": "code",
   "execution_count": 1,
   "metadata": {},
   "outputs": [],
   "source": [
    "import pandas as pd"
   ]
  },
  {
   "cell_type": "code",
   "execution_count": 2,
   "metadata": {},
   "outputs": [
    {
     "data": {
      "text/html": [
       "<div>\n",
       "<style scoped>\n",
       "    .dataframe tbody tr th:only-of-type {\n",
       "        vertical-align: middle;\n",
       "    }\n",
       "\n",
       "    .dataframe tbody tr th {\n",
       "        vertical-align: top;\n",
       "    }\n",
       "\n",
       "    .dataframe thead th {\n",
       "        text-align: right;\n",
       "    }\n",
       "</style>\n",
       "<table border=\"1\" class=\"dataframe\">\n",
       "  <thead>\n",
       "    <tr style=\"text-align: right;\">\n",
       "      <th></th>\n",
       "      <th>mobil</th>\n",
       "      <th>market</th>\n",
       "      <th>rkfree</th>\n",
       "    </tr>\n",
       "  </thead>\n",
       "  <tbody>\n",
       "    <tr>\n",
       "      <th>0</th>\n",
       "      <td>-0.046</td>\n",
       "      <td>-0.045</td>\n",
       "      <td>0.00487</td>\n",
       "    </tr>\n",
       "    <tr>\n",
       "      <th>1</th>\n",
       "      <td>-0.017</td>\n",
       "      <td>0.010</td>\n",
       "      <td>0.00494</td>\n",
       "    </tr>\n",
       "    <tr>\n",
       "      <th>2</th>\n",
       "      <td>0.049</td>\n",
       "      <td>0.050</td>\n",
       "      <td>0.00526</td>\n",
       "    </tr>\n",
       "    <tr>\n",
       "      <th>3</th>\n",
       "      <td>0.077</td>\n",
       "      <td>0.063</td>\n",
       "      <td>0.00491</td>\n",
       "    </tr>\n",
       "    <tr>\n",
       "      <th>4</th>\n",
       "      <td>-0.011</td>\n",
       "      <td>0.067</td>\n",
       "      <td>0.00513</td>\n",
       "    </tr>\n",
       "  </tbody>\n",
       "</table>\n",
       "</div>"
      ],
      "text/plain": [
       "   mobil  market   rkfree\n",
       "0 -0.046  -0.045  0.00487\n",
       "1 -0.017   0.010  0.00494\n",
       "2  0.049   0.050  0.00526\n",
       "3  0.077   0.063  0.00491\n",
       "4 -0.011   0.067  0.00513"
      ]
     },
     "execution_count": 2,
     "metadata": {},
     "output_type": "execute_result"
    }
   ],
   "source": [
    "CAPM = pd.read_csv('CAPM.csv')\n",
    "\n",
    "CAPM.head()"
   ]
  },
  {
   "cell_type": "markdown",
   "metadata": {},
   "source": [
    "### Add dates in pd.DataFrame\n",
    "\n",
    "- Original data has no date column, so we add `Dates` for the last business day of the month (`'BM'`) from January 1978 to December 1987, for our 120 observations\n",
    "- We also set 'Dates' as an index\n",
    "- Please note that this step is unnecessary if we don't need to deal with dates."
   ]
  },
  {
   "cell_type": "code",
   "execution_count": 3,
   "metadata": {},
   "outputs": [],
   "source": [
    "Dates = pd.date_range(start='1978-1-1', end='1987-12-31', freq='BM')"
   ]
  },
  {
   "cell_type": "code",
   "execution_count": 4,
   "metadata": {},
   "outputs": [
    {
     "data": {
      "text/plain": [
       "pandas.core.indexes.datetimes.DatetimeIndex"
      ]
     },
     "execution_count": 4,
     "metadata": {},
     "output_type": "execute_result"
    }
   ],
   "source": [
    "type(Dates)"
   ]
  },
  {
   "cell_type": "code",
   "execution_count": 5,
   "metadata": {},
   "outputs": [],
   "source": [
    "CAPM['Dates'] = Dates\n",
    "CAPM.set_index('Dates', inplace=True)"
   ]
  },
  {
   "cell_type": "code",
   "execution_count": 6,
   "metadata": {},
   "outputs": [
    {
     "data": {
      "text/html": [
       "<div>\n",
       "<style scoped>\n",
       "    .dataframe tbody tr th:only-of-type {\n",
       "        vertical-align: middle;\n",
       "    }\n",
       "\n",
       "    .dataframe tbody tr th {\n",
       "        vertical-align: top;\n",
       "    }\n",
       "\n",
       "    .dataframe thead th {\n",
       "        text-align: right;\n",
       "    }\n",
       "</style>\n",
       "<table border=\"1\" class=\"dataframe\">\n",
       "  <thead>\n",
       "    <tr style=\"text-align: right;\">\n",
       "      <th></th>\n",
       "      <th>mobil</th>\n",
       "      <th>market</th>\n",
       "      <th>rkfree</th>\n",
       "    </tr>\n",
       "    <tr>\n",
       "      <th>Dates</th>\n",
       "      <th></th>\n",
       "      <th></th>\n",
       "      <th></th>\n",
       "    </tr>\n",
       "  </thead>\n",
       "  <tbody>\n",
       "    <tr>\n",
       "      <th>1978-01-31</th>\n",
       "      <td>-0.046</td>\n",
       "      <td>-0.045</td>\n",
       "      <td>0.00487</td>\n",
       "    </tr>\n",
       "    <tr>\n",
       "      <th>1978-02-28</th>\n",
       "      <td>-0.017</td>\n",
       "      <td>0.010</td>\n",
       "      <td>0.00494</td>\n",
       "    </tr>\n",
       "    <tr>\n",
       "      <th>1978-03-31</th>\n",
       "      <td>0.049</td>\n",
       "      <td>0.050</td>\n",
       "      <td>0.00526</td>\n",
       "    </tr>\n",
       "    <tr>\n",
       "      <th>1978-04-28</th>\n",
       "      <td>0.077</td>\n",
       "      <td>0.063</td>\n",
       "      <td>0.00491</td>\n",
       "    </tr>\n",
       "    <tr>\n",
       "      <th>1978-05-31</th>\n",
       "      <td>-0.011</td>\n",
       "      <td>0.067</td>\n",
       "      <td>0.00513</td>\n",
       "    </tr>\n",
       "  </tbody>\n",
       "</table>\n",
       "</div>"
      ],
      "text/plain": [
       "            mobil  market   rkfree\n",
       "Dates                             \n",
       "1978-01-31 -0.046  -0.045  0.00487\n",
       "1978-02-28 -0.017   0.010  0.00494\n",
       "1978-03-31  0.049   0.050  0.00526\n",
       "1978-04-28  0.077   0.063  0.00491\n",
       "1978-05-31 -0.011   0.067  0.00513"
      ]
     },
     "execution_count": 6,
     "metadata": {},
     "output_type": "execute_result"
    }
   ],
   "source": [
    "CAPM.head()"
   ]
  },
  {
   "cell_type": "markdown",
   "metadata": {},
   "source": [
    "### Simple calculation with variables in the pd.DataFrame"
   ]
  },
  {
   "cell_type": "code",
   "execution_count": 7,
   "metadata": {},
   "outputs": [],
   "source": [
    "CAPM['rirf'] = CAPM.mobil-CAPM.rkfree\n",
    "CAPM['rmrf'] = CAPM.market-CAPM.rkfree"
   ]
  },
  {
   "cell_type": "code",
   "execution_count": 8,
   "metadata": {},
   "outputs": [
    {
     "data": {
      "text/html": [
       "<div>\n",
       "<style scoped>\n",
       "    .dataframe tbody tr th:only-of-type {\n",
       "        vertical-align: middle;\n",
       "    }\n",
       "\n",
       "    .dataframe tbody tr th {\n",
       "        vertical-align: top;\n",
       "    }\n",
       "\n",
       "    .dataframe thead th {\n",
       "        text-align: right;\n",
       "    }\n",
       "</style>\n",
       "<table border=\"1\" class=\"dataframe\">\n",
       "  <thead>\n",
       "    <tr style=\"text-align: right;\">\n",
       "      <th></th>\n",
       "      <th>mobil</th>\n",
       "      <th>market</th>\n",
       "      <th>rkfree</th>\n",
       "      <th>rirf</th>\n",
       "      <th>rmrf</th>\n",
       "    </tr>\n",
       "    <tr>\n",
       "      <th>Dates</th>\n",
       "      <th></th>\n",
       "      <th></th>\n",
       "      <th></th>\n",
       "      <th></th>\n",
       "      <th></th>\n",
       "    </tr>\n",
       "  </thead>\n",
       "  <tbody>\n",
       "    <tr>\n",
       "      <th>1978-01-31</th>\n",
       "      <td>-0.046</td>\n",
       "      <td>-0.045</td>\n",
       "      <td>0.00487</td>\n",
       "      <td>-0.05087</td>\n",
       "      <td>-0.04987</td>\n",
       "    </tr>\n",
       "    <tr>\n",
       "      <th>1978-02-28</th>\n",
       "      <td>-0.017</td>\n",
       "      <td>0.010</td>\n",
       "      <td>0.00494</td>\n",
       "      <td>-0.02194</td>\n",
       "      <td>0.00506</td>\n",
       "    </tr>\n",
       "    <tr>\n",
       "      <th>1978-03-31</th>\n",
       "      <td>0.049</td>\n",
       "      <td>0.050</td>\n",
       "      <td>0.00526</td>\n",
       "      <td>0.04374</td>\n",
       "      <td>0.04474</td>\n",
       "    </tr>\n",
       "    <tr>\n",
       "      <th>1978-04-28</th>\n",
       "      <td>0.077</td>\n",
       "      <td>0.063</td>\n",
       "      <td>0.00491</td>\n",
       "      <td>0.07209</td>\n",
       "      <td>0.05809</td>\n",
       "    </tr>\n",
       "    <tr>\n",
       "      <th>1978-05-31</th>\n",
       "      <td>-0.011</td>\n",
       "      <td>0.067</td>\n",
       "      <td>0.00513</td>\n",
       "      <td>-0.01613</td>\n",
       "      <td>0.06187</td>\n",
       "    </tr>\n",
       "  </tbody>\n",
       "</table>\n",
       "</div>"
      ],
      "text/plain": [
       "            mobil  market   rkfree     rirf     rmrf\n",
       "Dates                                               \n",
       "1978-01-31 -0.046  -0.045  0.00487 -0.05087 -0.04987\n",
       "1978-02-28 -0.017   0.010  0.00494 -0.02194  0.00506\n",
       "1978-03-31  0.049   0.050  0.00526  0.04374  0.04474\n",
       "1978-04-28  0.077   0.063  0.00491  0.07209  0.05809\n",
       "1978-05-31 -0.011   0.067  0.00513 -0.01613  0.06187"
      ]
     },
     "execution_count": 8,
     "metadata": {},
     "output_type": "execute_result"
    }
   ],
   "source": [
    "CAPM.head()"
   ]
  },
  {
   "cell_type": "markdown",
   "metadata": {},
   "source": [
    "### Summary Statistics\n",
    "\n",
    "- Use `set_option` to define the precision of data\n",
    "- Use `.describe()` to get the summary statistics table"
   ]
  },
  {
   "cell_type": "code",
   "execution_count": 9,
   "metadata": {},
   "outputs": [],
   "source": [
    "pd.set_option('precision', 7)"
   ]
  },
  {
   "cell_type": "code",
   "execution_count": 10,
   "metadata": {
    "scrolled": true
   },
   "outputs": [
    {
     "data": {
      "text/html": [
       "<div>\n",
       "<style scoped>\n",
       "    .dataframe tbody tr th:only-of-type {\n",
       "        vertical-align: middle;\n",
       "    }\n",
       "\n",
       "    .dataframe tbody tr th {\n",
       "        vertical-align: top;\n",
       "    }\n",
       "\n",
       "    .dataframe thead th {\n",
       "        text-align: right;\n",
       "    }\n",
       "</style>\n",
       "<table border=\"1\" class=\"dataframe\">\n",
       "  <thead>\n",
       "    <tr style=\"text-align: right;\">\n",
       "      <th></th>\n",
       "      <th>mobil</th>\n",
       "      <th>market</th>\n",
       "      <th>rkfree</th>\n",
       "      <th>rirf</th>\n",
       "      <th>rmrf</th>\n",
       "    </tr>\n",
       "  </thead>\n",
       "  <tbody>\n",
       "    <tr>\n",
       "      <th>count</th>\n",
       "      <td>120.0000000</td>\n",
       "      <td>120.0000000</td>\n",
       "      <td>120.0000000</td>\n",
       "      <td>120.0000000</td>\n",
       "      <td>120.0000000</td>\n",
       "    </tr>\n",
       "    <tr>\n",
       "      <th>mean</th>\n",
       "      <td>0.0161917</td>\n",
       "      <td>0.0139917</td>\n",
       "      <td>0.0068386</td>\n",
       "      <td>0.0093531</td>\n",
       "      <td>0.0071531</td>\n",
       "    </tr>\n",
       "    <tr>\n",
       "      <th>std</th>\n",
       "      <td>0.0803075</td>\n",
       "      <td>0.0683532</td>\n",
       "      <td>0.0021869</td>\n",
       "      <td>0.0804684</td>\n",
       "      <td>0.0686057</td>\n",
       "    </tr>\n",
       "    <tr>\n",
       "      <th>min</th>\n",
       "      <td>-0.1780000</td>\n",
       "      <td>-0.2600000</td>\n",
       "      <td>0.0020700</td>\n",
       "      <td>-0.1878100</td>\n",
       "      <td>-0.2635800</td>\n",
       "    </tr>\n",
       "    <tr>\n",
       "      <th>25%</th>\n",
       "      <td>-0.0322500</td>\n",
       "      <td>-0.0132500</td>\n",
       "      <td>0.0052225</td>\n",
       "      <td>-0.0399050</td>\n",
       "      <td>-0.0202200</td>\n",
       "    </tr>\n",
       "    <tr>\n",
       "      <th>50%</th>\n",
       "      <td>0.0125000</td>\n",
       "      <td>0.0120000</td>\n",
       "      <td>0.0066000</td>\n",
       "      <td>0.0059100</td>\n",
       "      <td>0.0062100</td>\n",
       "    </tr>\n",
       "    <tr>\n",
       "      <th>75%</th>\n",
       "      <td>0.0567500</td>\n",
       "      <td>0.0622500</td>\n",
       "      <td>0.0077625</td>\n",
       "      <td>0.0499600</td>\n",
       "      <td>0.0541250</td>\n",
       "    </tr>\n",
       "    <tr>\n",
       "      <th>max</th>\n",
       "      <td>0.3660000</td>\n",
       "      <td>0.1480000</td>\n",
       "      <td>0.0125500</td>\n",
       "      <td>0.3552700</td>\n",
       "      <td>0.1434600</td>\n",
       "    </tr>\n",
       "  </tbody>\n",
       "</table>\n",
       "</div>"
      ],
      "text/plain": [
       "             mobil       market       rkfree         rirf         rmrf\n",
       "count  120.0000000  120.0000000  120.0000000  120.0000000  120.0000000\n",
       "mean     0.0161917    0.0139917    0.0068386    0.0093531    0.0071531\n",
       "std      0.0803075    0.0683532    0.0021869    0.0804684    0.0686057\n",
       "min     -0.1780000   -0.2600000    0.0020700   -0.1878100   -0.2635800\n",
       "25%     -0.0322500   -0.0132500    0.0052225   -0.0399050   -0.0202200\n",
       "50%      0.0125000    0.0120000    0.0066000    0.0059100    0.0062100\n",
       "75%      0.0567500    0.0622500    0.0077625    0.0499600    0.0541250\n",
       "max      0.3660000    0.1480000    0.0125500    0.3552700    0.1434600"
      ]
     },
     "execution_count": 10,
     "metadata": {},
     "output_type": "execute_result"
    }
   ],
   "source": [
    "CAPM.describe()"
   ]
  },
  {
   "cell_type": "markdown",
   "metadata": {},
   "source": [
    "### Change the scale of the whole dataset"
   ]
  },
  {
   "cell_type": "code",
   "execution_count": 11,
   "metadata": {},
   "outputs": [],
   "source": [
    "CAPM1=CAPM*100"
   ]
  },
  {
   "cell_type": "code",
   "execution_count": 12,
   "metadata": {},
   "outputs": [
    {
     "data": {
      "text/html": [
       "<div>\n",
       "<style scoped>\n",
       "    .dataframe tbody tr th:only-of-type {\n",
       "        vertical-align: middle;\n",
       "    }\n",
       "\n",
       "    .dataframe tbody tr th {\n",
       "        vertical-align: top;\n",
       "    }\n",
       "\n",
       "    .dataframe thead th {\n",
       "        text-align: right;\n",
       "    }\n",
       "</style>\n",
       "<table border=\"1\" class=\"dataframe\">\n",
       "  <thead>\n",
       "    <tr style=\"text-align: right;\">\n",
       "      <th></th>\n",
       "      <th>mobil</th>\n",
       "      <th>market</th>\n",
       "      <th>rkfree</th>\n",
       "      <th>rirf</th>\n",
       "      <th>rmrf</th>\n",
       "    </tr>\n",
       "    <tr>\n",
       "      <th>Dates</th>\n",
       "      <th></th>\n",
       "      <th></th>\n",
       "      <th></th>\n",
       "      <th></th>\n",
       "      <th></th>\n",
       "    </tr>\n",
       "  </thead>\n",
       "  <tbody>\n",
       "    <tr>\n",
       "      <th>1978-01-31</th>\n",
       "      <td>-4.6</td>\n",
       "      <td>-4.5</td>\n",
       "      <td>0.487</td>\n",
       "      <td>-5.087</td>\n",
       "      <td>-4.987</td>\n",
       "    </tr>\n",
       "    <tr>\n",
       "      <th>1978-02-28</th>\n",
       "      <td>-1.7</td>\n",
       "      <td>1.0</td>\n",
       "      <td>0.494</td>\n",
       "      <td>-2.194</td>\n",
       "      <td>0.506</td>\n",
       "    </tr>\n",
       "    <tr>\n",
       "      <th>1978-03-31</th>\n",
       "      <td>4.9</td>\n",
       "      <td>5.0</td>\n",
       "      <td>0.526</td>\n",
       "      <td>4.374</td>\n",
       "      <td>4.474</td>\n",
       "    </tr>\n",
       "    <tr>\n",
       "      <th>1978-04-28</th>\n",
       "      <td>7.7</td>\n",
       "      <td>6.3</td>\n",
       "      <td>0.491</td>\n",
       "      <td>7.209</td>\n",
       "      <td>5.809</td>\n",
       "    </tr>\n",
       "    <tr>\n",
       "      <th>1978-05-31</th>\n",
       "      <td>-1.1</td>\n",
       "      <td>6.7</td>\n",
       "      <td>0.513</td>\n",
       "      <td>-1.613</td>\n",
       "      <td>6.187</td>\n",
       "    </tr>\n",
       "  </tbody>\n",
       "</table>\n",
       "</div>"
      ],
      "text/plain": [
       "            mobil  market  rkfree   rirf   rmrf\n",
       "Dates                                          \n",
       "1978-01-31   -4.6    -4.5   0.487 -5.087 -4.987\n",
       "1978-02-28   -1.7     1.0   0.494 -2.194  0.506\n",
       "1978-03-31    4.9     5.0   0.526  4.374  4.474\n",
       "1978-04-28    7.7     6.3   0.491  7.209  5.809\n",
       "1978-05-31   -1.1     6.7   0.513 -1.613  6.187"
      ]
     },
     "execution_count": 12,
     "metadata": {},
     "output_type": "execute_result"
    }
   ],
   "source": [
    "CAPM1.head()"
   ]
  },
  {
   "cell_type": "code",
   "execution_count": null,
   "metadata": {},
   "outputs": [],
   "source": []
  }
 ],
 "metadata": {
  "kernelspec": {
   "display_name": "Python 3",
   "language": "python",
   "name": "python3"
  },
  "language_info": {
   "codemirror_mode": {
    "name": "ipython",
    "version": 3
   },
   "file_extension": ".py",
   "mimetype": "text/x-python",
   "name": "python",
   "nbconvert_exporter": "python",
   "pygments_lexer": "ipython3",
   "version": "3.8.5"
  }
 },
 "nbformat": 4,
 "nbformat_minor": 2
}
