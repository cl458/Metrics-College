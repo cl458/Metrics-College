{
 "cells": [
  {
   "cell_type": "code",
   "execution_count": 1,
   "metadata": {},
   "outputs": [],
   "source": [
    "import pandas as pd\n",
    "import numpy as np\n",
    "import statsmodels.formula.api as smf"
   ]
  },
  {
   "cell_type": "code",
   "execution_count": 2,
   "metadata": {},
   "outputs": [],
   "source": [
    "food=pd.read_sas('food.sas7bdat')"
   ]
  },
  {
   "cell_type": "code",
   "execution_count": 3,
   "metadata": {},
   "outputs": [],
   "source": [
    "mdl_food = smf.ols('food_exp~income', data=food).fit()"
   ]
  },
  {
   "cell_type": "code",
   "execution_count": 4,
   "metadata": {},
   "outputs": [],
   "source": [
    "food['e2'] = mdl_food.resid**2\n",
    "food['income2'] = food['income']**2"
   ]
  },
  {
   "cell_type": "code",
   "execution_count": 5,
   "metadata": {},
   "outputs": [
    {
     "name": "stdout",
     "output_type": "stream",
     "text": [
      "   food_exp  income          e2   income2\n",
      "0    115.22    3.69   34.452023   13.6161\n",
      "1    135.98    4.39   59.964353   19.2721\n",
      "2    119.34    4.75  158.050309   22.5625\n",
      "3    114.96    6.03  901.209353   36.3609\n",
      "4    187.05   12.47  560.754232  155.5009\n"
     ]
    }
   ],
   "source": [
    "print(food.head())"
   ]
  },
  {
   "cell_type": "markdown",
   "metadata": {},
   "source": [
    "### Lagrange Multiplier Test"
   ]
  },
  {
   "cell_type": "code",
   "execution_count": 6,
   "metadata": {},
   "outputs": [
    {
     "name": "stdout",
     "output_type": "stream",
     "text": [
      "                            OLS Regression Results                            \n",
      "==============================================================================\n",
      "Dep. Variable:                     e2   R-squared:                       0.185\n",
      "Model:                            OLS   Adj. R-squared:                  0.163\n",
      "Method:                 Least Squares   F-statistic:                     8.604\n",
      "Date:                Tue, 16 Feb 2021   Prob (F-statistic):            0.00566\n",
      "Time:                        19:23:54   Log-Likelihood:                -423.93\n",
      "No. Observations:                  40   AIC:                             851.9\n",
      "Df Residuals:                      38   BIC:                             855.2\n",
      "Df Model:                           1                                         \n",
      "Covariance Type:            nonrobust                                         \n",
      "==============================================================================\n",
      "                 coef    std err          t      P>|t|      [0.025      0.975]\n",
      "------------------------------------------------------------------------------\n",
      "Intercept  -5762.3698   4823.501     -1.195      0.240   -1.55e+04    4002.297\n",
      "income       682.2326    232.592      2.933      0.006     211.375    1153.091\n",
      "==============================================================================\n",
      "Omnibus:                       36.108   Durbin-Watson:                   2.345\n",
      "Prob(Omnibus):                  0.000   Jarque-Bera (JB):              102.624\n",
      "Skew:                           2.239   Prob(JB):                     5.19e-23\n",
      "Kurtosis:                       9.444   Cond. No.                         63.7\n",
      "==============================================================================\n",
      "\n",
      "Notes:\n",
      "[1] Standard Errors assume that the covariance matrix of the errors is correctly specified.\n"
     ]
    }
   ],
   "source": [
    "mdl_LM_Test = smf.ols('e2~income', data=food).fit()\n",
    "\n",
    "print(mdl_LM_Test.summary())"
   ]
  },
  {
   "cell_type": "markdown",
   "metadata": {},
   "source": [
    "### White Test for Heteroskedasticity"
   ]
  },
  {
   "cell_type": "code",
   "execution_count": 7,
   "metadata": {},
   "outputs": [
    {
     "name": "stdout",
     "output_type": "stream",
     "text": [
      "                            OLS Regression Results                            \n",
      "==============================================================================\n",
      "Dep. Variable:                     e2   R-squared:                       0.189\n",
      "Model:                            OLS   Adj. R-squared:                  0.145\n",
      "Method:                 Least Squares   F-statistic:                     4.308\n",
      "Date:                Tue, 16 Feb 2021   Prob (F-statistic):             0.0208\n",
      "Time:                        19:23:54   Log-Likelihood:                -423.83\n",
      "No. Observations:                  40   AIC:                             853.7\n",
      "Df Residuals:                      37   BIC:                             858.7\n",
      "Df Model:                           2                                         \n",
      "Covariance Type:            nonrobust                                         \n",
      "==============================================================================\n",
      "                 coef    std err          t      P>|t|      [0.025      0.975]\n",
      "------------------------------------------------------------------------------\n",
      "Intercept  -2908.7828   8100.109     -0.359      0.722   -1.93e+04    1.35e+04\n",
      "income       291.7457    915.846      0.319      0.752   -1563.935    2147.426\n",
      "income2       11.1653     25.310      0.441      0.662     -40.117      62.447\n",
      "==============================================================================\n",
      "Omnibus:                       35.145   Durbin-Watson:                   2.366\n",
      "Prob(Omnibus):                  0.000   Jarque-Bera (JB):               99.137\n",
      "Skew:                           2.163   Prob(JB):                     2.97e-22\n",
      "Kurtosis:                       9.384   Cond. No.                     2.54e+03\n",
      "==============================================================================\n",
      "\n",
      "Notes:\n",
      "[1] Standard Errors assume that the covariance matrix of the errors is correctly specified.\n",
      "[2] The condition number is large, 2.54e+03. This might indicate that there are\n",
      "strong multicollinearity or other numerical problems.\n"
     ]
    }
   ],
   "source": [
    "mdl_White_Test = smf.ols('e2~income+income2', data=food).fit()\n",
    "\n",
    "print(mdl_White_Test.summary())"
   ]
  },
  {
   "cell_type": "code",
   "execution_count": 8,
   "metadata": {},
   "outputs": [],
   "source": [
    "cps2 = pd.read_sas('cps2.sas7bdat')"
   ]
  },
  {
   "cell_type": "code",
   "execution_count": 9,
   "metadata": {},
   "outputs": [
    {
     "name": "stdout",
     "output_type": "stream",
     "text": [
      "                            OLS Regression Results                            \n",
      "==============================================================================\n",
      "Dep. Variable:                   wage   R-squared:                       0.267\n",
      "Model:                            OLS   Adj. R-squared:                  0.265\n",
      "Method:                 Least Squares   F-statistic:                     120.9\n",
      "Date:                Tue, 16 Feb 2021   Prob (F-statistic):           9.25e-67\n",
      "Time:                        19:23:54   Log-Likelihood:                -3095.2\n",
      "No. Observations:                1000   AIC:                             6198.\n",
      "Df Residuals:                     996   BIC:                             6218.\n",
      "Df Model:                           3                                         \n",
      "Covariance Type:            nonrobust                                         \n",
      "==============================================================================\n",
      "                 coef    std err          t      P>|t|      [0.025      0.975]\n",
      "------------------------------------------------------------------------------\n",
      "Intercept     -9.9140      1.076     -9.217      0.000     -12.025      -7.803\n",
      "educ           1.2340      0.070     17.638      0.000       1.097       1.371\n",
      "exper          0.1332      0.015      8.748      0.000       0.103       0.163\n",
      "metro          1.5241      0.431      3.535      0.000       0.678       2.370\n",
      "==============================================================================\n",
      "Omnibus:                      413.085   Durbin-Watson:                   0.503\n",
      "Prob(Omnibus):                  0.000   Jarque-Bera (JB):             2855.007\n",
      "Skew:                           1.741   Prob(JB):                         0.00\n",
      "Kurtosis:                      10.509   Cond. No.                         159.\n",
      "==============================================================================\n",
      "\n",
      "Notes:\n",
      "[1] Standard Errors assume that the covariance matrix of the errors is correctly specified.\n"
     ]
    }
   ],
   "source": [
    "mdl_cps2 = smf.ols('wage~educ+exper+metro', data=cps2).fit()\n",
    "print(mdl_cps2.summary())"
   ]
  },
  {
   "cell_type": "code",
   "execution_count": 10,
   "metadata": {},
   "outputs": [
    {
     "name": "stdout",
     "output_type": "stream",
     "text": [
      "31.82373183678999\n"
     ]
    }
   ],
   "source": [
    "cps2_metro = cps2[cps2['metro']==1]\n",
    "\n",
    "mdl_cps2_metro = smf.ols('wage~educ+exper', data=cps2_metro).fit()\n",
    "\n",
    "print(mdl_cps2_metro.mse_resid)"
   ]
  },
  {
   "cell_type": "code",
   "execution_count": 11,
   "metadata": {},
   "outputs": [
    {
     "name": "stdout",
     "output_type": "stream",
     "text": [
      "15.242986453240592\n"
     ]
    }
   ],
   "source": [
    "cps2_rural = cps2[cps2['metro']==0]\n",
    "\n",
    "mdl_cps2_rural = smf.ols('wage~educ+exper', data=cps2_rural).fit()\n",
    "\n",
    "print(mdl_cps2_rural.mse_resid)"
   ]
  },
  {
   "cell_type": "markdown",
   "metadata": {},
   "source": [
    "### Note:\n",
    "\n",
    "- `OLSResult.mse_resid`: Mean squared error the model.\n",
    "\n",
    "$$\\frac{\\sum (\\hat{y}_i - \\bar{y})^2}{N-K}$$\n",
    "\n",
    "- `OLSResult.mse_model`: Mean squared error of the residuals.\n",
    "\n",
    "$$\\frac{\\sum e_i^2}{N-K}$$\n",
    "\n",
    "- `OLSResult.mse_total`: Mean squared error the model.\n",
    "\n",
    "$$\\frac{\\sum (y_i - \\bar{y})^2}{N-K}$$\n"
   ]
  },
  {
   "cell_type": "markdown",
   "metadata": {},
   "source": [
    "### 8.2.3 The Goldfeld-Quandt Text with Food expenditure regression"
   ]
  },
  {
   "cell_type": "code",
   "execution_count": 12,
   "metadata": {},
   "outputs": [],
   "source": [
    "food['Rank']=pd.qcut(food['income'], 2, labels=False)\n"
   ]
  },
  {
   "cell_type": "code",
   "execution_count": 13,
   "metadata": {},
   "outputs": [
    {
     "data": {
      "text/html": [
       "<div>\n",
       "<style scoped>\n",
       "    .dataframe tbody tr th:only-of-type {\n",
       "        vertical-align: middle;\n",
       "    }\n",
       "\n",
       "    .dataframe tbody tr th {\n",
       "        vertical-align: top;\n",
       "    }\n",
       "\n",
       "    .dataframe thead th {\n",
       "        text-align: right;\n",
       "    }\n",
       "</style>\n",
       "<table border=\"1\" class=\"dataframe\">\n",
       "  <thead>\n",
       "    <tr style=\"text-align: right;\">\n",
       "      <th></th>\n",
       "      <th>food_exp</th>\n",
       "      <th>income</th>\n",
       "      <th>e2</th>\n",
       "      <th>income2</th>\n",
       "      <th>Rank</th>\n",
       "    </tr>\n",
       "  </thead>\n",
       "  <tbody>\n",
       "    <tr>\n",
       "      <th>0</th>\n",
       "      <td>115.22</td>\n",
       "      <td>3.69</td>\n",
       "      <td>34.452023</td>\n",
       "      <td>13.6161</td>\n",
       "      <td>0</td>\n",
       "    </tr>\n",
       "    <tr>\n",
       "      <th>1</th>\n",
       "      <td>135.98</td>\n",
       "      <td>4.39</td>\n",
       "      <td>59.964353</td>\n",
       "      <td>19.2721</td>\n",
       "      <td>0</td>\n",
       "    </tr>\n",
       "    <tr>\n",
       "      <th>2</th>\n",
       "      <td>119.34</td>\n",
       "      <td>4.75</td>\n",
       "      <td>158.050309</td>\n",
       "      <td>22.5625</td>\n",
       "      <td>0</td>\n",
       "    </tr>\n",
       "    <tr>\n",
       "      <th>3</th>\n",
       "      <td>114.96</td>\n",
       "      <td>6.03</td>\n",
       "      <td>901.209353</td>\n",
       "      <td>36.3609</td>\n",
       "      <td>0</td>\n",
       "    </tr>\n",
       "    <tr>\n",
       "      <th>4</th>\n",
       "      <td>187.05</td>\n",
       "      <td>12.47</td>\n",
       "      <td>560.754232</td>\n",
       "      <td>155.5009</td>\n",
       "      <td>0</td>\n",
       "    </tr>\n",
       "    <tr>\n",
       "      <th>5</th>\n",
       "      <td>243.92</td>\n",
       "      <td>12.98</td>\n",
       "      <td>783.038901</td>\n",
       "      <td>168.4804</td>\n",
       "      <td>0</td>\n",
       "    </tr>\n",
       "    <tr>\n",
       "      <th>6</th>\n",
       "      <td>267.43</td>\n",
       "      <td>14.20</td>\n",
       "      <td>1523.892665</td>\n",
       "      <td>201.6400</td>\n",
       "      <td>0</td>\n",
       "    </tr>\n",
       "    <tr>\n",
       "      <th>7</th>\n",
       "      <td>238.71</td>\n",
       "      <td>14.76</td>\n",
       "      <td>21.156944</td>\n",
       "      <td>217.8576</td>\n",
       "      <td>0</td>\n",
       "    </tr>\n",
       "    <tr>\n",
       "      <th>8</th>\n",
       "      <td>295.94</td>\n",
       "      <td>15.32</td>\n",
       "      <td>3148.586587</td>\n",
       "      <td>234.7024</td>\n",
       "      <td>0</td>\n",
       "    </tr>\n",
       "    <tr>\n",
       "      <th>9</th>\n",
       "      <td>317.78</td>\n",
       "      <td>16.39</td>\n",
       "      <td>4492.746045</td>\n",
       "      <td>268.6321</td>\n",
       "      <td>0</td>\n",
       "    </tr>\n",
       "    <tr>\n",
       "      <th>10</th>\n",
       "      <td>216.00</td>\n",
       "      <td>17.35</td>\n",
       "      <td>1984.997211</td>\n",
       "      <td>301.0225</td>\n",
       "      <td>0</td>\n",
       "    </tr>\n",
       "    <tr>\n",
       "      <th>11</th>\n",
       "      <td>240.35</td>\n",
       "      <td>17.77</td>\n",
       "      <td>599.826595</td>\n",
       "      <td>315.7729</td>\n",
       "      <td>0</td>\n",
       "    </tr>\n",
       "    <tr>\n",
       "      <th>12</th>\n",
       "      <td>386.57</td>\n",
       "      <td>17.93</td>\n",
       "      <td>14422.832939</td>\n",
       "      <td>321.4849</td>\n",
       "      <td>0</td>\n",
       "    </tr>\n",
       "    <tr>\n",
       "      <th>13</th>\n",
       "      <td>261.53</td>\n",
       "      <td>18.43</td>\n",
       "      <td>100.996911</td>\n",
       "      <td>339.6649</td>\n",
       "      <td>0</td>\n",
       "    </tr>\n",
       "    <tr>\n",
       "      <th>14</th>\n",
       "      <td>249.34</td>\n",
       "      <td>18.55</td>\n",
       "      <td>550.600550</td>\n",
       "      <td>344.1025</td>\n",
       "      <td>0</td>\n",
       "    </tr>\n",
       "    <tr>\n",
       "      <th>15</th>\n",
       "      <td>309.87</td>\n",
       "      <td>18.80</td>\n",
       "      <td>1191.127164</td>\n",
       "      <td>353.4400</td>\n",
       "      <td>0</td>\n",
       "    </tr>\n",
       "    <tr>\n",
       "      <th>16</th>\n",
       "      <td>345.89</td>\n",
       "      <td>18.81</td>\n",
       "      <td>4960.471353</td>\n",
       "      <td>353.8161</td>\n",
       "      <td>0</td>\n",
       "    </tr>\n",
       "    <tr>\n",
       "      <th>17</th>\n",
       "      <td>165.54</td>\n",
       "      <td>19.04</td>\n",
       "      <td>12604.014938</td>\n",
       "      <td>362.5216</td>\n",
       "      <td>0</td>\n",
       "    </tr>\n",
       "    <tr>\n",
       "      <th>18</th>\n",
       "      <td>196.98</td>\n",
       "      <td>19.22</td>\n",
       "      <td>6833.558415</td>\n",
       "      <td>369.4084</td>\n",
       "      <td>0</td>\n",
       "    </tr>\n",
       "    <tr>\n",
       "      <th>19</th>\n",
       "      <td>395.26</td>\n",
       "      <td>19.93</td>\n",
       "      <td>11743.149563</td>\n",
       "      <td>397.2049</td>\n",
       "      <td>0</td>\n",
       "    </tr>\n",
       "    <tr>\n",
       "      <th>20</th>\n",
       "      <td>406.34</td>\n",
       "      <td>20.13</td>\n",
       "      <td>13783.672220</td>\n",
       "      <td>405.2169</td>\n",
       "      <td>1</td>\n",
       "    </tr>\n",
       "    <tr>\n",
       "      <th>21</th>\n",
       "      <td>171.92</td>\n",
       "      <td>20.33</td>\n",
       "      <td>14174.817737</td>\n",
       "      <td>413.3089</td>\n",
       "      <td>1</td>\n",
       "    </tr>\n",
       "    <tr>\n",
       "      <th>22</th>\n",
       "      <td>303.23</td>\n",
       "      <td>20.37</td>\n",
       "      <td>140.270167</td>\n",
       "      <td>414.9369</td>\n",
       "      <td>1</td>\n",
       "    </tr>\n",
       "    <tr>\n",
       "      <th>23</th>\n",
       "      <td>377.04</td>\n",
       "      <td>20.43</td>\n",
       "      <td>7231.970344</td>\n",
       "      <td>417.3849</td>\n",
       "      <td>1</td>\n",
       "    </tr>\n",
       "    <tr>\n",
       "      <th>24</th>\n",
       "      <td>194.35</td>\n",
       "      <td>21.45</td>\n",
       "      <td>11677.578186</td>\n",
       "      <td>460.1025</td>\n",
       "      <td>1</td>\n",
       "    </tr>\n",
       "    <tr>\n",
       "      <th>25</th>\n",
       "      <td>213.48</td>\n",
       "      <td>22.52</td>\n",
       "      <td>9971.452735</td>\n",
       "      <td>507.1504</td>\n",
       "      <td>1</td>\n",
       "    </tr>\n",
       "    <tr>\n",
       "      <th>26</th>\n",
       "      <td>293.87</td>\n",
       "      <td>22.55</td>\n",
       "      <td>390.989363</td>\n",
       "      <td>508.5025</td>\n",
       "      <td>1</td>\n",
       "    </tr>\n",
       "    <tr>\n",
       "      <th>27</th>\n",
       "      <td>259.61</td>\n",
       "      <td>22.86</td>\n",
       "      <td>3271.661570</td>\n",
       "      <td>522.5796</td>\n",
       "      <td>1</td>\n",
       "    </tr>\n",
       "    <tr>\n",
       "      <th>28</th>\n",
       "      <td>323.71</td>\n",
       "      <td>24.20</td>\n",
       "      <td>45.959747</td>\n",
       "      <td>585.6400</td>\n",
       "      <td>1</td>\n",
       "    </tr>\n",
       "    <tr>\n",
       "      <th>29</th>\n",
       "      <td>275.02</td>\n",
       "      <td>24.39</td>\n",
       "      <td>3295.815557</td>\n",
       "      <td>594.8721</td>\n",
       "      <td>1</td>\n",
       "    </tr>\n",
       "    <tr>\n",
       "      <th>30</th>\n",
       "      <td>109.71</td>\n",
       "      <td>24.42</td>\n",
       "      <td>49740.366202</td>\n",
       "      <td>596.3364</td>\n",
       "      <td>1</td>\n",
       "    </tr>\n",
       "    <tr>\n",
       "      <th>31</th>\n",
       "      <td>359.19</td>\n",
       "      <td>25.20</td>\n",
       "      <td>341.916903</td>\n",
       "      <td>635.0400</td>\n",
       "      <td>1</td>\n",
       "    </tr>\n",
       "    <tr>\n",
       "      <th>32</th>\n",
       "      <td>201.51</td>\n",
       "      <td>25.50</td>\n",
       "      <td>20235.602401</td>\n",
       "      <td>650.2500</td>\n",
       "      <td>1</td>\n",
       "    </tr>\n",
       "    <tr>\n",
       "      <th>33</th>\n",
       "      <td>460.36</td>\n",
       "      <td>26.61</td>\n",
       "      <td>11080.804142</td>\n",
       "      <td>708.0921</td>\n",
       "      <td>1</td>\n",
       "    </tr>\n",
       "    <tr>\n",
       "      <th>34</th>\n",
       "      <td>447.76</td>\n",
       "      <td>26.70</td>\n",
       "      <td>8417.425901</td>\n",
       "      <td>712.8900</td>\n",
       "      <td>1</td>\n",
       "    </tr>\n",
       "    <tr>\n",
       "      <th>35</th>\n",
       "      <td>482.55</td>\n",
       "      <td>27.14</td>\n",
       "      <td>14894.808191</td>\n",
       "      <td>736.5796</td>\n",
       "      <td>1</td>\n",
       "    </tr>\n",
       "    <tr>\n",
       "      <th>36</th>\n",
       "      <td>438.29</td>\n",
       "      <td>27.16</td>\n",
       "      <td>6018.671135</td>\n",
       "      <td>737.6656</td>\n",
       "      <td>1</td>\n",
       "    </tr>\n",
       "    <tr>\n",
       "      <th>37</th>\n",
       "      <td>587.66</td>\n",
       "      <td>28.62</td>\n",
       "      <td>44962.664820</td>\n",
       "      <td>819.1044</td>\n",
       "      <td>1</td>\n",
       "    </tr>\n",
       "    <tr>\n",
       "      <th>38</th>\n",
       "      <td>257.95</td>\n",
       "      <td>29.40</td>\n",
       "      <td>15782.772598</td>\n",
       "      <td>864.3600</td>\n",
       "      <td>1</td>\n",
       "    </tr>\n",
       "    <tr>\n",
       "      <th>39</th>\n",
       "      <td>375.73</td>\n",
       "      <td>33.40</td>\n",
       "      <td>2370.528857</td>\n",
       "      <td>1115.5600</td>\n",
       "      <td>1</td>\n",
       "    </tr>\n",
       "  </tbody>\n",
       "</table>\n",
       "</div>"
      ],
      "text/plain": [
       "    food_exp  income            e2    income2  Rank\n",
       "0     115.22    3.69     34.452023    13.6161     0\n",
       "1     135.98    4.39     59.964353    19.2721     0\n",
       "2     119.34    4.75    158.050309    22.5625     0\n",
       "3     114.96    6.03    901.209353    36.3609     0\n",
       "4     187.05   12.47    560.754232   155.5009     0\n",
       "5     243.92   12.98    783.038901   168.4804     0\n",
       "6     267.43   14.20   1523.892665   201.6400     0\n",
       "7     238.71   14.76     21.156944   217.8576     0\n",
       "8     295.94   15.32   3148.586587   234.7024     0\n",
       "9     317.78   16.39   4492.746045   268.6321     0\n",
       "10    216.00   17.35   1984.997211   301.0225     0\n",
       "11    240.35   17.77    599.826595   315.7729     0\n",
       "12    386.57   17.93  14422.832939   321.4849     0\n",
       "13    261.53   18.43    100.996911   339.6649     0\n",
       "14    249.34   18.55    550.600550   344.1025     0\n",
       "15    309.87   18.80   1191.127164   353.4400     0\n",
       "16    345.89   18.81   4960.471353   353.8161     0\n",
       "17    165.54   19.04  12604.014938   362.5216     0\n",
       "18    196.98   19.22   6833.558415   369.4084     0\n",
       "19    395.26   19.93  11743.149563   397.2049     0\n",
       "20    406.34   20.13  13783.672220   405.2169     1\n",
       "21    171.92   20.33  14174.817737   413.3089     1\n",
       "22    303.23   20.37    140.270167   414.9369     1\n",
       "23    377.04   20.43   7231.970344   417.3849     1\n",
       "24    194.35   21.45  11677.578186   460.1025     1\n",
       "25    213.48   22.52   9971.452735   507.1504     1\n",
       "26    293.87   22.55    390.989363   508.5025     1\n",
       "27    259.61   22.86   3271.661570   522.5796     1\n",
       "28    323.71   24.20     45.959747   585.6400     1\n",
       "29    275.02   24.39   3295.815557   594.8721     1\n",
       "30    109.71   24.42  49740.366202   596.3364     1\n",
       "31    359.19   25.20    341.916903   635.0400     1\n",
       "32    201.51   25.50  20235.602401   650.2500     1\n",
       "33    460.36   26.61  11080.804142   708.0921     1\n",
       "34    447.76   26.70   8417.425901   712.8900     1\n",
       "35    482.55   27.14  14894.808191   736.5796     1\n",
       "36    438.29   27.16   6018.671135   737.6656     1\n",
       "37    587.66   28.62  44962.664820   819.1044     1\n",
       "38    257.95   29.40  15782.772598   864.3600     1\n",
       "39    375.73   33.40   2370.528857  1115.5600     1"
      ]
     },
     "execution_count": 13,
     "metadata": {},
     "output_type": "execute_result"
    }
   ],
   "source": [
    "food"
   ]
  },
  {
   "cell_type": "code",
   "execution_count": 14,
   "metadata": {},
   "outputs": [
    {
     "name": "stdout",
     "output_type": "stream",
     "text": [
      "3574.771749564423\n"
     ]
    }
   ],
   "source": [
    "food_0 = food[food['Rank']==0]\n",
    "\n",
    "mdl_food_0 = smf.ols('food_exp~income', data=food_0).fit()\n",
    "\n",
    "print(mdl_food_0.mse_resid)"
   ]
  },
  {
   "cell_type": "code",
   "execution_count": 15,
   "metadata": {},
   "outputs": [
    {
     "name": "stdout",
     "output_type": "stream",
     "text": [
      "12921.926616162178\n"
     ]
    }
   ],
   "source": [
    "food_1 = food[food['Rank']==1]\n",
    "\n",
    "mdl_food_1 = smf.ols('food_exp~income', data=food_1).fit()\n",
    "\n",
    "print(mdl_food_1.mse_resid)"
   ]
  },
  {
   "cell_type": "markdown",
   "metadata": {},
   "source": [
    "### Heteroskedasticity-consistent standand errors: HC0\n",
    "\n",
    "This is equivalent to SAS's `/acov` in `proc reg`"
   ]
  },
  {
   "cell_type": "code",
   "execution_count": 16,
   "metadata": {},
   "outputs": [
    {
     "name": "stdout",
     "output_type": "stream",
     "text": [
      "                            OLS Regression Results                            \n",
      "==============================================================================\n",
      "Dep. Variable:               food_exp   R-squared:                       0.385\n",
      "Model:                            OLS   Adj. R-squared:                  0.369\n",
      "Method:                 Least Squares   F-statistic:                     33.53\n",
      "Date:                Tue, 16 Feb 2021   Prob (F-statistic):           1.10e-06\n",
      "Time:                        19:23:54   Log-Likelihood:                -235.51\n",
      "No. Observations:                  40   AIC:                             475.0\n",
      "Df Residuals:                      38   BIC:                             478.4\n",
      "Df Model:                           1                                         \n",
      "Covariance Type:                  HC0                                         \n",
      "==============================================================================\n",
      "                 coef    std err          z      P>|z|      [0.025      0.975]\n",
      "------------------------------------------------------------------------------\n",
      "Intercept     83.4160     26.768      3.116      0.002      30.951     135.881\n",
      "income        10.2096      1.763      5.790      0.000       6.754      13.666\n",
      "==============================================================================\n",
      "Omnibus:                        0.277   Durbin-Watson:                   1.894\n",
      "Prob(Omnibus):                  0.870   Jarque-Bera (JB):                0.063\n",
      "Skew:                          -0.097   Prob(JB):                        0.969\n",
      "Kurtosis:                       2.989   Cond. No.                         63.7\n",
      "==============================================================================\n",
      "\n",
      "Notes:\n",
      "[1] Standard Errors are heteroscedasticity robust (HC0)\n"
     ]
    }
   ],
   "source": [
    "mdl_food_HC0 = smf.ols('food_exp~income', data=food).fit(cov_type='HC0')\n",
    "print(mdl_food_HC0.summary())"
   ]
  },
  {
   "cell_type": "markdown",
   "metadata": {},
   "source": [
    "### White Standard Error\n",
    "\n",
    "This is the one adopted by the textbook. Its SAS equivalent is `proc surveyreg`"
   ]
  },
  {
   "cell_type": "code",
   "execution_count": 17,
   "metadata": {},
   "outputs": [
    {
     "name": "stdout",
     "output_type": "stream",
     "text": [
      "                            OLS Regression Results                            \n",
      "==============================================================================\n",
      "Dep. Variable:               food_exp   R-squared:                       0.385\n",
      "Model:                            OLS   Adj. R-squared:                  0.369\n",
      "Method:                 Least Squares   F-statistic:                     31.85\n",
      "Date:                Tue, 16 Feb 2021   Prob (F-statistic):           1.76e-06\n",
      "Time:                        19:23:54   Log-Likelihood:                -235.51\n",
      "No. Observations:                  40   AIC:                             475.0\n",
      "Df Residuals:                      38   BIC:                             478.4\n",
      "Df Model:                           1                                         \n",
      "Covariance Type:                  HC1                                         \n",
      "==============================================================================\n",
      "                 coef    std err          z      P>|z|      [0.025      0.975]\n",
      "------------------------------------------------------------------------------\n",
      "Intercept     83.4160     27.464      3.037      0.002      29.588     137.244\n",
      "income        10.2096      1.809      5.644      0.000       6.664      13.755\n",
      "==============================================================================\n",
      "Omnibus:                        0.277   Durbin-Watson:                   1.894\n",
      "Prob(Omnibus):                  0.870   Jarque-Bera (JB):                0.063\n",
      "Skew:                          -0.097   Prob(JB):                        0.969\n",
      "Kurtosis:                       2.989   Cond. No.                         63.7\n",
      "==============================================================================\n",
      "\n",
      "Notes:\n",
      "[1] Standard Errors are heteroscedasticity robust (HC1)\n"
     ]
    }
   ],
   "source": [
    "mdl_food_HC1 = smf.ols('food_exp~income', data=food).fit(cov_type='HC1')\n",
    "print(mdl_food_HC1.summary())"
   ]
  },
  {
   "cell_type": "markdown",
   "metadata": {},
   "source": [
    "### 8.4.1c GLS for Food Expenditure Estimates - Variance is known"
   ]
  },
  {
   "cell_type": "code",
   "execution_count": 18,
   "metadata": {},
   "outputs": [],
   "source": [
    "food['ystar'] = food['food_exp']/np.sqrt(food['income'])\n",
    "food['x1star'] = 1/np.sqrt(food['income'])\n",
    "food['x2star'] = np.sqrt(food['income'])"
   ]
  },
  {
   "cell_type": "code",
   "execution_count": 19,
   "metadata": {},
   "outputs": [
    {
     "name": "stdout",
     "output_type": "stream",
     "text": [
      "   food_exp  income          e2   income2  Rank      ystar    x1star    x2star\n",
      "0    115.22    3.69   34.452023   13.6161     0  59.981136  0.520579  1.920937\n",
      "1    135.98    4.39   59.964353   19.2721     0  64.899713  0.477274  2.095233\n",
      "2    119.34    4.75  158.050309   22.5625     0  54.756947  0.458831  2.179449\n",
      "3    114.96    6.03  901.209353   36.3609     0  46.815331  0.407231  2.455606\n",
      "4    187.05   12.47  560.754232  155.5009     0  52.969331  0.283183  3.531289\n"
     ]
    }
   ],
   "source": [
    "print(food.head())"
   ]
  },
  {
   "cell_type": "code",
   "execution_count": 20,
   "metadata": {},
   "outputs": [
    {
     "name": "stdout",
     "output_type": "stream",
     "text": [
      "                                 OLS Regression Results                                \n",
      "=======================================================================================\n",
      "Dep. Variable:                  ystar   R-squared (uncentered):                   0.926\n",
      "Model:                            OLS   Adj. R-squared (uncentered):              0.922\n",
      "Method:                 Least Squares   F-statistic:                              238.8\n",
      "Date:                Tue, 16 Feb 2021   Prob (F-statistic):                    3.03e-22\n",
      "Time:                        19:23:54   Log-Likelihood:                         -172.98\n",
      "No. Observations:                  40   AIC:                                      350.0\n",
      "Df Residuals:                      38   BIC:                                      353.3\n",
      "Df Model:                           2                                                  \n",
      "Covariance Type:            nonrobust                                                  \n",
      "==============================================================================\n",
      "                 coef    std err          t      P>|t|      [0.025      0.975]\n",
      "------------------------------------------------------------------------------\n",
      "x1star        78.6841     23.789      3.308      0.002      30.526     126.842\n",
      "x2star        10.4510      1.386      7.541      0.000       7.645      13.257\n",
      "==============================================================================\n",
      "Omnibus:                        0.260   Durbin-Watson:                   1.906\n",
      "Prob(Omnibus):                  0.878   Jarque-Bera (JB):                0.422\n",
      "Skew:                          -0.153   Prob(JB):                        0.810\n",
      "Kurtosis:                       2.600   Cond. No.                         35.6\n",
      "==============================================================================\n",
      "\n",
      "Notes:\n",
      "[1] R² is computed without centering (uncentered) since the model does not contain a constant.\n",
      "[2] Standard Errors assume that the covariance matrix of the errors is correctly specified.\n"
     ]
    }
   ],
   "source": [
    "mdl_food_GLS1 = smf.ols('ystar~x1star+x2star-1', data=food).fit()\n",
    "\n",
    "print(mdl_food_GLS1.summary())"
   ]
  },
  {
   "cell_type": "markdown",
   "metadata": {},
   "source": [
    "### 8.5 GLS for Food Expenditure Estimates - Unknown Form of Variance\n",
    "\n",
    "We use the `food` dataframe from earlier, which consists `e2`."
   ]
  },
  {
   "cell_type": "code",
   "execution_count": 21,
   "metadata": {},
   "outputs": [],
   "source": [
    "mdl_GLS_est = smf.ols('np.log(e2)~np.log(income)', data=food).fit()"
   ]
  },
  {
   "cell_type": "code",
   "execution_count": 22,
   "metadata": {},
   "outputs": [],
   "source": [
    "food['yhat'] = mdl_GLS_est.predict()\n",
    "food['sig'] = np.sqrt(np.exp(food['yhat']))"
   ]
  },
  {
   "cell_type": "code",
   "execution_count": 23,
   "metadata": {},
   "outputs": [
    {
     "name": "stdout",
     "output_type": "stream",
     "text": [
      "   food_exp  income          e2   income2  Rank      ystar    x1star  \\\n",
      "0    115.22    3.69   34.452023   13.6161     0  59.981136  0.520579   \n",
      "1    135.98    4.39   59.964353   19.2721     0  64.899713  0.477274   \n",
      "2    119.34    4.75  158.050309   22.5625     0  54.756947  0.458831   \n",
      "3    114.96    6.03  901.209353   36.3609     0  46.815331  0.407231   \n",
      "4    187.05   12.47  560.754232  155.5009     0  52.969331  0.283183   \n",
      "\n",
      "     x2star      yhat        sig  \n",
      "0  1.920937  3.978912   7.311554  \n",
      "1  2.095233  4.383507   8.950894  \n",
      "2  2.179449  4.567087   9.811384  \n",
      "3  2.455606  5.122849  12.954255  \n",
      "4  3.531289  6.815224  30.193058  \n"
     ]
    }
   ],
   "source": [
    "print(food.head())"
   ]
  },
  {
   "cell_type": "code",
   "execution_count": 24,
   "metadata": {},
   "outputs": [],
   "source": [
    "food['ystar_GLS'] = food['food_exp']/food['sig']\n",
    "food['x1star_GLS'] = 1/food['sig']\n",
    "food['x2star_GLS'] = food['income']/food['sig']"
   ]
  },
  {
   "cell_type": "code",
   "execution_count": 25,
   "metadata": {},
   "outputs": [
    {
     "name": "stdout",
     "output_type": "stream",
     "text": [
      "                                 OLS Regression Results                                \n",
      "=======================================================================================\n",
      "Dep. Variable:              ystar_GLS   R-squared (uncentered):                   0.952\n",
      "Model:                            OLS   Adj. R-squared (uncentered):              0.950\n",
      "Method:                 Least Squares   F-statistic:                              379.7\n",
      "Date:                Tue, 16 Feb 2021   Prob (F-statistic):                    7.66e-26\n",
      "Time:                        19:23:54   Log-Likelihood:                         -73.178\n",
      "No. Observations:                  40   AIC:                                      150.4\n",
      "Df Residuals:                      38   BIC:                                      153.7\n",
      "Df Model:                           2                                                  \n",
      "Covariance Type:            nonrobust                                                  \n",
      "==============================================================================\n",
      "                 coef    std err          t      P>|t|      [0.025      0.975]\n",
      "------------------------------------------------------------------------------\n",
      "x1star_GLS    76.0538      9.713      7.830      0.000      56.390      95.718\n",
      "x2star_GLS    10.6335      0.972     10.945      0.000       8.667      12.600\n",
      "==============================================================================\n",
      "Omnibus:                        2.375   Durbin-Watson:                   1.905\n",
      "Prob(Omnibus):                  0.305   Jarque-Bera (JB):                1.409\n",
      "Skew:                          -0.148   Prob(JB):                        0.494\n",
      "Kurtosis:                       2.129   Cond. No.                         15.7\n",
      "==============================================================================\n",
      "\n",
      "Notes:\n",
      "[1] R² is computed without centering (uncentered) since the model does not contain a constant.\n",
      "[2] Standard Errors assume that the covariance matrix of the errors is correctly specified.\n"
     ]
    }
   ],
   "source": [
    "mdl_GLS = smf.ols('ystar_GLS~x1star_GLS+x2star_GLS-1', data=food).fit()\n",
    "print(mdl_GLS.summary())"
   ]
  }
 ],
 "metadata": {
  "kernelspec": {
   "display_name": "Python 3",
   "language": "python",
   "name": "python3"
  },
  "language_info": {
   "codemirror_mode": {
    "name": "ipython",
    "version": 3
   },
   "file_extension": ".py",
   "mimetype": "text/x-python",
   "name": "python",
   "nbconvert_exporter": "python",
   "pygments_lexer": "ipython3",
   "version": "3.8.5"
  }
 },
 "nbformat": 4,
 "nbformat_minor": 2
}
