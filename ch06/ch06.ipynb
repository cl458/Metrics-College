{
 "cells": [
  {
   "cell_type": "markdown",
   "metadata": {},
   "source": [
    "### Further Inference in the Multiple Regression Model"
   ]
  },
  {
   "cell_type": "markdown",
   "metadata": {},
   "source": [
    "### Big Andy's Burger Barn"
   ]
  },
  {
   "cell_type": "code",
   "execution_count": 1,
   "metadata": {},
   "outputs": [],
   "source": [
    "import pandas as pd\n",
    "import numpy as np\n",
    "import statsmodels.formula.api as smf\n",
    "import matplotlib.pyplot as plt\n"
   ]
  },
  {
   "cell_type": "code",
   "execution_count": 2,
   "metadata": {},
   "outputs": [],
   "source": [
    "andy = pd.read_sas('andy.sas7bdat')\n",
    "\n",
    "andy['advert2']=andy['advert']**2"
   ]
  },
  {
   "cell_type": "code",
   "execution_count": 3,
   "metadata": {},
   "outputs": [
    {
     "name": "stdout",
     "output_type": "stream",
     "text": [
      "   sales  price  advert  advert2\n",
      "0   73.2   5.69     1.3     1.69\n",
      "1   71.8   6.49     2.9     8.41\n",
      "2   62.4   5.63     0.8     0.64\n",
      "3   67.4   6.22     0.7     0.49\n",
      "4   89.3   5.02     1.5     2.25\n"
     ]
    }
   ],
   "source": [
    "print(andy.head())"
   ]
  },
  {
   "cell_type": "code",
   "execution_count": 4,
   "metadata": {},
   "outputs": [
    {
     "name": "stdout",
     "output_type": "stream",
     "text": [
      "                            OLS Regression Results                            \n",
      "==============================================================================\n",
      "Dep. Variable:                  sales   R-squared:                       0.508\n",
      "Model:                            OLS   Adj. R-squared:                  0.487\n",
      "Method:                 Least Squares   F-statistic:                     24.46\n",
      "Date:                Tue, 16 Feb 2021   Prob (F-statistic):           5.60e-11\n",
      "Time:                        12:21:25   Log-Likelihood:                -219.55\n",
      "No. Observations:                  75   AIC:                             447.1\n",
      "Df Residuals:                      71   BIC:                             456.4\n",
      "Df Model:                           3                                         \n",
      "Covariance Type:            nonrobust                                         \n",
      "==============================================================================\n",
      "                 coef    std err          t      P>|t|      [0.025      0.975]\n",
      "------------------------------------------------------------------------------\n",
      "Intercept    109.7190      6.799     16.137      0.000      96.162     123.276\n",
      "price         -7.6400      1.046     -7.304      0.000      -9.726      -5.554\n",
      "advert        12.1512      3.556      3.417      0.001       5.060      19.242\n",
      "advert2       -2.7680      0.941     -2.943      0.004      -4.644      -0.892\n",
      "==============================================================================\n",
      "Omnibus:                        1.004   Durbin-Watson:                   2.043\n",
      "Prob(Omnibus):                  0.605   Jarque-Bera (JB):                0.455\n",
      "Skew:                          -0.088   Prob(JB):                        0.797\n",
      "Kurtosis:                       3.339   Cond. No.                         101.\n",
      "==============================================================================\n",
      "\n",
      "Notes:\n",
      "[1] Standard Errors assume that the covariance matrix of the errors is correctly specified.\n"
     ]
    }
   ],
   "source": [
    "mdl_andy1 = smf.ols('sales~price+advert+advert2', data=andy).fit()\n",
    "print(mdl_andy1.summary())"
   ]
  },
  {
   "cell_type": "code",
   "execution_count": 5,
   "metadata": {},
   "outputs": [
    {
     "name": "stdout",
     "output_type": "stream",
     "text": [
      "                            OLS Regression Results                            \n",
      "==============================================================================\n",
      "Dep. Variable:                  sales   R-squared:                       0.391\n",
      "Model:                            OLS   Adj. R-squared:                  0.383\n",
      "Method:                 Least Squares   F-statistic:                     46.93\n",
      "Date:                Tue, 16 Feb 2021   Prob (F-statistic):           1.97e-09\n",
      "Time:                        12:21:25   Log-Likelihood:                -227.55\n",
      "No. Observations:                  75   AIC:                             459.1\n",
      "Df Residuals:                      73   BIC:                             463.7\n",
      "Df Model:                           1                                         \n",
      "Covariance Type:            nonrobust                                         \n",
      "==============================================================================\n",
      "                 coef    std err          t      P>|t|      [0.025      0.975]\n",
      "------------------------------------------------------------------------------\n",
      "Intercept    121.9002      6.526     18.678      0.000     108.893     134.907\n",
      "price         -7.8291      1.143     -6.850      0.000     -10.107      -5.551\n",
      "==============================================================================\n",
      "Omnibus:                        2.490   Durbin-Watson:                   2.225\n",
      "Prob(Omnibus):                  0.288   Jarque-Bera (JB):                1.835\n",
      "Skew:                          -0.360   Prob(JB):                        0.399\n",
      "Kurtosis:                       3.260   Cond. No.                         65.3\n",
      "==============================================================================\n",
      "\n",
      "Notes:\n",
      "[1] Standard Errors assume that the covariance matrix of the errors is correctly specified.\n"
     ]
    }
   ],
   "source": [
    "mdl_andy2 = smf.ols('sales~price', data=andy).fit()\n",
    "print(mdl_andy2.summary())"
   ]
  },
  {
   "cell_type": "code",
   "execution_count": 6,
   "metadata": {},
   "outputs": [
    {
     "name": "stdout",
     "output_type": "stream",
     "text": [
      "                            OLS Regression Results                            \n",
      "==============================================================================\n",
      "Dep. Variable:                  sales   R-squared:                       0.139\n",
      "Model:                            OLS   Adj. R-squared:                  0.115\n",
      "Method:                 Least Squares   F-statistic:                     5.797\n",
      "Date:                Tue, 16 Feb 2021   Prob (F-statistic):            0.00463\n",
      "Time:                        12:21:26   Log-Likelihood:                -240.57\n",
      "No. Observations:                  75   AIC:                             487.1\n",
      "Df Residuals:                      72   BIC:                             494.1\n",
      "Df Model:                           2                                         \n",
      "Covariance Type:            nonrobust                                         \n",
      "==============================================================================\n",
      "                 coef    std err          t      P>|t|      [0.025      0.975]\n",
      "------------------------------------------------------------------------------\n",
      "Intercept     64.8415      3.827     16.943      0.000      57.212      72.470\n",
      "advert        14.2492      4.658      3.059      0.003       4.963      23.535\n",
      "advert2       -3.3659      1.231     -2.733      0.008      -5.821      -0.911\n",
      "==============================================================================\n",
      "Omnibus:                        6.275   Durbin-Watson:                   2.106\n",
      "Prob(Omnibus):                  0.043   Jarque-Bera (JB):                2.553\n",
      "Skew:                          -0.013   Prob(JB):                        0.279\n",
      "Kurtosis:                       2.097   Cond. No.                         48.0\n",
      "==============================================================================\n",
      "\n",
      "Notes:\n",
      "[1] Standard Errors assume that the covariance matrix of the errors is correctly specified.\n"
     ]
    }
   ],
   "source": [
    "mdl_andy3 = smf.ols('sales~advert+advert2', data=andy).fit()\n",
    "print(mdl_andy3.summary())"
   ]
  },
  {
   "cell_type": "markdown",
   "metadata": {},
   "source": [
    "### Family Income Question"
   ]
  },
  {
   "cell_type": "code",
   "execution_count": 7,
   "metadata": {},
   "outputs": [],
   "source": [
    "edu_inc = pd.read_sas('edu_inc.sas7bdat')"
   ]
  },
  {
   "cell_type": "code",
   "execution_count": 8,
   "metadata": {},
   "outputs": [
    {
     "name": "stdout",
     "output_type": "stream",
     "text": [
      "     faminc  hedu  wedu  kl6        x5        x6\n",
      "0   61651.8  12.0  12.0  1.0  11.01355  23.44493\n",
      "1   82404.0   9.0  12.0  0.0   9.37219  22.59274\n",
      "2   79531.2  12.0  12.0  1.0  12.42620  23.16608\n",
      "3   27594.0  10.0  12.0  0.0  10.25664  23.01776\n",
      "4  103194.0  12.0  14.0  1.0  11.79830  25.61441\n"
     ]
    }
   ],
   "source": [
    "print(edu_inc.head())"
   ]
  },
  {
   "cell_type": "code",
   "execution_count": 9,
   "metadata": {},
   "outputs": [
    {
     "name": "stdout",
     "output_type": "stream",
     "text": [
      "                            OLS Regression Results                            \n",
      "==============================================================================\n",
      "Dep. Variable:                 faminc   R-squared:                       0.161\n",
      "Model:                            OLS   Adj. R-squared:                  0.157\n",
      "Method:                 Least Squares   F-statistic:                     40.87\n",
      "Date:                Tue, 16 Feb 2021   Prob (F-statistic):           5.84e-17\n",
      "Time:                        12:21:26   Log-Likelihood:                -5146.5\n",
      "No. Observations:                 428   AIC:                         1.030e+04\n",
      "Df Residuals:                     425   BIC:                         1.031e+04\n",
      "Df Model:                           2                                         \n",
      "Covariance Type:            nonrobust                                         \n",
      "==============================================================================\n",
      "                 coef    std err          t      P>|t|      [0.025      0.975]\n",
      "------------------------------------------------------------------------------\n",
      "Intercept  -5533.6288   1.12e+04     -0.493      0.622   -2.76e+04    1.65e+04\n",
      "hedu        3131.5092    802.908      3.900      0.000    1553.344    4709.674\n",
      "wedu        4522.6412   1066.327      4.241      0.000    2426.711    6618.572\n",
      "==============================================================================\n",
      "Omnibus:                      177.508   Durbin-Watson:                   1.838\n",
      "Prob(Omnibus):                  0.000   Jarque-Bera (JB):              930.295\n",
      "Skew:                           1.730   Prob(JB):                    9.75e-203\n",
      "Kurtosis:                       9.340   Cond. No.                         105.\n",
      "==============================================================================\n",
      "\n",
      "Notes:\n",
      "[1] Standard Errors assume that the covariance matrix of the errors is correctly specified.\n"
     ]
    }
   ],
   "source": [
    "mdl_edu_inc1 = smf.ols('faminc~hedu+wedu', data=edu_inc).fit()\n",
    "print(mdl_edu_inc1.summary())"
   ]
  },
  {
   "cell_type": "code",
   "execution_count": 10,
   "metadata": {},
   "outputs": [
    {
     "name": "stdout",
     "output_type": "stream",
     "text": [
      "                            OLS Regression Results                            \n",
      "==============================================================================\n",
      "Dep. Variable:                 faminc   R-squared:                       0.126\n",
      "Model:                            OLS   Adj. R-squared:                  0.124\n",
      "Method:                 Least Squares   F-statistic:                     61.30\n",
      "Date:                Tue, 16 Feb 2021   Prob (F-statistic):           3.92e-14\n",
      "Time:                        12:21:26   Log-Likelihood:                -5155.3\n",
      "No. Observations:                 428   AIC:                         1.031e+04\n",
      "Df Residuals:                     426   BIC:                         1.032e+04\n",
      "Df Model:                           1                                         \n",
      "Covariance Type:            nonrobust                                         \n",
      "==============================================================================\n",
      "                 coef    std err          t      P>|t|      [0.025      0.975]\n",
      "------------------------------------------------------------------------------\n",
      "Intercept   2.619e+04   8541.108      3.066      0.002    9403.309     4.3e+04\n",
      "hedu        5155.4835    658.457      7.830      0.000    3861.254    6449.713\n",
      "==============================================================================\n",
      "Omnibus:                      192.828   Durbin-Watson:                   1.824\n",
      "Prob(Omnibus):                  0.000   Jarque-Bera (JB):             1116.883\n",
      "Skew:                           1.869   Prob(JB):                    2.96e-243\n",
      "Kurtosis:                       9.975   Cond. No.                         55.8\n",
      "==============================================================================\n",
      "\n",
      "Notes:\n",
      "[1] Standard Errors assume that the covariance matrix of the errors is correctly specified.\n"
     ]
    }
   ],
   "source": [
    "mdl_edu_inc2 = smf.ols('faminc~hedu', data=edu_inc).fit()\n",
    "print(mdl_edu_inc2.summary())"
   ]
  },
  {
   "cell_type": "code",
   "execution_count": 11,
   "metadata": {},
   "outputs": [
    {
     "name": "stdout",
     "output_type": "stream",
     "text": [
      "                            OLS Regression Results                            \n",
      "==============================================================================\n",
      "Dep. Variable:                 faminc   R-squared:                       0.177\n",
      "Model:                            OLS   Adj. R-squared:                  0.171\n",
      "Method:                 Least Squares   F-statistic:                     30.43\n",
      "Date:                Tue, 16 Feb 2021   Prob (F-statistic):           7.77e-18\n",
      "Time:                        12:21:26   Log-Likelihood:                -5142.4\n",
      "No. Observations:                 428   AIC:                         1.029e+04\n",
      "Df Residuals:                     424   BIC:                         1.031e+04\n",
      "Df Model:                           3                                         \n",
      "Covariance Type:            nonrobust                                         \n",
      "==============================================================================\n",
      "                 coef    std err          t      P>|t|      [0.025      0.975]\n",
      "------------------------------------------------------------------------------\n",
      "Intercept  -7755.3296   1.12e+04     -0.695      0.488   -2.97e+04    1.42e+04\n",
      "hedu        3211.5256    796.703      4.031      0.000    1645.547    4777.504\n",
      "wedu        4776.9075   1061.164      4.502      0.000    2691.111    6862.704\n",
      "kl6        -1.431e+04   5003.928     -2.860      0.004   -2.41e+04   -4475.326\n",
      "==============================================================================\n",
      "Omnibus:                      187.344   Durbin-Watson:                   1.813\n",
      "Prob(Omnibus):                  0.000   Jarque-Bera (JB):             1083.922\n",
      "Skew:                           1.804   Prob(JB):                    4.26e-236\n",
      "Kurtosis:                       9.911   Cond. No.                         105.\n",
      "==============================================================================\n",
      "\n",
      "Notes:\n",
      "[1] Standard Errors assume that the covariance matrix of the errors is correctly specified.\n"
     ]
    }
   ],
   "source": [
    "mdl_edu_inc3 = smf.ols('faminc~hedu+wedu+kl6', data=edu_inc).fit()\n",
    "print(mdl_edu_inc3.summary())"
   ]
  },
  {
   "cell_type": "code",
   "execution_count": 12,
   "metadata": {},
   "outputs": [
    {
     "name": "stdout",
     "output_type": "stream",
     "text": [
      "                            OLS Regression Results                            \n",
      "==============================================================================\n",
      "Dep. Variable:                 faminc   R-squared:                       0.178\n",
      "Model:                            OLS   Adj. R-squared:                  0.168\n",
      "Method:                 Least Squares   F-statistic:                     18.25\n",
      "Date:                Tue, 16 Feb 2021   Prob (F-statistic):           2.07e-16\n",
      "Time:                        12:21:26   Log-Likelihood:                -5142.2\n",
      "No. Observations:                 428   AIC:                         1.030e+04\n",
      "Df Residuals:                     422   BIC:                         1.032e+04\n",
      "Df Model:                           5                                         \n",
      "Covariance Type:            nonrobust                                         \n",
      "==============================================================================\n",
      "                 coef    std err          t      P>|t|      [0.025      0.975]\n",
      "------------------------------------------------------------------------------\n",
      "Intercept  -7558.6131   1.12e+04     -0.675      0.500   -2.96e+04    1.44e+04\n",
      "hedu        3339.7921   1250.039      2.672      0.008     882.713    5796.871\n",
      "wedu        5868.6772   2278.067      2.576      0.010    1390.905    1.03e+04\n",
      "kl6         -1.42e+04   5043.720     -2.815      0.005   -2.41e+04   -4286.242\n",
      "x5           888.8426   2242.491      0.396      0.692   -3519.001    5296.686\n",
      "x6         -1067.1856   1981.685     -0.539      0.590   -4962.389    2828.018\n",
      "==============================================================================\n",
      "Omnibus:                      186.536   Durbin-Watson:                   1.812\n",
      "Prob(Omnibus):                  0.000   Jarque-Bera (JB):             1074.688\n",
      "Skew:                           1.797   Prob(JB):                    4.31e-234\n",
      "Kurtosis:                       9.881   Cond. No.                         196.\n",
      "==============================================================================\n",
      "\n",
      "Notes:\n",
      "[1] Standard Errors assume that the covariance matrix of the errors is correctly specified.\n"
     ]
    }
   ],
   "source": [
    "mdl_edu_inc4 = smf.ols('faminc~hedu+wedu+kl6+x5+x6', data=edu_inc).fit()\n",
    "print(mdl_edu_inc4.summary())"
   ]
  },
  {
   "cell_type": "code",
   "execution_count": 13,
   "metadata": {},
   "outputs": [
    {
     "name": "stdout",
     "output_type": "stream",
     "text": [
      "          faminc      hedu      wedu       kl6        x5        x6\n",
      "faminc  1.000000  0.354684  0.362328 -0.071956  0.289817  0.351366\n",
      "hedu    0.354684  1.000000  0.594343  0.104877  0.836168  0.820563\n",
      "wedu    0.362328  0.594343  1.000000  0.129340  0.517798  0.799306\n",
      "kl6    -0.071956  0.104877  0.129340  1.000000  0.148742  0.159522\n",
      "x5      0.289817  0.836168  0.517798  0.148742  1.000000  0.900206\n",
      "x6      0.351366  0.820563  0.799306  0.159522  0.900206  1.000000\n"
     ]
    }
   ],
   "source": [
    "print(edu_inc[['faminc', 'hedu', 'wedu', 'kl6', 'x5','x6']].corr())"
   ]
  },
  {
   "cell_type": "markdown",
   "metadata": {},
   "source": [
    "### Multicollinearity\n",
    "\n",
    "### Fuel Efficiency Problem with `cars`"
   ]
  },
  {
   "cell_type": "code",
   "execution_count": 14,
   "metadata": {},
   "outputs": [],
   "source": [
    "cars = pd.read_sas('cars.sas7bdat')"
   ]
  },
  {
   "cell_type": "code",
   "execution_count": 15,
   "metadata": {},
   "outputs": [
    {
     "name": "stdout",
     "output_type": "stream",
     "text": [
      "    mpg  cyl    eng     wgt\n",
      "0  18.0  8.0  307.0  3504.0\n",
      "1  15.0  8.0  350.0  3693.0\n",
      "2  18.0  8.0  318.0  3436.0\n",
      "3  16.0  8.0  304.0  3433.0\n",
      "4  17.0  8.0  302.0  3449.0\n"
     ]
    }
   ],
   "source": [
    "print(cars.head())"
   ]
  },
  {
   "cell_type": "code",
   "execution_count": 16,
   "metadata": {},
   "outputs": [
    {
     "name": "stdout",
     "output_type": "stream",
     "text": [
      "                            OLS Regression Results                            \n",
      "==============================================================================\n",
      "Dep. Variable:                    mpg   R-squared:                       0.605\n",
      "Model:                            OLS   Adj. R-squared:                  0.604\n",
      "Method:                 Least Squares   F-statistic:                     596.6\n",
      "Date:                Tue, 16 Feb 2021   Prob (F-statistic):           1.31e-80\n",
      "Time:                        12:21:26   Log-Likelihood:                -1179.3\n",
      "No. Observations:                 392   AIC:                             2363.\n",
      "Df Residuals:                     390   BIC:                             2371.\n",
      "Df Model:                           1                                         \n",
      "Covariance Type:            nonrobust                                         \n",
      "==============================================================================\n",
      "                 coef    std err          t      P>|t|      [0.025      0.975]\n",
      "------------------------------------------------------------------------------\n",
      "Intercept     42.9155      0.835     51.404      0.000      41.274      44.557\n",
      "cyl           -3.5581      0.146    -24.425      0.000      -3.844      -3.272\n",
      "==============================================================================\n",
      "Omnibus:                       38.938   Durbin-Watson:                   1.021\n",
      "Prob(Omnibus):                  0.000   Jarque-Bera (JB):               54.615\n",
      "Skew:                           0.699   Prob(JB):                     1.38e-12\n",
      "Kurtosis:                       4.179   Cond. No.                         19.8\n",
      "==============================================================================\n",
      "\n",
      "Notes:\n",
      "[1] Standard Errors assume that the covariance matrix of the errors is correctly specified.\n"
     ]
    }
   ],
   "source": [
    "mdl_cars1 = smf.ols('mpg~cyl', data=cars).fit()\n",
    "print(mdl_cars1.summary())\n"
   ]
  },
  {
   "cell_type": "code",
   "execution_count": 17,
   "metadata": {},
   "outputs": [
    {
     "name": "stdout",
     "output_type": "stream",
     "text": [
      "                            OLS Regression Results                            \n",
      "==============================================================================\n",
      "Dep. Variable:                    mpg   R-squared:                       0.699\n",
      "Model:                            OLS   Adj. R-squared:                  0.697\n",
      "Method:                 Least Squares   F-statistic:                     300.8\n",
      "Date:                Tue, 16 Feb 2021   Prob (F-statistic):          7.59e-101\n",
      "Time:                        12:21:26   Log-Likelihood:                -1125.7\n",
      "No. Observations:                 392   AIC:                             2259.\n",
      "Df Residuals:                     388   BIC:                             2275.\n",
      "Df Model:                           3                                         \n",
      "Covariance Type:            nonrobust                                         \n",
      "==============================================================================\n",
      "                 coef    std err          t      P>|t|      [0.025      0.975]\n",
      "------------------------------------------------------------------------------\n",
      "Intercept     44.3710      1.481     29.967      0.000      41.460      47.282\n",
      "cyl           -0.2678      0.413     -0.648      0.517      -1.080       0.544\n",
      "eng           -0.0127      0.008     -1.536      0.125      -0.029       0.004\n",
      "wgt           -0.0057      0.001     -7.995      0.000      -0.007      -0.004\n",
      "==============================================================================\n",
      "Omnibus:                       46.005   Durbin-Watson:                   0.834\n",
      "Prob(Omnibus):                  0.000   Jarque-Bera (JB):               70.281\n",
      "Skew:                           0.761   Prob(JB):                     5.48e-16\n",
      "Kurtosis:                       4.410   Cond. No.                     2.15e+04\n",
      "==============================================================================\n",
      "\n",
      "Notes:\n",
      "[1] Standard Errors assume that the covariance matrix of the errors is correctly specified.\n",
      "[2] The condition number is large, 2.15e+04. This might indicate that there are\n",
      "strong multicollinearity or other numerical problems.\n"
     ]
    }
   ],
   "source": [
    "mdl_cars2 = smf.ols('mpg~cyl+eng+wgt', data=cars).fit()\n",
    "print(mdl_cars2.summary())"
   ]
  },
  {
   "cell_type": "code",
   "execution_count": 18,
   "metadata": {},
   "outputs": [],
   "source": [
    "X = cars.drop(columns=['mpg'], axis=1)"
   ]
  },
  {
   "cell_type": "code",
   "execution_count": 19,
   "metadata": {},
   "outputs": [
    {
     "name": "stdout",
     "output_type": "stream",
     "text": [
      "   cyl    eng     wgt\n",
      "0  8.0  307.0  3504.0\n",
      "1  8.0  350.0  3693.0\n",
      "2  8.0  318.0  3436.0\n",
      "3  8.0  304.0  3433.0\n",
      "4  8.0  302.0  3449.0\n"
     ]
    }
   ],
   "source": [
    "print(X.head())"
   ]
  },
  {
   "cell_type": "code",
   "execution_count": 20,
   "metadata": {},
   "outputs": [],
   "source": [
    "from statsmodels.stats.outliers_influence import variance_inflation_factor"
   ]
  },
  {
   "cell_type": "code",
   "execution_count": 21,
   "metadata": {},
   "outputs": [
    {
     "name": "stdout",
     "output_type": "stream",
     "text": [
      "  Explanatory Variable        VIF\n",
      "0                  cyl  73.537502\n",
      "1                  eng  20.175495\n",
      "2                  wgt  58.322547\n"
     ]
    }
   ],
   "source": [
    " # VIF dataframe \n",
    "vif_data = pd.DataFrame() \n",
    "vif_data['Explanatory Variable'] = X.columns \n",
    "  \n",
    "# calculating VIF for each feature \n",
    "vif_data[\"VIF\"] = [variance_inflation_factor(X.values, i) for i in range(len(X.columns))] \n",
    "  \n",
    "print(vif_data)"
   ]
  },
  {
   "cell_type": "code",
   "execution_count": 22,
   "metadata": {},
   "outputs": [
    {
     "name": "stdout",
     "output_type": "stream",
     "text": [
      "                                 OLS Regression Results                                \n",
      "=======================================================================================\n",
      "Dep. Variable:                    cyl   R-squared (uncentered):                   0.986\n",
      "Model:                            OLS   Adj. R-squared (uncentered):              0.986\n",
      "Method:                 Least Squares   F-statistic:                          1.414e+04\n",
      "Date:                Tue, 16 Feb 2021   Prob (F-statistic):                        0.00\n",
      "Time:                        12:21:26   Log-Likelihood:                         -398.25\n",
      "No. Observations:                 392   AIC:                                      800.5\n",
      "Df Residuals:                     390   BIC:                                      808.4\n",
      "Df Model:                           2                                                  \n",
      "Covariance Type:            nonrobust                                                  \n",
      "==============================================================================\n",
      "                 coef    std err          t      P>|t|      [0.025      0.975]\n",
      "------------------------------------------------------------------------------\n",
      "eng            0.0062      0.001     10.173      0.000       0.005       0.007\n",
      "wgt            0.0014   4.36e-05     32.196      0.000       0.001       0.001\n",
      "==============================================================================\n",
      "Omnibus:                        3.746   Durbin-Watson:                   1.450\n",
      "Prob(Omnibus):                  0.154   Jarque-Bera (JB):                3.654\n",
      "Skew:                          -0.193   Prob(JB):                        0.161\n",
      "Kurtosis:                       2.727   Cond. No.                         56.3\n",
      "==============================================================================\n",
      "\n",
      "Notes:\n",
      "[1] R² is computed without centering (uncentered) since the model does not contain a constant.\n",
      "[2] Standard Errors assume that the covariance matrix of the errors is correctly specified.\n"
     ]
    }
   ],
   "source": [
    "mdl_multicollinearity = smf.ols('cyl~eng+wgt-1', data=cars).fit()\n",
    "print(mdl_multicollinearity.summary())"
   ]
  },
  {
   "cell_type": "markdown",
   "metadata": {},
   "source": [
    "### Note:\n",
    "\n",
    "- The auxiliary regression in Python statsmodels does not include an intercept for VIF estimation, but SAS includes one."
   ]
  }
 ],
 "metadata": {
  "kernelspec": {
   "display_name": "Python 3",
   "language": "python",
   "name": "python3"
  },
  "language_info": {
   "codemirror_mode": {
    "name": "ipython",
    "version": 3
   },
   "file_extension": ".py",
   "mimetype": "text/x-python",
   "name": "python",
   "nbconvert_exporter": "python",
   "pygments_lexer": "ipython3",
   "version": "3.8.5"
  }
 },
 "nbformat": 4,
 "nbformat_minor": 2
}
