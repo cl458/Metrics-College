{
 "cells": [
  {
   "cell_type": "code",
   "execution_count": 1,
   "metadata": {},
   "outputs": [],
   "source": [
    "import pandas as pd\n",
    "import numpy as np\n",
    "import statsmodels.formula.api as smf"
   ]
  },
  {
   "cell_type": "markdown",
   "metadata": {},
   "source": [
    "### A Microeconomic Panel: wage determination\n",
    "\n",
    "`nls_panel` dataset"
   ]
  },
  {
   "cell_type": "code",
   "execution_count": 2,
   "metadata": {},
   "outputs": [],
   "source": [
    "nls_panel = pd.read_sas('nls_panel.sas7bdat')"
   ]
  },
  {
   "cell_type": "markdown",
   "metadata": {},
   "source": [
    "### Pooled Regression with non-robust OLS estimators"
   ]
  },
  {
   "cell_type": "code",
   "execution_count": 3,
   "metadata": {},
   "outputs": [
    {
     "name": "stdout",
     "output_type": "stream",
     "text": [
      "                            OLS Regression Results                            \n",
      "==============================================================================\n",
      "Dep. Variable:                  lwage   R-squared:                       0.326\n",
      "Model:                            OLS   Adj. R-squared:                  0.324\n",
      "Method:                 Least Squares   F-statistic:                     215.5\n",
      "Date:                Tue, 16 Feb 2021   Prob (F-statistic):          1.17e-298\n",
      "Time:                        23:25:05   Log-Likelihood:                -1629.9\n",
      "No. Observations:                3580   AIC:                             3278.\n",
      "Df Residuals:                    3571   BIC:                             3333.\n",
      "Df Model:                           8                                         \n",
      "Covariance Type:            nonrobust                                         \n",
      "==============================================================================\n",
      "                 coef    std err          t      P>|t|      [0.025      0.975]\n",
      "------------------------------------------------------------------------------\n",
      "Intercept      0.4766      0.056      8.487      0.000       0.366       0.587\n",
      "educ           0.0714      0.003     26.567      0.000       0.066       0.077\n",
      "exper          0.0557      0.009      6.470      0.000       0.039       0.073\n",
      "exper2        -0.0011      0.000     -3.176      0.002      -0.002      -0.000\n",
      "tenure         0.0150      0.004      3.394      0.001       0.006       0.024\n",
      "tenure2       -0.0005      0.000     -1.886      0.059      -0.001    1.92e-05\n",
      "black         -0.1167      0.016     -7.426      0.000      -0.148      -0.086\n",
      "south         -0.1060      0.014     -7.465      0.000      -0.134      -0.078\n",
      "union          0.1322      0.015      8.839      0.000       0.103       0.162\n",
      "==============================================================================\n",
      "Omnibus:                      289.571   Durbin-Watson:                   0.712\n",
      "Prob(Omnibus):                  0.000   Jarque-Bera (JB):             1005.702\n",
      "Skew:                           0.367   Prob(JB):                    4.12e-219\n",
      "Kurtosis:                       5.491   Cond. No.                     1.88e+03\n",
      "==============================================================================\n",
      "\n",
      "Notes:\n",
      "[1] Standard Errors assume that the covariance matrix of the errors is correctly specified.\n",
      "[2] The condition number is large, 1.88e+03. This might indicate that there are\n",
      "strong multicollinearity or other numerical problems.\n"
     ]
    }
   ],
   "source": [
    "mdl_poolreg = smf.ols('lwage ~ educ+exper+exper2+tenure+tenure2+black+south+union', data=nls_panel).fit()\n",
    "print(mdl_poolreg.summary())"
   ]
  },
  {
   "cell_type": "markdown",
   "metadata": {},
   "source": [
    "### Pooled Regression with cluster-robust standard errors\n",
    "\n",
    "- We use `cov_type='cluster', cov_kwds={'groups': nls_panel['id']}` as parameters inside `.fit()`. It is similar to what we did with `HAC SE` in Chapter 8.\n",
    "- Its SAS equivalent is `proc surveyreg` with `cluster id` specification. "
   ]
  },
  {
   "cell_type": "code",
   "execution_count": 4,
   "metadata": {},
   "outputs": [
    {
     "name": "stdout",
     "output_type": "stream",
     "text": [
      "                            OLS Regression Results                            \n",
      "==============================================================================\n",
      "Dep. Variable:                  lwage   R-squared:                       0.326\n",
      "Model:                            OLS   Adj. R-squared:                  0.324\n",
      "Method:                 Least Squares   F-statistic:                     79.26\n",
      "Date:                Tue, 16 Feb 2021   Prob (F-statistic):           2.15e-93\n",
      "Time:                        23:25:05   Log-Likelihood:                -1629.9\n",
      "No. Observations:                3580   AIC:                             3278.\n",
      "Df Residuals:                    3571   BIC:                             3333.\n",
      "Df Model:                           8                                         \n",
      "Covariance Type:              cluster                                         \n",
      "==============================================================================\n",
      "                 coef    std err          z      P>|z|      [0.025      0.975]\n",
      "------------------------------------------------------------------------------\n",
      "Intercept      0.4766      0.085      5.636      0.000       0.311       0.642\n",
      "educ           0.0714      0.005     12.992      0.000       0.061       0.082\n",
      "exper          0.0557      0.011      4.923      0.000       0.034       0.078\n",
      "exper2        -0.0011      0.000     -2.330      0.020      -0.002      -0.000\n",
      "tenure         0.0150      0.007      2.100      0.036       0.001       0.029\n",
      "tenure2       -0.0005      0.000     -1.185      0.236      -0.001       0.000\n",
      "black         -0.1167      0.028     -4.148      0.000      -0.172      -0.062\n",
      "south         -0.1060      0.027     -3.917      0.000      -0.159      -0.053\n",
      "union          0.1322      0.027      4.884      0.000       0.079       0.185\n",
      "==============================================================================\n",
      "Omnibus:                      289.571   Durbin-Watson:                   0.712\n",
      "Prob(Omnibus):                  0.000   Jarque-Bera (JB):             1005.702\n",
      "Skew:                           0.367   Prob(JB):                    4.12e-219\n",
      "Kurtosis:                       5.491   Cond. No.                     1.88e+03\n",
      "==============================================================================\n",
      "\n",
      "Notes:\n",
      "[1] Standard Errors are robust to cluster correlation (cluster)\n",
      "[2] The condition number is large, 1.88e+03. This might indicate that there are\n",
      "strong multicollinearity or other numerical problems.\n"
     ]
    }
   ],
   "source": [
    "mdl_poolreg_hac = smf.ols('lwage ~ educ+exper+exper2+tenure+tenure2+black+south+union', data=nls_panel).fit(cov_type='cluster', cov_kwds={'groups': nls_panel['id']})\n",
    "print(mdl_poolreg_hac.summary())"
   ]
  },
  {
   "cell_type": "markdown",
   "metadata": {},
   "source": [
    "### Fixed-Effects Model with Dummies\n",
    "\n",
    "- Dummy Variable Approach: We set up a dummy variable for each individual\n",
    "- Please note that we give up the intercept term if we use all dummies. Or we can keep the intercept in the OLS but get rid of one dummy variable here."
   ]
  },
  {
   "cell_type": "code",
   "execution_count": 5,
   "metadata": {},
   "outputs": [],
   "source": [
    "nls_panel10 = pd.read_sas('nls_panel10.sas7bdat')\n",
    "\n",
    "nls_panel10[['id','year', 'south', 'black', 'union']] = nls_panel10[['id','year', 'south', 'black', 'union']].astype(int)"
   ]
  },
  {
   "cell_type": "code",
   "execution_count": 6,
   "metadata": {},
   "outputs": [
    {
     "name": "stdout",
     "output_type": "stream",
     "text": [
      "   id  year     lwage  hours   age  educ  collgrad  msp  nev_mar  not_smsa  \\\n",
      "0   1    82  1.808289   38.0  30.0  12.0       0.0  1.0      0.0       0.0   \n",
      "1   1    83  1.863417   38.0  31.0  12.0       0.0  1.0      0.0       0.0   \n",
      "2   1    85  1.789367   38.0  33.0  12.0       0.0  0.0      0.0       0.0   \n",
      "3   1    87  1.846530   40.0  35.0  12.0       0.0  0.0      0.0       0.0   \n",
      "4   1    88  1.856449   40.0  37.0  12.0       0.0  0.0      0.0       0.0   \n",
      "5   2    82  1.280933   48.0  36.0  17.0       1.0  1.0      0.0       0.0   \n",
      "6   2    83  1.515855   43.0  37.0  17.0       1.0  1.0      0.0       0.0   \n",
      "7   2    85  1.930170   35.0  39.0  17.0       1.0  1.0      0.0       0.0   \n",
      "8   2    87  1.919034   42.0  41.0  17.0       1.0  1.0      0.0       0.0   \n",
      "9   2    88  2.200974   42.0  43.0  17.0       1.0  1.0      0.0       0.0   \n",
      "\n",
      "   c_city  south  black  union      exper     exper2    tenure    tenure2  \n",
      "0     1.0      0      1      1   7.666667   58.77777  7.666667  58.777770  \n",
      "1     1.0      0      1      1   8.583333   73.67361  8.583333  73.673610  \n",
      "2     1.0      0      1      1  10.179490  103.62200  1.833333   3.361111  \n",
      "3     1.0      0      1      1  12.179490  148.33990  3.750000  14.062500  \n",
      "4     1.0      0      1      1  13.621790  185.55330  5.250000  27.562500  \n",
      "5     0.0      0      0      0   7.576923   57.40976  2.416667   5.840278  \n",
      "6     0.0      0      0      0   8.384615   70.30177  3.416667  11.673610  \n",
      "7     0.0      0      0      0  10.384610  107.84020  5.416667  29.340280  \n",
      "8     0.0      0      0      1  12.038460  144.92450  0.333333   0.111111  \n",
      "9     0.0      0      0      1  13.211540  174.54470  1.750000   3.062500  \n"
     ]
    }
   ],
   "source": [
    "print(nls_panel10.head(10))\n"
   ]
  },
  {
   "cell_type": "markdown",
   "metadata": {},
   "source": [
    "** We use `pd.get_dummies()` to obtain dummy variables for each individual**"
   ]
  },
  {
   "cell_type": "code",
   "execution_count": 7,
   "metadata": {},
   "outputs": [],
   "source": [
    "id_panel = pd.get_dummies(nls_panel10['id'], prefix='D', prefix_sep='_')"
   ]
  },
  {
   "cell_type": "code",
   "execution_count": 8,
   "metadata": {},
   "outputs": [],
   "source": [
    "nls_panel10_new = pd.concat([nls_panel10, id_panel], axis=1)"
   ]
  },
  {
   "cell_type": "code",
   "execution_count": 9,
   "metadata": {},
   "outputs": [
    {
     "name": "stdout",
     "output_type": "stream",
     "text": [
      "   id  year     lwage  hours   age  educ  collgrad  msp  nev_mar  not_smsa  \\\n",
      "0   1    82  1.808289   38.0  30.0  12.0       0.0  1.0      0.0       0.0   \n",
      "1   1    83  1.863417   38.0  31.0  12.0       0.0  1.0      0.0       0.0   \n",
      "2   1    85  1.789367   38.0  33.0  12.0       0.0  0.0      0.0       0.0   \n",
      "3   1    87  1.846530   40.0  35.0  12.0       0.0  0.0      0.0       0.0   \n",
      "4   1    88  1.856449   40.0  37.0  12.0       0.0  0.0      0.0       0.0   \n",
      "\n",
      "   ...  D_1  D_2  D_3  D_4  D_5  D_6  D_7  D_8  D_9  D_10  \n",
      "0  ...    1    0    0    0    0    0    0    0    0     0  \n",
      "1  ...    1    0    0    0    0    0    0    0    0     0  \n",
      "2  ...    1    0    0    0    0    0    0    0    0     0  \n",
      "3  ...    1    0    0    0    0    0    0    0    0     0  \n",
      "4  ...    1    0    0    0    0    0    0    0    0     0  \n",
      "\n",
      "[5 rows x 28 columns]\n"
     ]
    }
   ],
   "source": [
    "print(nls_panel10_new.head())"
   ]
  },
  {
   "cell_type": "code",
   "execution_count": 10,
   "metadata": {},
   "outputs": [
    {
     "name": "stdout",
     "output_type": "stream",
     "text": [
      "                            OLS Regression Results                            \n",
      "==============================================================================\n",
      "Dep. Variable:                  lwage   R-squared:                       0.617\n",
      "Model:                            OLS   Adj. R-squared:                  0.464\n",
      "Method:                 Least Squares   F-statistic:                     4.031\n",
      "Date:                Tue, 16 Feb 2021   Prob (F-statistic):           0.000402\n",
      "Time:                        23:25:05   Log-Likelihood:                 2.3280\n",
      "No. Observations:                  50   AIC:                             25.34\n",
      "Df Residuals:                      35   BIC:                             54.02\n",
      "Df Model:                          14                                         \n",
      "Covariance Type:            nonrobust                                         \n",
      "==============================================================================\n",
      "                 coef    std err          t      P>|t|      [0.025      0.975]\n",
      "------------------------------------------------------------------------------\n",
      "D_1            0.1519      1.097      0.139      0.891      -2.075       2.378\n",
      "D_2            0.1869      1.071      0.174      0.863      -1.988       2.362\n",
      "D_3           -0.0630      1.351     -0.047      0.963      -2.806       2.679\n",
      "D_4            0.1856      1.343      0.138      0.891      -2.542       2.913\n",
      "D_5            0.9390      1.098      0.855      0.398      -1.290       3.168\n",
      "D_6            0.7945      1.112      0.715      0.480      -1.463       3.051\n",
      "D_7            0.5812      1.236      0.470      0.641      -1.928       3.090\n",
      "D_8            0.5379      1.097      0.490      0.627      -1.690       2.766\n",
      "D_9            0.4183      1.084      0.386      0.702      -1.782       2.619\n",
      "D_10           0.6146      1.090      0.564      0.577      -1.599       2.828\n",
      "exper          0.2380      0.188      1.268      0.213      -0.143       0.619\n",
      "exper2        -0.0082      0.008     -1.036      0.307      -0.024       0.008\n",
      "tenure        -0.0124      0.034     -0.362      0.720      -0.082       0.057\n",
      "tenure2        0.0023      0.003      0.854      0.399      -0.003       0.008\n",
      "union          0.1135      0.151      0.753      0.457      -0.193       0.420\n",
      "==============================================================================\n",
      "Omnibus:                       24.587   Durbin-Watson:                   2.477\n",
      "Prob(Omnibus):                  0.000   Jarque-Bera (JB):              264.708\n",
      "Skew:                           0.413   Prob(JB):                     3.31e-58\n",
      "Kurtosis:                      14.242   Cond. No.                     1.91e+04\n",
      "==============================================================================\n",
      "\n",
      "Notes:\n",
      "[1] Standard Errors assume that the covariance matrix of the errors is correctly specified.\n",
      "[2] The condition number is large, 1.91e+04. This might indicate that there are\n",
      "strong multicollinearity or other numerical problems.\n"
     ]
    }
   ],
   "source": [
    "mdl_dummy_panel = smf.ols('lwage~D_1+D_2+D_3+D_4+D_5+D_6+D_7+D_8+D_9+D_10+exper+exper2+tenure+tenure2+union-1', data=nls_panel10_new).fit()\n",
    "\n",
    "print(mdl_dummy_panel.summary())"
   ]
  },
  {
   "cell_type": "code",
   "execution_count": 11,
   "metadata": {},
   "outputs": [
    {
     "name": "stdout",
     "output_type": "stream",
     "text": [
      "                            OLS Regression Results                            \n",
      "==============================================================================\n",
      "Dep. Variable:                  lwage   R-squared:                       0.210\n",
      "Model:                            OLS   Adj. R-squared:                  0.121\n",
      "Method:                 Least Squares   F-statistic:                     2.343\n",
      "Date:                Tue, 16 Feb 2021   Prob (F-statistic):             0.0570\n",
      "Time:                        23:25:05   Log-Likelihood:                -15.776\n",
      "No. Observations:                  50   AIC:                             43.55\n",
      "Df Residuals:                      44   BIC:                             55.02\n",
      "Df Model:                           5                                         \n",
      "Covariance Type:            nonrobust                                         \n",
      "==============================================================================\n",
      "                 coef    std err          t      P>|t|      [0.025      0.975]\n",
      "------------------------------------------------------------------------------\n",
      "Intercept      0.6209      1.017      0.610      0.545      -1.429       2.671\n",
      "exper          0.1947      0.173      1.125      0.267      -0.154       0.543\n",
      "exper2        -0.0049      0.007     -0.688      0.495      -0.019       0.009\n",
      "tenure         0.0014      0.038      0.036      0.971      -0.074       0.077\n",
      "tenure2       -0.0009      0.002     -0.371      0.712      -0.006       0.004\n",
      "union         -0.0175      0.102     -0.171      0.865      -0.224       0.189\n",
      "==============================================================================\n",
      "Omnibus:                       28.062   Durbin-Watson:                   1.300\n",
      "Prob(Omnibus):                  0.000   Jarque-Bera (JB):               71.031\n",
      "Skew:                           1.499   Prob(JB):                     3.77e-16\n",
      "Kurtosis:                       8.010   Cond. No.                     4.22e+03\n",
      "==============================================================================\n",
      "\n",
      "Notes:\n",
      "[1] Standard Errors assume that the covariance matrix of the errors is correctly specified.\n",
      "[2] The condition number is large, 4.22e+03. This might indicate that there are\n",
      "strong multicollinearity or other numerical problems.\n"
     ]
    }
   ],
   "source": [
    "mdl_PoolReg2 = smf.ols('lwage~exper+exper2+tenure+tenure2+union', data=nls_panel10).fit()\n",
    "print(mdl_PoolReg2.summary())"
   ]
  },
  {
   "cell_type": "markdown",
   "metadata": {},
   "source": [
    "### Note:\n",
    "\n",
    "Please note that you may have to install `linearmodels` yourself if your Anaconda does not include it.\n",
    "\n",
    "If the following conda procedure does not work,\n",
    "\n",
    "```python\n",
    ">> conda install linearmodels\n",
    "```\n",
    "then you can try `pip`. Note that you always try `pip`*AFTER* you are sure that`conda install` does not work if you install the Python system with Anaconda or Miniconda.\n",
    "\n",
    "```python\n",
    ">> pip install linearmodels\n",
    "```\n",
    "\n",
    "https://pypi.org/project/linearmodels/"
   ]
  },
  {
   "cell_type": "markdown",
   "metadata": {},
   "source": [
    "### Fixed-Effects Model and Random-Effects Model"
   ]
  },
  {
   "cell_type": "code",
   "execution_count": 12,
   "metadata": {},
   "outputs": [],
   "source": [
    "from linearmodels import PanelOLS\n",
    "from linearmodels import RandomEffects\n",
    "import statsmodels.api as sm"
   ]
  },
  {
   "cell_type": "markdown",
   "metadata": {},
   "source": [
    "### Fixed-Effects Model:\n",
    "\n",
    "- We have to use a two-level index dataframe for the fixed-effects and the random-effects models.\n",
    "- `df.set_indx()` does the trick. Cross-sectional index goes first, then time index."
   ]
  },
  {
   "cell_type": "code",
   "execution_count": 13,
   "metadata": {},
   "outputs": [
    {
     "name": "stdout",
     "output_type": "stream",
     "text": [
      "                          PanelOLS Estimation Summary                           \n",
      "================================================================================\n",
      "Dep. Variable:                  lwage   R-squared:                        0.2210\n",
      "Estimator:                   PanelOLS   R-squared (Between):             -0.2694\n",
      "No. Observations:                  50   R-squared (Within):               0.2210\n",
      "Date:                Tue, Feb 16 2021   R-squared (Overall):             -0.0284\n",
      "Time:                        23:25:06   Log-likelihood                    2.3280\n",
      "Cov. Estimator:            Unadjusted                                           \n",
      "                                        F-statistic:                      1.9863\n",
      "Entities:                          10   P-value                           0.1050\n",
      "Avg Obs:                       5.0000   Distribution:                    F(5,35)\n",
      "Min Obs:                       5.0000                                           \n",
      "Max Obs:                       5.0000   F-statistic (robust):             1.9863\n",
      "                                        P-value                           0.1050\n",
      "Time periods:                       5   Distribution:                    F(5,35)\n",
      "Avg Obs:                      10.0000                                           \n",
      "Min Obs:                      10.0000                                           \n",
      "Max Obs:                      10.0000                                           \n",
      "                                                                                \n",
      "                             Parameter Estimates                              \n",
      "==============================================================================\n",
      "            Parameter  Std. Err.     T-stat    P-value    Lower CI    Upper CI\n",
      "------------------------------------------------------------------------------\n",
      "const          0.4347     1.1452     0.3796     0.7066     -1.8902      2.7595\n",
      "exper          0.2380     0.1878     1.2676     0.2133     -0.1432      0.6192\n",
      "exper2        -0.0082     0.0079    -1.0358     0.3074     -0.0242      0.0079\n",
      "tenure        -0.0124     0.0341    -0.3617     0.7197     -0.0817      0.0570\n",
      "tenure2        0.0023     0.0027     0.8541     0.3989     -0.0032      0.0078\n",
      "union          0.1135     0.1509     0.7526     0.4567     -0.1927      0.4198\n",
      "==============================================================================\n",
      "\n",
      "F-test for Poolability: 4.1340\n",
      "P-value: 0.0011\n",
      "Distribution: F(9,35)\n",
      "\n",
      "Included effects: Entity\n"
     ]
    }
   ],
   "source": [
    "nls_panel10_new2 = nls_panel10.set_index(['id','year'])\n",
    "\n",
    "xvar = sm.add_constant(nls_panel10_new2[['exper', 'exper2','tenure','tenure2','union']])\n",
    "yvar = nls_panel10_new2['lwage']\n",
    "                       \n",
    "mdl_fixed_effects = PanelOLS(yvar,xvar,entity_effects = True).fit()\n",
    "                       \n",
    "print(mdl_fixed_effects)"
   ]
  },
  {
   "cell_type": "markdown",
   "metadata": {},
   "source": [
    "### Random-Effects Model:\n",
    "\n",
    "- This one also needs a two-level index, which is taken care in the previous fixed-effects model preparation.\n",
    "- The result is slightly different from SAS's default Fuller and Battese Variance Components (`VCOMP=FB`). There are four different variance set up in SAS (`FB`, `NL`, `WH`, `WK`), all of them are different from the one offered by Python linearmodels.\n",
    "- Stata returns the same results as Python.\n",
    "    - .xtreg lwage exper exper2 tenure tenure2 union, re"
   ]
  },
  {
   "cell_type": "code",
   "execution_count": 14,
   "metadata": {},
   "outputs": [
    {
     "name": "stdout",
     "output_type": "stream",
     "text": [
      "                        RandomEffects Estimation Summary                        \n",
      "================================================================================\n",
      "Dep. Variable:                  lwage   R-squared:                        0.1961\n",
      "Estimator:              RandomEffects   R-squared (Between):              0.1502\n",
      "No. Observations:                  50   R-squared (Within):               0.2036\n",
      "Date:                Tue, Feb 16 2021   R-squared (Overall):              0.1764\n",
      "Time:                        23:25:06   Log-likelihood                   -2.2449\n",
      "Cov. Estimator:            Unadjusted                                           \n",
      "                                        F-statistic:                      2.1465\n",
      "Entities:                          10   P-value                           0.0775\n",
      "Avg Obs:                       5.0000   Distribution:                    F(5,44)\n",
      "Min Obs:                       5.0000                                           \n",
      "Max Obs:                       5.0000   F-statistic (robust):             2.1465\n",
      "                                        P-value                           0.0775\n",
      "Time periods:                       5   Distribution:                    F(5,44)\n",
      "Avg Obs:                      10.0000                                           \n",
      "Min Obs:                      10.0000                                           \n",
      "Max Obs:                      10.0000                                           \n",
      "                                                                                \n",
      "                             Parameter Estimates                              \n",
      "==============================================================================\n",
      "            Parameter  Std. Err.     T-stat    P-value    Lower CI    Upper CI\n",
      "------------------------------------------------------------------------------\n",
      "const          0.8748     0.9117     0.9595     0.3425     -0.9627      2.7123\n",
      "exper          0.1696     0.1522     1.1144     0.2711     -0.1371      0.4763\n",
      "exper2        -0.0048     0.0062    -0.7604     0.4511     -0.0173      0.0078\n",
      "tenure        -0.0138     0.0322    -0.4303     0.6691     -0.0787      0.0510\n",
      "tenure2        0.0007     0.0021     0.3336     0.7403     -0.0036      0.0050\n",
      "union          0.0489     0.1233     0.3963     0.6938     -0.1997      0.2974\n",
      "==============================================================================\n"
     ]
    }
   ],
   "source": [
    "mdl_Random_effects = RandomEffects(yvar,xvar).fit()\n",
    "print(mdl_Random_effects)"
   ]
  },
  {
   "cell_type": "markdown",
   "metadata": {},
   "source": [
    "### Explanatory Variables that don't change over time"
   ]
  },
  {
   "cell_type": "code",
   "execution_count": 15,
   "metadata": {},
   "outputs": [],
   "source": [
    "xvar1 = sm.add_constant(nls_panel10_new2[['exper', 'exper2','tenure','tenure2','black','union']])\n",
    "yvar1 = nls_panel10_new2['lwage']"
   ]
  },
  {
   "cell_type": "code",
   "execution_count": 16,
   "metadata": {},
   "outputs": [
    {
     "ename": "AbsorbingEffectError",
     "evalue": "\nThe model cannot be estimated. The included effects have fully absorbed\none or more of the variables. This occurs when one or more of the dependent\nvariable is perfectly explained using the effects included in the model.\n\nThe following variables or variable combinations have been fully absorbed\nor have become perfectly collinear after effects are removed:\n\n          const, exper, exper2, tenure, tenure2, black, union\n\nSet drop_absorbed=True to automatically drop absorbed variables.\n",
     "output_type": "error",
     "traceback": [
      "\u001b[1;31m---------------------------------------------------------------------------\u001b[0m",
      "\u001b[1;31mAbsorbingEffectError\u001b[0m                      Traceback (most recent call last)",
      "\u001b[1;32m<ipython-input-16-d32e2b30d747>\u001b[0m in \u001b[0;36m<module>\u001b[1;34m\u001b[0m\n\u001b[1;32m----> 1\u001b[1;33m \u001b[0mmdl_fixed_effects1\u001b[0m \u001b[1;33m=\u001b[0m \u001b[0mPanelOLS\u001b[0m\u001b[1;33m(\u001b[0m\u001b[0myvar1\u001b[0m\u001b[1;33m,\u001b[0m\u001b[0mxvar1\u001b[0m\u001b[1;33m,\u001b[0m\u001b[0mentity_effects\u001b[0m \u001b[1;33m=\u001b[0m \u001b[1;32mTrue\u001b[0m\u001b[1;33m)\u001b[0m\u001b[1;33m.\u001b[0m\u001b[0mfit\u001b[0m\u001b[1;33m(\u001b[0m\u001b[1;33m)\u001b[0m\u001b[1;33m\u001b[0m\u001b[1;33m\u001b[0m\u001b[0m\n\u001b[0m\u001b[0;32m      2\u001b[0m \u001b[1;33m\u001b[0m\u001b[0m\n\u001b[0;32m      3\u001b[0m \u001b[0mprint\u001b[0m\u001b[1;33m(\u001b[0m\u001b[0mmdl_fixed_effects1\u001b[0m\u001b[1;33m)\u001b[0m\u001b[1;33m\u001b[0m\u001b[1;33m\u001b[0m\u001b[0m\n",
      "\u001b[1;32mC:\\ProgramData\\Anaconda3\\lib\\site-packages\\linearmodels\\panel\\model.py\u001b[0m in \u001b[0;36mfit\u001b[1;34m(self, use_lsdv, use_lsmr, low_memory, cov_type, debiased, auto_df, count_effects, **cov_config)\u001b[0m\n\u001b[0;32m   1709\u001b[0m         \u001b[1;32mif\u001b[0m \u001b[0mself\u001b[0m\u001b[1;33m.\u001b[0m\u001b[0mentity_effects\u001b[0m \u001b[1;32mor\u001b[0m \u001b[0mself\u001b[0m\u001b[1;33m.\u001b[0m\u001b[0mtime_effects\u001b[0m \u001b[1;32mor\u001b[0m \u001b[0mself\u001b[0m\u001b[1;33m.\u001b[0m\u001b[0mother_effects\u001b[0m\u001b[1;33m:\u001b[0m\u001b[1;33m\u001b[0m\u001b[1;33m\u001b[0m\u001b[0m\n\u001b[0;32m   1710\u001b[0m             \u001b[1;32mif\u001b[0m \u001b[1;32mnot\u001b[0m \u001b[0mself\u001b[0m\u001b[1;33m.\u001b[0m\u001b[0m_drop_absorbed\u001b[0m\u001b[1;33m:\u001b[0m\u001b[1;33m\u001b[0m\u001b[1;33m\u001b[0m\u001b[0m\n\u001b[1;32m-> 1711\u001b[1;33m                 \u001b[0mcheck_absorbed\u001b[0m\u001b[1;33m(\u001b[0m\u001b[0mx\u001b[0m\u001b[1;33m,\u001b[0m \u001b[0mlist\u001b[0m\u001b[1;33m(\u001b[0m\u001b[0mmap\u001b[0m\u001b[1;33m(\u001b[0m\u001b[0mstr\u001b[0m\u001b[1;33m,\u001b[0m \u001b[0mself\u001b[0m\u001b[1;33m.\u001b[0m\u001b[0mexog\u001b[0m\u001b[1;33m.\u001b[0m\u001b[0mvars\u001b[0m\u001b[1;33m)\u001b[0m\u001b[1;33m)\u001b[0m\u001b[1;33m)\u001b[0m\u001b[1;33m\u001b[0m\u001b[1;33m\u001b[0m\u001b[0m\n\u001b[0m\u001b[0;32m   1712\u001b[0m             \u001b[1;32melse\u001b[0m\u001b[1;33m:\u001b[0m\u001b[1;33m\u001b[0m\u001b[1;33m\u001b[0m\u001b[0m\n\u001b[0;32m   1713\u001b[0m                 \u001b[0mretain\u001b[0m \u001b[1;33m=\u001b[0m \u001b[0mnot_absorbed\u001b[0m\u001b[1;33m(\u001b[0m\u001b[0mx\u001b[0m\u001b[1;33m)\u001b[0m\u001b[1;33m\u001b[0m\u001b[1;33m\u001b[0m\u001b[0m\n",
      "\u001b[1;32mC:\\ProgramData\\Anaconda3\\lib\\site-packages\\linearmodels\\panel\\utility.py\u001b[0m in \u001b[0;36mcheck_absorbed\u001b[1;34m(x, variables, x_orig)\u001b[0m\n\u001b[0;32m    440\u001b[0m         \u001b[0mabsorbed_variables\u001b[0m \u001b[1;33m=\u001b[0m \u001b[1;34m\"\\n\"\u001b[0m\u001b[1;33m.\u001b[0m\u001b[0mjoin\u001b[0m\u001b[1;33m(\u001b[0m\u001b[0mrows\u001b[0m\u001b[1;33m)\u001b[0m\u001b[1;33m\u001b[0m\u001b[1;33m\u001b[0m\u001b[0m\n\u001b[0;32m    441\u001b[0m         \u001b[0mmsg\u001b[0m \u001b[1;33m=\u001b[0m \u001b[0mabsorbing_error_msg\u001b[0m\u001b[1;33m.\u001b[0m\u001b[0mformat\u001b[0m\u001b[1;33m(\u001b[0m\u001b[0mabsorbed_variables\u001b[0m\u001b[1;33m=\u001b[0m\u001b[0mabsorbed_variables\u001b[0m\u001b[1;33m)\u001b[0m\u001b[1;33m\u001b[0m\u001b[1;33m\u001b[0m\u001b[0m\n\u001b[1;32m--> 442\u001b[1;33m         \u001b[1;32mraise\u001b[0m \u001b[0mAbsorbingEffectError\u001b[0m\u001b[1;33m(\u001b[0m\u001b[0mmsg\u001b[0m\u001b[1;33m)\u001b[0m\u001b[1;33m\u001b[0m\u001b[1;33m\u001b[0m\u001b[0m\n\u001b[0m\u001b[0;32m    443\u001b[0m     \u001b[1;32mif\u001b[0m \u001b[0mx_orig\u001b[0m \u001b[1;32mis\u001b[0m \u001b[1;32mNone\u001b[0m\u001b[1;33m:\u001b[0m\u001b[1;33m\u001b[0m\u001b[1;33m\u001b[0m\u001b[0m\n\u001b[0;32m    444\u001b[0m         \u001b[1;32mreturn\u001b[0m\u001b[1;33m\u001b[0m\u001b[1;33m\u001b[0m\u001b[0m\n",
      "\u001b[1;31mAbsorbingEffectError\u001b[0m: \nThe model cannot be estimated. The included effects have fully absorbed\none or more of the variables. This occurs when one or more of the dependent\nvariable is perfectly explained using the effects included in the model.\n\nThe following variables or variable combinations have been fully absorbed\nor have become perfectly collinear after effects are removed:\n\n          const, exper, exper2, tenure, tenure2, black, union\n\nSet drop_absorbed=True to automatically drop absorbed variables.\n"
     ]
    }
   ],
   "source": [
    "mdl_fixed_effects1 = PanelOLS(yvar1,xvar1,entity_effects = True).fit()\n",
    "                       \n",
    "print(mdl_fixed_effects1)"
   ]
  },
  {
   "cell_type": "markdown",
   "metadata": {},
   "source": [
    "### Note:\n",
    "\n",
    "- When one or more explanatory variables do not change over time for each individual, error message appears and the model does not even finish.\n",
    "- We need to add `drop_absorbed=True` in the `PanelOLS()` function."
   ]
  },
  {
   "cell_type": "code",
   "execution_count": 17,
   "metadata": {},
   "outputs": [
    {
     "name": "stdout",
     "output_type": "stream",
     "text": [
      "                          PanelOLS Estimation Summary                           \n",
      "================================================================================\n",
      "Dep. Variable:                  lwage   R-squared:                        0.2210\n",
      "Estimator:                   PanelOLS   R-squared (Between):             -0.2694\n",
      "No. Observations:                  50   R-squared (Within):               0.2210\n",
      "Date:                Tue, Feb 16 2021   R-squared (Overall):             -0.0284\n",
      "Time:                        23:25:11   Log-likelihood                    2.3280\n",
      "Cov. Estimator:            Unadjusted                                           \n",
      "                                        F-statistic:                      1.9863\n",
      "Entities:                          10   P-value                           0.1050\n",
      "Avg Obs:                       5.0000   Distribution:                    F(5,35)\n",
      "Min Obs:                       5.0000                                           \n",
      "Max Obs:                       5.0000   F-statistic (robust):             1.9863\n",
      "                                        P-value                           0.1050\n",
      "Time periods:                       5   Distribution:                    F(5,35)\n",
      "Avg Obs:                      10.0000                                           \n",
      "Min Obs:                      10.0000                                           \n",
      "Max Obs:                      10.0000                                           \n",
      "                                                                                \n",
      "                             Parameter Estimates                              \n",
      "==============================================================================\n",
      "            Parameter  Std. Err.     T-stat    P-value    Lower CI    Upper CI\n",
      "------------------------------------------------------------------------------\n",
      "const          0.4347     1.1452     0.3796     0.7066     -1.8902      2.7595\n",
      "exper          0.2380     0.1878     1.2676     0.2133     -0.1432      0.6192\n",
      "exper2        -0.0082     0.0079    -1.0358     0.3074     -0.0242      0.0079\n",
      "tenure        -0.0124     0.0341    -0.3617     0.7197     -0.0817      0.0570\n",
      "tenure2        0.0023     0.0027     0.8541     0.3989     -0.0032      0.0078\n",
      "union          0.1135     0.1509     0.7526     0.4567     -0.1927      0.4198\n",
      "==============================================================================\n",
      "\n",
      "F-test for Poolability: 4.1340\n",
      "P-value: 0.0011\n",
      "Distribution: F(9,35)\n",
      "\n",
      "Included effects: Entity\n"
     ]
    },
    {
     "name": "stderr",
     "output_type": "stream",
     "text": [
      "C:\\ProgramData\\Anaconda3\\lib\\site-packages\\linearmodels\\panel\\model.py:1724: AbsorbingEffectWarning: \n",
      "Variables have been fully absorbed and have removed from the regression:\n",
      "\n",
      "black\n",
      "\n",
      "  warnings.warn(\n"
     ]
    }
   ],
   "source": [
    "mdl_fixed_effects1 = PanelOLS(yvar1,xvar1,entity_effects = True, drop_absorbed=True).fit()\n",
    "                       \n",
    "print(mdl_fixed_effects1)"
   ]
  },
  {
   "cell_type": "code",
   "execution_count": 18,
   "metadata": {},
   "outputs": [
    {
     "name": "stdout",
     "output_type": "stream",
     "text": [
      "                        RandomEffects Estimation Summary                        \n",
      "================================================================================\n",
      "Dep. Variable:                  lwage   R-squared:                        0.2139\n",
      "Estimator:              RandomEffects   R-squared (Between):              0.2720\n",
      "No. Observations:                  50   R-squared (Within):               0.2048\n",
      "Date:                Tue, Feb 16 2021   R-squared (Overall):              0.2390\n",
      "Time:                        23:25:14   Log-likelihood                   -1.5287\n",
      "Cov. Estimator:            Unadjusted                                           \n",
      "                                        F-statistic:                      1.9498\n",
      "Entities:                          10   P-value                           0.0944\n",
      "Avg Obs:                       5.0000   Distribution:                    F(6,43)\n",
      "Min Obs:                       5.0000                                           \n",
      "Max Obs:                       5.0000   F-statistic (robust):             1.9498\n",
      "                                        P-value                           0.0944\n",
      "Time periods:                       5   Distribution:                    F(6,43)\n",
      "Avg Obs:                      10.0000                                           \n",
      "Min Obs:                      10.0000                                           \n",
      "Max Obs:                      10.0000                                           \n",
      "                                                                                \n",
      "                             Parameter Estimates                              \n",
      "==============================================================================\n",
      "            Parameter  Std. Err.     T-stat    P-value    Lower CI    Upper CI\n",
      "------------------------------------------------------------------------------\n",
      "const          1.0534     0.9317     1.1306     0.2645     -0.8256      2.9323\n",
      "exper          0.1442     0.1546     0.9331     0.3560     -0.1675      0.4560\n",
      "exper2        -0.0038     0.0063    -0.6061     0.5476     -0.0166      0.0089\n",
      "tenure        -0.0101     0.0324    -0.3113     0.7571     -0.0753      0.0552\n",
      "tenure2        0.0005     0.0022     0.2083     0.8360     -0.0039      0.0048\n",
      "black         -0.3372     0.3448    -0.9781     0.3335     -1.0325      0.3581\n",
      "union          0.0858     0.1289     0.6652     0.5095     -0.1742      0.3457\n",
      "==============================================================================\n"
     ]
    }
   ],
   "source": [
    "mdl_Random_effects1 = RandomEffects(yvar1,xvar1).fit()\n",
    "print(mdl_Random_effects1)"
   ]
  }
 ],
 "metadata": {
  "kernelspec": {
   "display_name": "Python 3",
   "language": "python",
   "name": "python3"
  },
  "language_info": {
   "codemirror_mode": {
    "name": "ipython",
    "version": 3
   },
   "file_extension": ".py",
   "mimetype": "text/x-python",
   "name": "python",
   "nbconvert_exporter": "python",
   "pygments_lexer": "ipython3",
   "version": "3.8.5"
  }
 },
 "nbformat": 4,
 "nbformat_minor": 2
}
