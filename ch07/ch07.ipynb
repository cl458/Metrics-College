{
 "cells": [
  {
   "cell_type": "code",
   "execution_count": 1,
   "metadata": {},
   "outputs": [],
   "source": [
    "import pandas as pd\n",
    "import numpy as np\n",
    "import statsmodels.formula.api as smf"
   ]
  },
  {
   "cell_type": "markdown",
   "metadata": {},
   "source": [
    "### Housing Price Problem"
   ]
  },
  {
   "cell_type": "code",
   "execution_count": 2,
   "metadata": {},
   "outputs": [],
   "source": [
    "utown = pd.read_sas('utown.sas7bdat')\n",
    "utown[['utown', 'pool', 'fplace']] = utown[['utown', 'pool', 'fplace']].astype(int)"
   ]
  },
  {
   "cell_type": "code",
   "execution_count": 3,
   "metadata": {},
   "outputs": [
    {
     "name": "stdout",
     "output_type": "stream",
     "text": [
      "     price   sqft  age  utown  pool  fplace\n",
      "0  205.452  23.46  6.0      0     0       1\n",
      "1  185.328  20.03  5.0      0     0       1\n",
      "2  248.422  27.77  6.0      0     0       0\n",
      "3  154.690  20.17  1.0      0     0       0\n",
      "4  221.801  26.45  0.0      0     0       1\n"
     ]
    }
   ],
   "source": [
    "print(utown.head())"
   ]
  },
  {
   "cell_type": "code",
   "execution_count": 4,
   "metadata": {},
   "outputs": [
    {
     "name": "stdout",
     "output_type": "stream",
     "text": [
      "                            OLS Regression Results                            \n",
      "==============================================================================\n",
      "Dep. Variable:                  price   R-squared:                       0.354\n",
      "Model:                            OLS   Adj. R-squared:                  0.353\n",
      "Method:                 Least Squares   F-statistic:                     546.0\n",
      "Date:                Tue, 16 Feb 2021   Prob (F-statistic):           1.13e-96\n",
      "Time:                        14:38:28   Log-Likelihood:                -4942.5\n",
      "No. Observations:                1000   AIC:                             9889.\n",
      "Df Residuals:                     998   BIC:                             9899.\n",
      "Df Model:                           1                                         \n",
      "Covariance Type:            nonrobust                                         \n",
      "==============================================================================\n",
      "                 coef    std err          t      P>|t|      [0.025      0.975]\n",
      "------------------------------------------------------------------------------\n",
      "Intercept     30.9203      9.337      3.312      0.001      12.598      49.243\n",
      "sqft           8.5973      0.368     23.367      0.000       7.875       9.319\n",
      "==============================================================================\n",
      "Omnibus:                     1186.483   Durbin-Watson:                   0.425\n",
      "Prob(Omnibus):                  0.000   Jarque-Bera (JB):               66.064\n",
      "Skew:                          -0.064   Prob(JB):                     4.51e-15\n",
      "Kurtosis:                       1.747   Cond. No.                         221.\n",
      "==============================================================================\n",
      "\n",
      "Notes:\n",
      "[1] Standard Errors assume that the covariance matrix of the errors is correctly specified.\n"
     ]
    }
   ],
   "source": [
    "mdl_utown_dummy1 = smf.ols('price~sqft', data=utown).fit()\n",
    "print(mdl_utown_dummy1.summary())"
   ]
  },
  {
   "cell_type": "code",
   "execution_count": 5,
   "metadata": {},
   "outputs": [
    {
     "name": "stdout",
     "output_type": "stream",
     "text": [
      "                            OLS Regression Results                            \n",
      "==============================================================================\n",
      "Dep. Variable:                  price   R-squared:                       0.865\n",
      "Model:                            OLS   Adj. R-squared:                  0.865\n",
      "Method:                 Least Squares   F-statistic:                     3192.\n",
      "Date:                Tue, 16 Feb 2021   Prob (F-statistic):               0.00\n",
      "Time:                        14:38:28   Log-Likelihood:                -4159.7\n",
      "No. Observations:                1000   AIC:                             8325.\n",
      "Df Residuals:                     997   BIC:                             8340.\n",
      "Df Model:                           2                                         \n",
      "Covariance Type:            nonrobust                                         \n",
      "==============================================================================\n",
      "                 coef    std err          t      P>|t|      [0.025      0.975]\n",
      "------------------------------------------------------------------------------\n",
      "Intercept      5.6809      4.290      1.324      0.186      -2.738      14.100\n",
      "utown         60.3690      0.983     61.432      0.000      58.441      62.297\n",
      "sqft           8.3557      0.168     49.642      0.000       8.025       8.686\n",
      "==============================================================================\n",
      "Omnibus:                        0.818   Durbin-Watson:                   2.011\n",
      "Prob(Omnibus):                  0.664   Jarque-Bera (JB):                0.709\n",
      "Skew:                          -0.056   Prob(JB):                        0.702\n",
      "Kurtosis:                       3.068   Cond. No.                         222.\n",
      "==============================================================================\n",
      "\n",
      "Notes:\n",
      "[1] Standard Errors assume that the covariance matrix of the errors is correctly specified.\n"
     ]
    }
   ],
   "source": [
    "mdl_utown_dummy2 = smf.ols('price~utown+sqft', data=utown).fit()\n",
    "print(mdl_utown_dummy2.summary())"
   ]
  },
  {
   "cell_type": "code",
   "execution_count": 6,
   "metadata": {},
   "outputs": [
    {
     "name": "stdout",
     "output_type": "stream",
     "text": [
      "                            OLS Regression Results                            \n",
      "==============================================================================\n",
      "Dep. Variable:                  price   R-squared:                       0.865\n",
      "Model:                            OLS   Adj. R-squared:                  0.865\n",
      "Method:                 Least Squares   F-statistic:                     3205.\n",
      "Date:                Tue, 16 Feb 2021   Prob (F-statistic):               0.00\n",
      "Time:                        14:38:28   Log-Likelihood:                -4157.9\n",
      "No. Observations:                1000   AIC:                             8322.\n",
      "Df Residuals:                     997   BIC:                             8337.\n",
      "Df Model:                           2                                         \n",
      "Covariance Type:            nonrobust                                         \n",
      "==============================================================================\n",
      "                 coef    std err          t      P>|t|      [0.025      0.975]\n",
      "------------------------------------------------------------------------------\n",
      "Intercept     38.1775      4.264      8.953      0.000      29.809      46.546\n",
      "sqft           7.0706      0.170     41.643      0.000       6.737       7.404\n",
      "sqft_utown     2.3808      0.039     61.572      0.000       2.305       2.457\n",
      "==============================================================================\n",
      "Omnibus:                        2.179   Durbin-Watson:                   2.008\n",
      "Prob(Omnibus):                  0.336   Jarque-Bera (JB):                2.039\n",
      "Skew:                          -0.099   Prob(JB):                        0.361\n",
      "Kurtosis:                       3.098   Cond. No.                         256.\n",
      "==============================================================================\n",
      "\n",
      "Notes:\n",
      "[1] Standard Errors assume that the covariance matrix of the errors is correctly specified.\n"
     ]
    }
   ],
   "source": [
    "utown['sqft_utown'] = utown['sqft']*utown['utown']\n",
    "\n",
    "mdl_utown_dummy3 = smf.ols('price~sqft+sqft_utown', data=utown).fit()\n",
    "print(mdl_utown_dummy3.summary())\n"
   ]
  },
  {
   "cell_type": "code",
   "execution_count": 7,
   "metadata": {},
   "outputs": [
    {
     "name": "stdout",
     "output_type": "stream",
     "text": [
      "                            OLS Regression Results                            \n",
      "==============================================================================\n",
      "Dep. Variable:                  price   R-squared:                       0.867\n",
      "Model:                            OLS   Adj. R-squared:                  0.866\n",
      "Method:                 Least Squares   F-statistic:                     2162.\n",
      "Date:                Tue, 16 Feb 2021   Prob (F-statistic):               0.00\n",
      "Time:                        14:38:28   Log-Likelihood:                -4152.5\n",
      "No. Observations:                1000   AIC:                             8313.\n",
      "Df Residuals:                     996   BIC:                             8333.\n",
      "Df Model:                           3                                         \n",
      "Covariance Type:            nonrobust                                         \n",
      "==============================================================================\n",
      "                 coef    std err          t      P>|t|      [0.025      0.975]\n",
      "------------------------------------------------------------------------------\n",
      "Intercept     23.0625      6.239      3.696      0.000      10.819      35.306\n",
      "utown         28.1235      8.511      3.305      0.001      11.423      44.824\n",
      "sqft           7.6642      0.247     31.079      0.000       7.180       8.148\n",
      "sqft_utown     1.2795      0.335      3.814      0.000       0.621       1.938\n",
      "==============================================================================\n",
      "Omnibus:                        1.528   Durbin-Watson:                   2.009\n",
      "Prob(Omnibus):                  0.466   Jarque-Bera (JB):                1.399\n",
      "Skew:                          -0.081   Prob(JB):                        0.497\n",
      "Kurtosis:                       3.084   Cond. No.                         596.\n",
      "==============================================================================\n",
      "\n",
      "Notes:\n",
      "[1] Standard Errors assume that the covariance matrix of the errors is correctly specified.\n"
     ]
    }
   ],
   "source": [
    "mdl_utown_dummy4 = smf.ols('price~utown+sqft+sqft_utown', data=utown).fit()\n",
    "print(mdl_utown_dummy4.summary())"
   ]
  },
  {
   "cell_type": "code",
   "execution_count": 8,
   "metadata": {},
   "outputs": [
    {
     "name": "stdout",
     "output_type": "stream",
     "text": [
      "                            OLS Regression Results                            \n",
      "==============================================================================\n",
      "Dep. Variable:                  price   R-squared:                       0.871\n",
      "Model:                            OLS   Adj. R-squared:                  0.870\n",
      "Method:                 Least Squares   F-statistic:                     1113.\n",
      "Date:                Tue, 16 Feb 2021   Prob (F-statistic):               0.00\n",
      "Time:                        14:38:28   Log-Likelihood:                -4138.4\n",
      "No. Observations:                1000   AIC:                             8291.\n",
      "Df Residuals:                     993   BIC:                             8325.\n",
      "Df Model:                           6                                         \n",
      "Covariance Type:            nonrobust                                         \n",
      "==============================================================================\n",
      "                 coef    std err          t      P>|t|      [0.025      0.975]\n",
      "------------------------------------------------------------------------------\n",
      "Intercept     24.5000      6.192      3.957      0.000      12.350      36.650\n",
      "utown         27.4530      8.423      3.259      0.001      10.925      43.981\n",
      "sqft           7.6122      0.245     31.048      0.000       7.131       8.093\n",
      "sqft_utown     1.2994      0.332      3.913      0.000       0.648       1.951\n",
      "age           -0.1901      0.051     -3.712      0.000      -0.291      -0.090\n",
      "pool           4.3772      1.197      3.658      0.000       2.029       6.725\n",
      "fplace         1.6492      0.972      1.697      0.090      -0.258       3.557\n",
      "==============================================================================\n",
      "Omnibus:                        0.543   Durbin-Watson:                   1.986\n",
      "Prob(Omnibus):                  0.762   Jarque-Bera (JB):                0.436\n",
      "Skew:                          -0.038   Prob(JB):                        0.804\n",
      "Kurtosis:                       3.069   Cond. No.                         628.\n",
      "==============================================================================\n",
      "\n",
      "Notes:\n",
      "[1] Standard Errors assume that the covariance matrix of the errors is correctly specified.\n"
     ]
    }
   ],
   "source": [
    "mdl_utown = smf.ols('price~utown+sqft+sqft_utown+age+pool+fplace', data=utown).fit()\n",
    "print(mdl_utown.summary())"
   ]
  },
  {
   "cell_type": "markdown",
   "metadata": {},
   "source": [
    "### Wage Problem concerning Gender, Race, Location "
   ]
  },
  {
   "cell_type": "code",
   "execution_count": 9,
   "metadata": {},
   "outputs": [],
   "source": [
    "cps4_small = pd.read_sas('cps4_small.sas7bdat')"
   ]
  },
  {
   "cell_type": "code",
   "execution_count": 10,
   "metadata": {},
   "outputs": [
    {
     "name": "stdout",
     "output_type": "stream",
     "text": [
      "                            OLS Regression Results                            \n",
      "==============================================================================\n",
      "Dep. Variable:                   wage   R-squared:                       0.209\n",
      "Model:                            OLS   Adj. R-squared:                  0.206\n",
      "Method:                 Least Squares   F-statistic:                     65.67\n",
      "Date:                Tue, 16 Feb 2021   Prob (F-statistic):           2.53e-49\n",
      "Time:                        14:38:28   Log-Likelihood:                -3853.5\n",
      "No. Observations:                1000   AIC:                             7717.\n",
      "Df Residuals:                     995   BIC:                             7741.\n",
      "Df Model:                           4                                         \n",
      "Covariance Type:            nonrobust                                         \n",
      "================================================================================\n",
      "                   coef    std err          t      P>|t|      [0.025      0.975]\n",
      "--------------------------------------------------------------------------------\n",
      "Intercept       -5.2812      1.900     -2.779      0.006      -9.011      -1.552\n",
      "educ             2.0704      0.135     15.350      0.000       1.806       2.335\n",
      "black           -4.1691      1.775     -2.349      0.019      -7.652      -0.686\n",
      "female          -4.7846      0.773     -6.186      0.000      -6.302      -3.267\n",
      "black:female     3.8443      2.328      1.652      0.099      -0.723       8.412\n",
      "==============================================================================\n",
      "Omnibus:                      316.616   Durbin-Watson:                   2.014\n",
      "Prob(Omnibus):                  0.000   Jarque-Bera (JB):              991.429\n",
      "Skew:                           1.561   Prob(JB):                    5.18e-216\n",
      "Kurtosis:                       6.748   Cond. No.                         109.\n",
      "==============================================================================\n",
      "\n",
      "Notes:\n",
      "[1] Standard Errors assume that the covariance matrix of the errors is correctly specified.\n"
     ]
    }
   ],
   "source": [
    "cps4_small['black_female'] = cps4_small['black']*cps4_small['female']\n",
    "\n",
    "mdl_wage1 = smf.ols('wage~educ+black*female', data=cps4_small).fit()\n",
    "print(mdl_wage1.summary())"
   ]
  },
  {
   "cell_type": "markdown",
   "metadata": {},
   "source": [
    "### Note:\n",
    "\n",
    "- When we use `black*female` as a regressor, we actually add three explanatory variables: `black`, `female` and `black*female`. When we have a lot of variables, it might be easier to generate a `black_female` variable (= `black`$\\times$`female`) by hand."
   ]
  },
  {
   "cell_type": "code",
   "execution_count": 11,
   "metadata": {},
   "outputs": [
    {
     "name": "stdout",
     "output_type": "stream",
     "text": [
      "                            OLS Regression Results                            \n",
      "==============================================================================\n",
      "Dep. Variable:                   wage   R-squared:                       0.186\n",
      "Model:                            OLS   Adj. R-squared:                  0.183\n",
      "Method:                 Least Squares   F-statistic:                     56.84\n",
      "Date:                Tue, 16 Feb 2021   Prob (F-statistic):           3.19e-43\n",
      "Time:                        14:38:28   Log-Likelihood:                -3867.7\n",
      "No. Observations:                1000   AIC:                             7745.\n",
      "Df Residuals:                     995   BIC:                             7770.\n",
      "Df Model:                           4                                         \n",
      "Covariance Type:            nonrobust                                         \n",
      "==============================================================================\n",
      "                 coef    std err          t      P>|t|      [0.025      0.975]\n",
      "------------------------------------------------------------------------------\n",
      "Intercept     -6.1767      2.051     -3.012      0.003     -10.201      -2.153\n",
      "educ           1.9828      0.136     14.619      0.000       1.717       2.249\n",
      "south         -0.7309      1.028     -0.711      0.477      -2.747       1.286\n",
      "midwest       -2.6292      1.079     -2.437      0.015      -4.746      -0.512\n",
      "west           1.1605      1.079      1.075      0.283      -0.958       3.279\n",
      "==============================================================================\n",
      "Omnibus:                      290.729   Durbin-Watson:                   1.987\n",
      "Prob(Omnibus):                  0.000   Jarque-Bera (JB):              802.727\n",
      "Skew:                           1.482   Prob(JB):                    4.90e-175\n",
      "Kurtosis:                       6.237   Cond. No.                         84.0\n",
      "==============================================================================\n",
      "\n",
      "Notes:\n",
      "[1] Standard Errors assume that the covariance matrix of the errors is correctly specified.\n"
     ]
    }
   ],
   "source": [
    "mdl_wage2 = smf.ols('wage~educ+south+midwest+west', data=cps4_small).fit()\n",
    "print(mdl_wage2.summary())"
   ]
  },
  {
   "cell_type": "code",
   "execution_count": 12,
   "metadata": {},
   "outputs": [
    {
     "name": "stdout",
     "output_type": "stream",
     "text": [
      "                            OLS Regression Results                            \n",
      "==============================================================================\n",
      "Dep. Variable:                   wage   R-squared:                       0.219\n",
      "Model:                            OLS   Adj. R-squared:                  0.213\n",
      "Method:                 Least Squares   F-statistic:                     39.71\n",
      "Date:                Tue, 16 Feb 2021   Prob (F-statistic):           2.32e-49\n",
      "Time:                        14:38:28   Log-Likelihood:                -3847.1\n",
      "No. Observations:                1000   AIC:                             7710.\n",
      "Df Residuals:                     992   BIC:                             7749.\n",
      "Df Model:                           7                                         \n",
      "Covariance Type:            nonrobust                                         \n",
      "================================================================================\n",
      "                   coef    std err          t      P>|t|      [0.025      0.975]\n",
      "--------------------------------------------------------------------------------\n",
      "Intercept       -4.8062      2.029     -2.369      0.018      -8.787      -0.825\n",
      "educ             2.0712      0.134     15.403      0.000       1.807       2.335\n",
      "black           -3.9055      1.786     -2.186      0.029      -7.411      -0.400\n",
      "female          -4.7441      0.770     -6.163      0.000      -6.255      -3.233\n",
      "black_female     3.6250      2.318      1.564      0.118      -0.924       8.175\n",
      "south           -0.4499      1.025     -0.439      0.661      -2.461       1.562\n",
      "midwest         -2.6084      1.060     -2.462      0.014      -4.688      -0.529\n",
      "west             0.9866      1.060      0.931      0.352      -1.093       3.066\n",
      "==============================================================================\n",
      "Omnibus:                      308.605   Durbin-Watson:                   2.002\n",
      "Prob(Omnibus):                  0.000   Jarque-Bera (JB):              942.909\n",
      "Skew:                           1.530   Prob(JB):                    1.78e-205\n",
      "Kurtosis:                       6.643   Cond. No.                         109.\n",
      "==============================================================================\n",
      "\n",
      "Notes:\n",
      "[1] Standard Errors assume that the covariance matrix of the errors is correctly specified.\n"
     ]
    }
   ],
   "source": [
    "mdl_wage3 = smf.ols('wage~educ+black+female+black_female+south+midwest+west', data=cps4_small).fit()\n",
    "print(mdl_wage3.summary())\n"
   ]
  },
  {
   "cell_type": "code",
   "execution_count": 13,
   "metadata": {},
   "outputs": [
    {
     "name": "stdout",
     "output_type": "stream",
     "text": [
      "                            OLS Regression Results                            \n",
      "==============================================================================\n",
      "Dep. Variable:                   wage   R-squared:                       0.210\n",
      "Model:                            OLS   Adj. R-squared:                  0.203\n",
      "Method:                 Least Squares   F-statistic:                     29.26\n",
      "Date:                Tue, 16 Feb 2021   Prob (F-statistic):           2.00e-45\n",
      "Time:                        14:38:28   Log-Likelihood:                -3852.6\n",
      "No. Observations:                1000   AIC:                             7725.\n",
      "Df Residuals:                     990   BIC:                             7774.\n",
      "Df Model:                           9                                         \n",
      "Covariance Type:            nonrobust                                         \n",
      "======================================================================================\n",
      "                         coef    std err          t      P>|t|      [0.025      0.975]\n",
      "--------------------------------------------------------------------------------------\n",
      "Intercept             -6.6056      2.337     -2.827      0.005     -11.191      -2.020\n",
      "educ                   2.1726      0.166     13.051      0.000       1.846       2.499\n",
      "black                 -5.0894      2.643     -1.926      0.054     -10.276       0.097\n",
      "female                -5.0051      0.899     -5.567      0.000      -6.769      -3.241\n",
      "black_female           5.3056      3.497      1.517      0.130      -1.557      12.168\n",
      "south                  3.9439      4.048      0.974      0.330      -4.001      11.888\n",
      "educ_south            -0.3085      0.286     -1.080      0.280      -0.869       0.252\n",
      "black_south            1.7044      3.633      0.469      0.639      -5.426       8.834\n",
      "female_south           0.9011      1.773      0.508      0.611      -2.577       4.380\n",
      "black_female_south    -2.9358      4.788     -0.613      0.540     -12.331       6.459\n",
      "==============================================================================\n",
      "Omnibus:                      315.910   Durbin-Watson:                   2.019\n",
      "Prob(Omnibus):                  0.000   Jarque-Bera (JB):              983.418\n",
      "Skew:                           1.560   Prob(JB):                    2.84e-214\n",
      "Kurtosis:                       6.724   Cond. No.                         272.\n",
      "==============================================================================\n",
      "\n",
      "Notes:\n",
      "[1] Standard Errors assume that the covariance matrix of the errors is correctly specified.\n"
     ]
    }
   ],
   "source": [
    "cps4_small['educ_south'] = cps4_small['educ']*cps4_small['south']\n",
    "cps4_small['black_south'] = cps4_small['black']*cps4_small['south']\n",
    "cps4_small['female_south'] = cps4_small['female']*cps4_small['south']\n",
    "cps4_small['black_female_south'] = cps4_small['black']*cps4_small['female']*cps4_small['south']\n",
    "\n",
    "mdl_wage4 = smf.ols('wage~educ+black+female+black_female+south+educ_south+black_south+female_south+black_female_south', data=cps4_small).fit()\n",
    "\n",
    "print(mdl_wage4.summary())\n"
   ]
  },
  {
   "cell_type": "code",
   "execution_count": 14,
   "metadata": {},
   "outputs": [
    {
     "name": "stdout",
     "output_type": "stream",
     "text": [
      "<class 'pandas.core.frame.DataFrame'>\n",
      "Int64Index: 704 entries, 1 to 998\n",
      "Data columns (total 17 columns):\n",
      " #   Column              Non-Null Count  Dtype  \n",
      "---  ------              --------------  -----  \n",
      " 0   wage                704 non-null    float64\n",
      " 1   educ                704 non-null    float64\n",
      " 2   exper               704 non-null    float64\n",
      " 3   hrswk               704 non-null    float64\n",
      " 4   married             704 non-null    float64\n",
      " 5   female              704 non-null    float64\n",
      " 6   metro               704 non-null    float64\n",
      " 7   midwest             704 non-null    float64\n",
      " 8   south               704 non-null    float64\n",
      " 9   west                704 non-null    float64\n",
      " 10  black               704 non-null    float64\n",
      " 11  asian               704 non-null    float64\n",
      " 12  black_female        704 non-null    float64\n",
      " 13  educ_south          704 non-null    float64\n",
      " 14  black_south         704 non-null    float64\n",
      " 15  female_south        704 non-null    float64\n",
      " 16  black_female_south  704 non-null    float64\n",
      "dtypes: float64(17)\n",
      "memory usage: 99.0 KB\n",
      "None\n"
     ]
    }
   ],
   "source": [
    "cps4_small_nonsouth = cps4_small[cps4_small['south']==0]\n",
    "print(cps4_small_nonsouth.info())"
   ]
  },
  {
   "cell_type": "code",
   "execution_count": 15,
   "metadata": {},
   "outputs": [
    {
     "name": "stdout",
     "output_type": "stream",
     "text": [
      "                            OLS Regression Results                            \n",
      "==============================================================================\n",
      "Dep. Variable:                   wage   R-squared:                       0.221\n",
      "Model:                            OLS   Adj. R-squared:                  0.217\n",
      "Method:                 Least Squares   F-statistic:                     49.72\n",
      "Date:                Tue, 16 Feb 2021   Prob (F-statistic):           7.79e-37\n",
      "Time:                        14:38:28   Log-Likelihood:                -2702.8\n",
      "No. Observations:                 704   AIC:                             5416.\n",
      "Df Residuals:                     699   BIC:                             5438.\n",
      "Df Model:                           4                                         \n",
      "Covariance Type:            nonrobust                                         \n",
      "================================================================================\n",
      "                   coef    std err          t      P>|t|      [0.025      0.975]\n",
      "--------------------------------------------------------------------------------\n",
      "Intercept       -6.6056      2.302     -2.869      0.004     -11.126      -2.086\n",
      "educ             2.1726      0.164     13.247      0.000       1.851       2.495\n",
      "black           -5.0894      2.604     -1.954      0.051     -10.202       0.023\n",
      "female          -5.0051      0.886     -5.651      0.000      -6.744      -3.266\n",
      "black_female     5.3056      3.446      1.540      0.124      -1.460      12.071\n",
      "==============================================================================\n",
      "Omnibus:                      239.299   Durbin-Watson:                   1.990\n",
      "Prob(Omnibus):                  0.000   Jarque-Bera (JB):              787.457\n",
      "Skew:                           1.629   Prob(JB):                    1.01e-171\n",
      "Kurtosis:                       7.029   Cond. No.                         135.\n",
      "==============================================================================\n",
      "\n",
      "Notes:\n",
      "[1] Standard Errors assume that the covariance matrix of the errors is correctly specified.\n"
     ]
    }
   ],
   "source": [
    "mdl_wage5 = smf.ols('wage~educ+black+female+black_female', data=cps4_small_nonsouth).fit()\n",
    "print(mdl_wage5.summary())"
   ]
  },
  {
   "cell_type": "code",
   "execution_count": 16,
   "metadata": {},
   "outputs": [
    {
     "name": "stdout",
     "output_type": "stream",
     "text": [
      "<class 'pandas.core.frame.DataFrame'>\n",
      "Int64Index: 296 entries, 0 to 999\n",
      "Data columns (total 17 columns):\n",
      " #   Column              Non-Null Count  Dtype  \n",
      "---  ------              --------------  -----  \n",
      " 0   wage                296 non-null    float64\n",
      " 1   educ                296 non-null    float64\n",
      " 2   exper               296 non-null    float64\n",
      " 3   hrswk               296 non-null    float64\n",
      " 4   married             296 non-null    float64\n",
      " 5   female              296 non-null    float64\n",
      " 6   metro               296 non-null    float64\n",
      " 7   midwest             296 non-null    float64\n",
      " 8   south               296 non-null    float64\n",
      " 9   west                296 non-null    float64\n",
      " 10  black               296 non-null    float64\n",
      " 11  asian               296 non-null    float64\n",
      " 12  black_female        296 non-null    float64\n",
      " 13  educ_south          296 non-null    float64\n",
      " 14  black_south         296 non-null    float64\n",
      " 15  female_south        296 non-null    float64\n",
      " 16  black_female_south  296 non-null    float64\n",
      "dtypes: float64(17)\n",
      "memory usage: 41.6 KB\n",
      "None\n"
     ]
    }
   ],
   "source": [
    "cps4_small_south = cps4_small[cps4_small['south']==1]\n",
    "print(cps4_small_south.info())"
   ]
  },
  {
   "cell_type": "code",
   "execution_count": 17,
   "metadata": {},
   "outputs": [
    {
     "name": "stdout",
     "output_type": "stream",
     "text": [
      "                            OLS Regression Results                            \n",
      "==============================================================================\n",
      "Dep. Variable:                   wage   R-squared:                       0.184\n",
      "Model:                            OLS   Adj. R-squared:                  0.173\n",
      "Method:                 Least Squares   F-statistic:                     16.43\n",
      "Date:                Tue, 16 Feb 2021   Prob (F-statistic):           3.79e-12\n",
      "Time:                        14:38:28   Log-Likelihood:                -1149.4\n",
      "No. Observations:                 296   AIC:                             2309.\n",
      "Df Residuals:                     291   BIC:                             2327.\n",
      "Df Model:                           4                                         \n",
      "Covariance Type:            nonrobust                                         \n",
      "================================================================================\n",
      "                   coef    std err          t      P>|t|      [0.025      0.975]\n",
      "--------------------------------------------------------------------------------\n",
      "Intercept       -2.6617      3.420     -0.778      0.437      -9.394       4.070\n",
      "educ             1.8640      0.240      7.758      0.000       1.391       2.337\n",
      "black           -3.3850      2.579     -1.312      0.190      -8.461       1.691\n",
      "female          -4.1040      1.581     -2.596      0.010      -7.215      -0.993\n",
      "black_female     2.3697      3.383      0.701      0.484      -4.288       9.027\n",
      "==============================================================================\n",
      "Omnibus:                       87.965   Durbin-Watson:                   2.080\n",
      "Prob(Omnibus):                  0.000   Jarque-Bera (JB):              215.712\n",
      "Skew:                           1.414   Prob(JB):                     1.44e-47\n",
      "Kurtosis:                       6.081   Cond. No.                         86.0\n",
      "==============================================================================\n",
      "\n",
      "Notes:\n",
      "[1] Standard Errors assume that the covariance matrix of the errors is correctly specified.\n"
     ]
    }
   ],
   "source": [
    "mdl_wage6 = smf.ols('wage~educ+black+female+black_female', data=cps4_small_south).fit()\n",
    "print(mdl_wage6.summary())"
   ]
  },
  {
   "cell_type": "code",
   "execution_count": 18,
   "metadata": {},
   "outputs": [
    {
     "name": "stdout",
     "output_type": "stream",
     "text": [
      "                            OLS Regression Results                            \n",
      "==============================================================================\n",
      "Dep. Variable:                   wage   R-squared:                       0.209\n",
      "Model:                            OLS   Adj. R-squared:                  0.206\n",
      "Method:                 Least Squares   F-statistic:                     65.67\n",
      "Date:                Tue, 16 Feb 2021   Prob (F-statistic):           2.53e-49\n",
      "Time:                        14:38:28   Log-Likelihood:                -3853.5\n",
      "No. Observations:                1000   AIC:                             7717.\n",
      "Df Residuals:                     995   BIC:                             7741.\n",
      "Df Model:                           4                                         \n",
      "Covariance Type:            nonrobust                                         \n",
      "================================================================================\n",
      "                   coef    std err          t      P>|t|      [0.025      0.975]\n",
      "--------------------------------------------------------------------------------\n",
      "Intercept       -5.2812      1.900     -2.779      0.006      -9.011      -1.552\n",
      "educ             2.0704      0.135     15.350      0.000       1.806       2.335\n",
      "black           -4.1691      1.775     -2.349      0.019      -7.652      -0.686\n",
      "female          -4.7846      0.773     -6.186      0.000      -6.302      -3.267\n",
      "black_female     3.8443      2.328      1.652      0.099      -0.723       8.412\n",
      "==============================================================================\n",
      "Omnibus:                      316.616   Durbin-Watson:                   2.014\n",
      "Prob(Omnibus):                  0.000   Jarque-Bera (JB):              991.429\n",
      "Skew:                           1.561   Prob(JB):                    5.18e-216\n",
      "Kurtosis:                       6.748   Cond. No.                         109.\n",
      "==============================================================================\n",
      "\n",
      "Notes:\n",
      "[1] Standard Errors assume that the covariance matrix of the errors is correctly specified.\n"
     ]
    }
   ],
   "source": [
    "mdl_wage7 = smf.ols('wage~educ+black+female+black_female', data=cps4_small).fit()\n",
    "print(mdl_wage7.summary())\n"
   ]
  }
 ],
 "metadata": {
  "kernelspec": {
   "display_name": "Python 3",
   "language": "python",
   "name": "python3"
  },
  "language_info": {
   "codemirror_mode": {
    "name": "ipython",
    "version": 3
   },
   "file_extension": ".py",
   "mimetype": "text/x-python",
   "name": "python",
   "nbconvert_exporter": "python",
   "pygments_lexer": "ipython3",
   "version": "3.8.5"
  }
 },
 "nbformat": 4,
 "nbformat_minor": 2
}
