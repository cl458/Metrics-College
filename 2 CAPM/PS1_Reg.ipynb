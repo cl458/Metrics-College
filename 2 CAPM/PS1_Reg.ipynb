{
 "cells": [
  {
   "cell_type": "code",
   "execution_count": 1,
   "metadata": {},
   "outputs": [],
   "source": [
    "import pandas as pd\n",
    "import numpy as np"
   ]
  },
  {
   "cell_type": "code",
   "execution_count": 2,
   "metadata": {},
   "outputs": [
    {
     "data": {
      "text/html": [
       "<div>\n",
       "<style scoped>\n",
       "    .dataframe tbody tr th:only-of-type {\n",
       "        vertical-align: middle;\n",
       "    }\n",
       "\n",
       "    .dataframe tbody tr th {\n",
       "        vertical-align: top;\n",
       "    }\n",
       "\n",
       "    .dataframe thead th {\n",
       "        text-align: right;\n",
       "    }\n",
       "</style>\n",
       "<table border=\"1\" class=\"dataframe\">\n",
       "  <thead>\n",
       "    <tr style=\"text-align: right;\">\n",
       "      <th></th>\n",
       "      <th>TICKER</th>\n",
       "      <th>RET</th>\n",
       "    </tr>\n",
       "    <tr>\n",
       "      <th>DATE</th>\n",
       "      <th></th>\n",
       "      <th></th>\n",
       "    </tr>\n",
       "  </thead>\n",
       "  <tbody>\n",
       "    <tr>\n",
       "      <th>2010-01-29</th>\n",
       "      <td>AAPL</td>\n",
       "      <td>-0.088591</td>\n",
       "    </tr>\n",
       "    <tr>\n",
       "      <th>2010-02-26</th>\n",
       "      <td>AAPL</td>\n",
       "      <td>0.065380</td>\n",
       "    </tr>\n",
       "    <tr>\n",
       "      <th>2010-03-31</th>\n",
       "      <td>AAPL</td>\n",
       "      <td>0.148470</td>\n",
       "    </tr>\n",
       "    <tr>\n",
       "      <th>2010-04-30</th>\n",
       "      <td>AAPL</td>\n",
       "      <td>0.111021</td>\n",
       "    </tr>\n",
       "    <tr>\n",
       "      <th>2010-05-28</th>\n",
       "      <td>AAPL</td>\n",
       "      <td>-0.016125</td>\n",
       "    </tr>\n",
       "  </tbody>\n",
       "</table>\n",
       "</div>"
      ],
      "text/plain": [
       "           TICKER       RET\n",
       "DATE                       \n",
       "2010-01-29   AAPL -0.088591\n",
       "2010-02-26   AAPL  0.065380\n",
       "2010-03-31   AAPL  0.148470\n",
       "2010-04-30   AAPL  0.111021\n",
       "2010-05-28   AAPL -0.016125"
      ]
     },
     "execution_count": 2,
     "metadata": {},
     "output_type": "execute_result"
    }
   ],
   "source": [
    "stkdata = pd.read_sas('stkdata.sas7bdat', index='DATE', format='sas7bdat', encoding='utf-8')\n",
    "\n",
    "stkdata.head()"
   ]
  },
  {
   "cell_type": "code",
   "execution_count": 3,
   "metadata": {},
   "outputs": [
    {
     "name": "stdout",
     "output_type": "stream",
     "text": [
      "<class 'pandas.core.frame.DataFrame'>\n",
      "DatetimeIndex: 6000 entries, 2010-01-29 to 2019-12-31\n",
      "Data columns (total 2 columns):\n",
      " #   Column  Non-Null Count  Dtype  \n",
      "---  ------  --------------  -----  \n",
      " 0   TICKER  6000 non-null   object \n",
      " 1   RET     6000 non-null   float64\n",
      "dtypes: float64(1), object(1)\n",
      "memory usage: 140.6+ KB\n"
     ]
    }
   ],
   "source": [
    "stkdata.info()"
   ]
  },
  {
   "cell_type": "code",
   "execution_count": 4,
   "metadata": {},
   "outputs": [],
   "source": [
    "mktdata = pd.read_sas('mktdata.sas7bdat', format='sas7bdat', encoding='utf-8')"
   ]
  },
  {
   "cell_type": "code",
   "execution_count": 5,
   "metadata": {},
   "outputs": [
    {
     "name": "stdout",
     "output_type": "stream",
     "text": [
      "<class 'pandas.core.frame.DataFrame'>\n",
      "RangeIndex: 120 entries, 0 to 119\n",
      "Data columns (total 6 columns):\n",
      " #   Column  Non-Null Count  Dtype         \n",
      "---  ------  --------------  -----         \n",
      " 0   DATE    120 non-null    datetime64[ns]\n",
      " 1   SMB     120 non-null    float64       \n",
      " 2   HML     120 non-null    float64       \n",
      " 3   MKTRF   120 non-null    float64       \n",
      " 4   RF      120 non-null    float64       \n",
      " 5   UMD     120 non-null    float64       \n",
      "dtypes: datetime64[ns](1), float64(5)\n",
      "memory usage: 5.8 KB\n"
     ]
    }
   ],
   "source": [
    "mktdata.info()"
   ]
  },
  {
   "cell_type": "code",
   "execution_count": 6,
   "metadata": {},
   "outputs": [
    {
     "data": {
      "text/html": [
       "<div>\n",
       "<style scoped>\n",
       "    .dataframe tbody tr th:only-of-type {\n",
       "        vertical-align: middle;\n",
       "    }\n",
       "\n",
       "    .dataframe tbody tr th {\n",
       "        vertical-align: top;\n",
       "    }\n",
       "\n",
       "    .dataframe thead th {\n",
       "        text-align: right;\n",
       "    }\n",
       "</style>\n",
       "<table border=\"1\" class=\"dataframe\">\n",
       "  <thead>\n",
       "    <tr style=\"text-align: right;\">\n",
       "      <th></th>\n",
       "      <th>DATE</th>\n",
       "      <th>SMB</th>\n",
       "      <th>HML</th>\n",
       "      <th>MKTRF</th>\n",
       "      <th>RF</th>\n",
       "      <th>UMD</th>\n",
       "    </tr>\n",
       "  </thead>\n",
       "  <tbody>\n",
       "    <tr>\n",
       "      <th>0</th>\n",
       "      <td>2010-01-29</td>\n",
       "      <td>0.0038</td>\n",
       "      <td>0.0030</td>\n",
       "      <td>-0.0336</td>\n",
       "      <td>0.0000</td>\n",
       "      <td>-0.0538</td>\n",
       "    </tr>\n",
       "    <tr>\n",
       "      <th>1</th>\n",
       "      <td>2010-02-26</td>\n",
       "      <td>0.0121</td>\n",
       "      <td>0.0316</td>\n",
       "      <td>0.0340</td>\n",
       "      <td>0.0000</td>\n",
       "      <td>0.0360</td>\n",
       "    </tr>\n",
       "    <tr>\n",
       "      <th>2</th>\n",
       "      <td>2010-03-31</td>\n",
       "      <td>0.0143</td>\n",
       "      <td>0.0211</td>\n",
       "      <td>0.0631</td>\n",
       "      <td>0.0001</td>\n",
       "      <td>0.0366</td>\n",
       "    </tr>\n",
       "    <tr>\n",
       "      <th>3</th>\n",
       "      <td>2010-04-30</td>\n",
       "      <td>0.0497</td>\n",
       "      <td>0.0281</td>\n",
       "      <td>0.0200</td>\n",
       "      <td>0.0001</td>\n",
       "      <td>0.0322</td>\n",
       "    </tr>\n",
       "    <tr>\n",
       "      <th>4</th>\n",
       "      <td>2010-05-28</td>\n",
       "      <td>0.0005</td>\n",
       "      <td>-0.0238</td>\n",
       "      <td>-0.0789</td>\n",
       "      <td>0.0001</td>\n",
       "      <td>-0.0013</td>\n",
       "    </tr>\n",
       "  </tbody>\n",
       "</table>\n",
       "</div>"
      ],
      "text/plain": [
       "        DATE     SMB     HML   MKTRF      RF     UMD\n",
       "0 2010-01-29  0.0038  0.0030 -0.0336  0.0000 -0.0538\n",
       "1 2010-02-26  0.0121  0.0316  0.0340  0.0000  0.0360\n",
       "2 2010-03-31  0.0143  0.0211  0.0631  0.0001  0.0366\n",
       "3 2010-04-30  0.0497  0.0281  0.0200  0.0001  0.0322\n",
       "4 2010-05-28  0.0005 -0.0238 -0.0789  0.0001 -0.0013"
      ]
     },
     "execution_count": 6,
     "metadata": {},
     "output_type": "execute_result"
    }
   ],
   "source": [
    "mktdata.head()"
   ]
  },
  {
   "cell_type": "code",
   "execution_count": 7,
   "metadata": {},
   "outputs": [],
   "source": [
    "data = pd.merge(stkdata, mktdata, on='DATE')"
   ]
  },
  {
   "cell_type": "code",
   "execution_count": 8,
   "metadata": {},
   "outputs": [
    {
     "name": "stdout",
     "output_type": "stream",
     "text": [
      "<class 'pandas.core.frame.DataFrame'>\n",
      "Int64Index: 6000 entries, 0 to 5999\n",
      "Data columns (total 8 columns):\n",
      " #   Column  Non-Null Count  Dtype         \n",
      "---  ------  --------------  -----         \n",
      " 0   DATE    6000 non-null   datetime64[ns]\n",
      " 1   TICKER  6000 non-null   object        \n",
      " 2   RET     6000 non-null   float64       \n",
      " 3   SMB     6000 non-null   float64       \n",
      " 4   HML     6000 non-null   float64       \n",
      " 5   MKTRF   6000 non-null   float64       \n",
      " 6   RF      6000 non-null   float64       \n",
      " 7   UMD     6000 non-null   float64       \n",
      "dtypes: datetime64[ns](1), float64(6), object(1)\n",
      "memory usage: 421.9+ KB\n"
     ]
    }
   ],
   "source": [
    "data.info()"
   ]
  },
  {
   "cell_type": "code",
   "execution_count": 9,
   "metadata": {},
   "outputs": [
    {
     "data": {
      "text/html": [
       "<div>\n",
       "<style scoped>\n",
       "    .dataframe tbody tr th:only-of-type {\n",
       "        vertical-align: middle;\n",
       "    }\n",
       "\n",
       "    .dataframe tbody tr th {\n",
       "        vertical-align: top;\n",
       "    }\n",
       "\n",
       "    .dataframe thead th {\n",
       "        text-align: right;\n",
       "    }\n",
       "</style>\n",
       "<table border=\"1\" class=\"dataframe\">\n",
       "  <thead>\n",
       "    <tr style=\"text-align: right;\">\n",
       "      <th></th>\n",
       "      <th>DATE</th>\n",
       "      <th>TICKER</th>\n",
       "      <th>RET</th>\n",
       "      <th>SMB</th>\n",
       "      <th>HML</th>\n",
       "      <th>MKTRF</th>\n",
       "      <th>RF</th>\n",
       "      <th>UMD</th>\n",
       "    </tr>\n",
       "  </thead>\n",
       "  <tbody>\n",
       "    <tr>\n",
       "      <th>0</th>\n",
       "      <td>2010-01-29</td>\n",
       "      <td>AAPL</td>\n",
       "      <td>-0.088591</td>\n",
       "      <td>0.0038</td>\n",
       "      <td>0.003</td>\n",
       "      <td>-0.0336</td>\n",
       "      <td>0.0</td>\n",
       "      <td>-0.0538</td>\n",
       "    </tr>\n",
       "    <tr>\n",
       "      <th>1</th>\n",
       "      <td>2010-01-29</td>\n",
       "      <td>ABT</td>\n",
       "      <td>-0.012039</td>\n",
       "      <td>0.0038</td>\n",
       "      <td>0.003</td>\n",
       "      <td>-0.0336</td>\n",
       "      <td>0.0</td>\n",
       "      <td>-0.0538</td>\n",
       "    </tr>\n",
       "    <tr>\n",
       "      <th>2</th>\n",
       "      <td>2010-01-29</td>\n",
       "      <td>AMGN</td>\n",
       "      <td>0.033763</td>\n",
       "      <td>0.0038</td>\n",
       "      <td>0.003</td>\n",
       "      <td>-0.0336</td>\n",
       "      <td>0.0</td>\n",
       "      <td>-0.0538</td>\n",
       "    </tr>\n",
       "    <tr>\n",
       "      <th>3</th>\n",
       "      <td>2010-01-29</td>\n",
       "      <td>AMZN</td>\n",
       "      <td>-0.067722</td>\n",
       "      <td>0.0038</td>\n",
       "      <td>0.003</td>\n",
       "      <td>-0.0336</td>\n",
       "      <td>0.0</td>\n",
       "      <td>-0.0538</td>\n",
       "    </tr>\n",
       "    <tr>\n",
       "      <th>4</th>\n",
       "      <td>2010-01-29</td>\n",
       "      <td>AXP</td>\n",
       "      <td>-0.066140</td>\n",
       "      <td>0.0038</td>\n",
       "      <td>0.003</td>\n",
       "      <td>-0.0336</td>\n",
       "      <td>0.0</td>\n",
       "      <td>-0.0538</td>\n",
       "    </tr>\n",
       "  </tbody>\n",
       "</table>\n",
       "</div>"
      ],
      "text/plain": [
       "        DATE TICKER       RET     SMB    HML   MKTRF   RF     UMD\n",
       "0 2010-01-29   AAPL -0.088591  0.0038  0.003 -0.0336  0.0 -0.0538\n",
       "1 2010-01-29    ABT -0.012039  0.0038  0.003 -0.0336  0.0 -0.0538\n",
       "2 2010-01-29   AMGN  0.033763  0.0038  0.003 -0.0336  0.0 -0.0538\n",
       "3 2010-01-29   AMZN -0.067722  0.0038  0.003 -0.0336  0.0 -0.0538\n",
       "4 2010-01-29    AXP -0.066140  0.0038  0.003 -0.0336  0.0 -0.0538"
      ]
     },
     "execution_count": 9,
     "metadata": {},
     "output_type": "execute_result"
    }
   ],
   "source": [
    "data.head()"
   ]
  },
  {
   "cell_type": "code",
   "execution_count": 10,
   "metadata": {},
   "outputs": [],
   "source": [
    "data['RETRF'] = data['RET'] - data['RF']\n",
    "\n",
    "data = data.sort_values(['TICKER','DATE'])"
   ]
  },
  {
   "cell_type": "code",
   "execution_count": 11,
   "metadata": {},
   "outputs": [
    {
     "name": "stdout",
     "output_type": "stream",
     "text": [
      "           DATE TICKER       RET     SMB     HML   MKTRF      RF     UMD  \\\n",
      "0    2010-01-29   AAPL -0.088591  0.0038  0.0030 -0.0336  0.0000 -0.0538   \n",
      "50   2010-02-26   AAPL  0.065380  0.0121  0.0316  0.0340  0.0000  0.0360   \n",
      "100  2010-03-31   AAPL  0.148470  0.0143  0.0211  0.0631  0.0001  0.0366   \n",
      "150  2010-04-30   AAPL  0.111021  0.0497  0.0281  0.0200  0.0001  0.0322   \n",
      "200  2010-05-28   AAPL -0.016125  0.0005 -0.0238 -0.0789  0.0001 -0.0013   \n",
      "...         ...    ...       ...     ...     ...     ...     ...     ...   \n",
      "5799 2019-08-30    XOM -0.067375 -0.0241 -0.0499 -0.0258  0.0016  0.0760   \n",
      "5849 2019-09-30    XOM  0.031104 -0.0090  0.0671  0.0144  0.0018 -0.0685   \n",
      "5899 2019-10-31    XOM -0.043053  0.0025 -0.0207  0.0206  0.0015  0.0024   \n",
      "5949 2019-11-29    XOM  0.021163  0.0087 -0.0186  0.0387  0.0012 -0.0262   \n",
      "5999 2019-12-31    XOM  0.024218  0.0068  0.0183  0.0277  0.0014 -0.0213   \n",
      "\n",
      "         RETRF  \n",
      "0    -0.088591  \n",
      "50    0.065380  \n",
      "100   0.148370  \n",
      "150   0.110921  \n",
      "200  -0.016225  \n",
      "...        ...  \n",
      "5799 -0.068975  \n",
      "5849  0.029304  \n",
      "5899 -0.044553  \n",
      "5949  0.019963  \n",
      "5999  0.022818  \n",
      "\n",
      "[6000 rows x 9 columns]\n"
     ]
    }
   ],
   "source": [
    "print(data)"
   ]
  },
  {
   "cell_type": "markdown",
   "metadata": {},
   "source": [
    "### Note:\n",
    "\n",
    "We don't have missing observations in this case, so the default merge is good. Even if we have missing observations, we will skip them automatically when running regressions anyway."
   ]
  },
  {
   "cell_type": "markdown",
   "metadata": {},
   "source": [
    "### Set multi-index to the dataframe:\n",
    "\n",
    "`df.set_index(['index1', 'index2'])`"
   ]
  },
  {
   "cell_type": "code",
   "execution_count": 12,
   "metadata": {},
   "outputs": [
    {
     "name": "stdout",
     "output_type": "stream",
     "text": [
      "                        RET     SMB     HML   MKTRF      RF     UMD     RETRF\n",
      "TICKER DATE                                                                  \n",
      "AAPL   2010-01-29 -0.088591  0.0038  0.0030 -0.0336  0.0000 -0.0538 -0.088591\n",
      "       2010-02-26  0.065380  0.0121  0.0316  0.0340  0.0000  0.0360  0.065380\n",
      "       2010-03-31  0.148470  0.0143  0.0211  0.0631  0.0001  0.0366  0.148370\n",
      "       2010-04-30  0.111021  0.0497  0.0281  0.0200  0.0001  0.0322  0.110921\n",
      "       2010-05-28 -0.016125  0.0005 -0.0238 -0.0789  0.0001 -0.0013 -0.016225\n",
      "...                     ...     ...     ...     ...     ...     ...       ...\n",
      "XOM    2019-08-30 -0.067375 -0.0241 -0.0499 -0.0258  0.0016  0.0760 -0.068975\n",
      "       2019-09-30  0.031104 -0.0090  0.0671  0.0144  0.0018 -0.0685  0.029304\n",
      "       2019-10-31 -0.043053  0.0025 -0.0207  0.0206  0.0015  0.0024 -0.044553\n",
      "       2019-11-29  0.021163  0.0087 -0.0186  0.0387  0.0012 -0.0262  0.019963\n",
      "       2019-12-31  0.024218  0.0068  0.0183  0.0277  0.0014 -0.0213  0.022818\n",
      "\n",
      "[6000 rows x 7 columns]\n"
     ]
    }
   ],
   "source": [
    "data1 = data.set_index(['TICKER','DATE'])\n",
    "data1 = data1.sort_index()\n",
    "\n",
    "print(data1)"
   ]
  },
  {
   "cell_type": "markdown",
   "metadata": {},
   "source": [
    "### Change the sequence of the multi-index:\n",
    "\n",
    "`df.swaplevel('key2', 'key1')`"
   ]
  },
  {
   "cell_type": "code",
   "execution_count": 13,
   "metadata": {},
   "outputs": [
    {
     "name": "stdout",
     "output_type": "stream",
     "text": [
      "                        RET     SMB     HML   MKTRF      RF     UMD     RETRF\n",
      "DATE       TICKER                                                            \n",
      "2010-01-29 AAPL   -0.088591  0.0038  0.0030 -0.0336  0.0000 -0.0538 -0.088591\n",
      "           ABT    -0.012039  0.0038  0.0030 -0.0336  0.0000 -0.0538 -0.012039\n",
      "           AMGN    0.033763  0.0038  0.0030 -0.0336  0.0000 -0.0538  0.033763\n",
      "           AMZN   -0.067722  0.0038  0.0030 -0.0336  0.0000 -0.0538 -0.067722\n",
      "           AXP    -0.066140  0.0038  0.0030 -0.0336  0.0000 -0.0538 -0.066140\n",
      "...                     ...     ...     ...     ...     ...     ...       ...\n",
      "2019-12-31 V       0.018373  0.0068  0.0183  0.0277  0.0014 -0.0213  0.016973\n",
      "           VZ      0.019256  0.0068  0.0183  0.0277  0.0014 -0.0213  0.017856\n",
      "           WFC    -0.012119  0.0068  0.0183  0.0277  0.0014 -0.0213 -0.013519\n",
      "           WMT     0.002351  0.0068  0.0183  0.0277  0.0014 -0.0213  0.000951\n",
      "           XOM     0.024218  0.0068  0.0183  0.0277  0.0014 -0.0213  0.022818\n",
      "\n",
      "[6000 rows x 7 columns]\n"
     ]
    }
   ],
   "source": [
    "data2 = data1.swaplevel('TICKER','DATE')\n",
    "data2 = data2.sort_index()\n",
    "\n",
    "print(data2)"
   ]
  },
  {
   "cell_type": "markdown",
   "metadata": {},
   "source": [
    "### Reset the multi-index to single index or none:\n",
    "\n",
    "`df.reset_index('key1')` gets rid of `'key1'` as an index"
   ]
  },
  {
   "cell_type": "code",
   "execution_count": 14,
   "metadata": {},
   "outputs": [
    {
     "name": "stdout",
     "output_type": "stream",
     "text": [
      "           TICKER       RET     SMB     HML   MKTRF      RF     UMD     RETRF\n",
      "DATE                                                                         \n",
      "2010-01-29   AAPL -0.088591  0.0038  0.0030 -0.0336  0.0000 -0.0538 -0.088591\n",
      "2010-01-29    ABT -0.012039  0.0038  0.0030 -0.0336  0.0000 -0.0538 -0.012039\n",
      "2010-01-29   AMGN  0.033763  0.0038  0.0030 -0.0336  0.0000 -0.0538  0.033763\n",
      "2010-01-29   AMZN -0.067722  0.0038  0.0030 -0.0336  0.0000 -0.0538 -0.067722\n",
      "2010-01-29    AXP -0.066140  0.0038  0.0030 -0.0336  0.0000 -0.0538 -0.066140\n",
      "...           ...       ...     ...     ...     ...     ...     ...       ...\n",
      "2019-12-31      V  0.018373  0.0068  0.0183  0.0277  0.0014 -0.0213  0.016973\n",
      "2019-12-31     VZ  0.019256  0.0068  0.0183  0.0277  0.0014 -0.0213  0.017856\n",
      "2019-12-31    WFC -0.012119  0.0068  0.0183  0.0277  0.0014 -0.0213 -0.013519\n",
      "2019-12-31    WMT  0.002351  0.0068  0.0183  0.0277  0.0014 -0.0213  0.000951\n",
      "2019-12-31    XOM  0.024218  0.0068  0.0183  0.0277  0.0014 -0.0213  0.022818\n",
      "\n",
      "[6000 rows x 8 columns]\n"
     ]
    }
   ],
   "source": [
    "data3 = data2.reset_index('TICKER')\n",
    "\n",
    "print(data3)"
   ]
  },
  {
   "cell_type": "code",
   "execution_count": 15,
   "metadata": {},
   "outputs": [
    {
     "name": "stdout",
     "output_type": "stream",
     "text": [
      "             DATE       RET     SMB     HML   MKTRF      RF     UMD     RETRF\n",
      "TICKER                                                                       \n",
      "AAPL   2010-01-29 -0.088591  0.0038  0.0030 -0.0336  0.0000 -0.0538 -0.088591\n",
      "AAPL   2014-12-31 -0.071891  0.0255  0.0206 -0.0006  0.0000  0.0109 -0.071891\n",
      "AAPL   2014-11-28  0.105556 -0.0209 -0.0300  0.0255  0.0000  0.0106  0.105556\n",
      "AAPL   2017-02-28  0.133581 -0.0202 -0.0179  0.0357  0.0004 -0.0165  0.133181\n",
      "AAPL   2019-05-31 -0.123735 -0.0120 -0.0239 -0.0694  0.0021  0.0761 -0.125835\n",
      "...           ...       ...     ...     ...     ...     ...     ...       ...\n",
      "XOM    2016-12-30  0.033906  0.0010  0.0358  0.0182  0.0003 -0.0042  0.033606\n",
      "XOM    2017-01-31 -0.070574 -0.0104 -0.0278  0.0194  0.0004 -0.0094 -0.070974\n",
      "XOM    2017-02-28 -0.021695 -0.0202 -0.0179  0.0357  0.0004 -0.0165 -0.022095\n",
      "XOM    2016-02-29  0.038921  0.0079 -0.0050 -0.0007  0.0002 -0.0411  0.038721\n",
      "XOM    2019-12-31  0.024218  0.0068  0.0183  0.0277  0.0014 -0.0213  0.022818\n",
      "\n",
      "[6000 rows x 8 columns]\n"
     ]
    }
   ],
   "source": [
    "data4 = data2.reset_index('DATE')\n",
    "data4 = data4.sort_index()\n",
    "\n",
    "print(data4)"
   ]
  },
  {
   "cell_type": "code",
   "execution_count": 16,
   "metadata": {},
   "outputs": [
    {
     "name": "stdout",
     "output_type": "stream",
     "text": [
      "                 RET     SMB     HML   MKTRF      RF     UMD     RETRF\n",
      "DATE                                                                  \n",
      "2010-01-29 -0.088591  0.0038  0.0030 -0.0336  0.0000 -0.0538 -0.088591\n",
      "2010-02-26  0.065380  0.0121  0.0316  0.0340  0.0000  0.0360  0.065380\n",
      "2010-03-31  0.148470  0.0143  0.0211  0.0631  0.0001  0.0366  0.148370\n",
      "2010-04-30  0.111021  0.0497  0.0281  0.0200  0.0001  0.0322  0.110921\n",
      "2010-05-28 -0.016125  0.0005 -0.0238 -0.0789  0.0001 -0.0013 -0.016225\n",
      "...              ...     ...     ...     ...     ...     ...       ...\n",
      "2019-08-30 -0.016570 -0.0241 -0.0499 -0.0258  0.0016  0.0760 -0.018170\n",
      "2019-09-30  0.072962 -0.0090  0.0671  0.0144  0.0018 -0.0685  0.071162\n",
      "2019-10-31  0.110684  0.0025 -0.0207  0.0206  0.0015  0.0024  0.109184\n",
      "2019-11-29  0.077424  0.0087 -0.0186  0.0387  0.0012 -0.0262  0.076224\n",
      "2019-12-31  0.098784  0.0068  0.0183  0.0277  0.0014 -0.0213  0.097384\n",
      "\n",
      "[120 rows x 7 columns]\n"
     ]
    }
   ],
   "source": [
    "AAPL = data1.loc['AAPL']\n",
    "\n",
    "print(AAPL)"
   ]
  },
  {
   "cell_type": "code",
   "execution_count": 17,
   "metadata": {},
   "outputs": [],
   "source": [
    "import numpy as np\n",
    "import statsmodels.api as sm\n",
    "import matplotlib.pyplot as plt\n",
    "from statsmodels.sandbox.regression.predstd import wls_prediction_std"
   ]
  },
  {
   "cell_type": "code",
   "execution_count": 18,
   "metadata": {},
   "outputs": [
    {
     "name": "stdout",
     "output_type": "stream",
     "text": [
      "                            OLS Regression Results                            \n",
      "==============================================================================\n",
      "Dep. Variable:                      y   R-squared:                       0.254\n",
      "Model:                            OLS   Adj. R-squared:                  0.248\n",
      "Method:                 Least Squares   F-statistic:                     40.27\n",
      "Date:                Mon, 07 Sep 2020   Prob (F-statistic):           4.25e-09\n",
      "Time:                        15:27:16   Log-Likelihood:                 159.11\n",
      "No. Observations:                 120   AIC:                            -314.2\n",
      "Df Residuals:                     118   BIC:                            -308.6\n",
      "Df Model:                           1                                         \n",
      "Covariance Type:            nonrobust                                         \n",
      "==============================================================================\n",
      "                 coef    std err          t      P>|t|      [0.025      0.975]\n",
      "------------------------------------------------------------------------------\n",
      "const          0.0117      0.006      1.891      0.061      -0.001       0.024\n",
      "x1             1.0068      0.159      6.346      0.000       0.693       1.321\n",
      "==============================================================================\n",
      "Omnibus:                        7.990   Durbin-Watson:                   1.891\n",
      "Prob(Omnibus):                  0.018   Jarque-Bera (JB):                9.258\n",
      "Skew:                          -0.414   Prob(JB):                      0.00977\n",
      "Kurtosis:                       4.080   Cond. No.                         26.8\n",
      "==============================================================================\n",
      "\n",
      "Warnings:\n",
      "[1] Standard Errors assume that the covariance matrix of the errors is correctly specified.\n"
     ]
    }
   ],
   "source": [
    "y = np.array(AAPL['RETRF'])\n",
    "X = sm.add_constant(np.array(AAPL[['MKTRF']]))\n",
    "model = sm.OLS(y, X)\n",
    "results = model.fit()\n",
    "print(results.summary())"
   ]
  },
  {
   "cell_type": "code",
   "execution_count": 19,
   "metadata": {},
   "outputs": [
    {
     "name": "stdout",
     "output_type": "stream",
     "text": [
      "<class 'pandas.core.series.Series'>\n",
      "<class 'pandas.core.series.Series'>\n",
      "const    0.011655\n",
      "MKTRF    1.006823\n",
      "dtype: float64\n",
      "const    1.890881\n",
      "MKTRF    6.345986\n",
      "dtype: float64\n",
      "                            OLS Regression Results                            \n",
      "==============================================================================\n",
      "Dep. Variable:                  RETRF   R-squared:                       0.254\n",
      "Model:                            OLS   Adj. R-squared:                  0.248\n",
      "Method:                 Least Squares   F-statistic:                     40.27\n",
      "Date:                Mon, 07 Sep 2020   Prob (F-statistic):           4.25e-09\n",
      "Time:                        15:27:16   Log-Likelihood:                 159.11\n",
      "No. Observations:                 120   AIC:                            -314.2\n",
      "Df Residuals:                     118   BIC:                            -308.6\n",
      "Df Model:                           1                                         \n",
      "Covariance Type:            nonrobust                                         \n",
      "==============================================================================\n",
      "                 coef    std err          t      P>|t|      [0.025      0.975]\n",
      "------------------------------------------------------------------------------\n",
      "const          0.0117      0.006      1.891      0.061      -0.001       0.024\n",
      "MKTRF          1.0068      0.159      6.346      0.000       0.693       1.321\n",
      "==============================================================================\n",
      "Omnibus:                        7.990   Durbin-Watson:                   1.891\n",
      "Prob(Omnibus):                  0.018   Jarque-Bera (JB):                9.258\n",
      "Skew:                          -0.414   Prob(JB):                      0.00977\n",
      "Kurtosis:                       4.080   Cond. No.                         26.8\n",
      "==============================================================================\n",
      "\n",
      "Warnings:\n",
      "[1] Standard Errors assume that the covariance matrix of the errors is correctly specified.\n",
      "DATE\n",
      "2010-01-29   -0.022174\n",
      "2010-02-26    0.045887\n",
      "2010-03-31    0.075185\n",
      "2010-04-30    0.031791\n",
      "2010-05-28   -0.067783\n",
      "dtype: float64\n"
     ]
    }
   ],
   "source": [
    "y = AAPL['RETRF']\n",
    "X = sm.add_constant(AAPL[['MKTRF']])\n",
    "\n",
    "model = sm.OLS(y,X)\n",
    "results = model.fit()\n",
    "\n",
    "print(type(results.params))\n",
    "print(type(results.tvalues))\n",
    "print(results.params)\n",
    "print(results.tvalues)\n",
    "print(results.summary())\n",
    "\n",
    "print(results.predict(X[:5]))"
   ]
  },
  {
   "cell_type": "markdown",
   "metadata": {},
   "source": [
    "### Note:\n",
    "\n",
    "`sm.OLS(y,X)` can take either `np.array` or `pd.DataFrame`. The latter will have the correct variable name shown in the `results.summary()`. \n",
    "\n",
    "When we make predictions, we put X in `results.predict()`."
   ]
  },
  {
   "cell_type": "code",
   "execution_count": 20,
   "metadata": {},
   "outputs": [],
   "source": [
    "import statsmodels.formula.api as smf"
   ]
  },
  {
   "cell_type": "code",
   "execution_count": 21,
   "metadata": {},
   "outputs": [
    {
     "name": "stdout",
     "output_type": "stream",
     "text": [
      "<class 'pandas.core.series.Series'>\n",
      "<class 'pandas.core.series.Series'>\n",
      "Intercept    0.011655\n",
      "MKTRF        1.006823\n",
      "dtype: float64\n",
      "Intercept    1.890881\n",
      "MKTRF        6.345986\n",
      "dtype: float64\n"
     ]
    }
   ],
   "source": [
    "results1 = smf.ols('RETRF ~ MKTRF', data=AAPL).fit()\n",
    "\n",
    "\n",
    "print(type(results1.params))\n",
    "print(type(results1.tvalues))\n",
    "print(results1.params)\n",
    "print(results1.tvalues)"
   ]
  },
  {
   "cell_type": "code",
   "execution_count": 22,
   "metadata": {},
   "outputs": [
    {
     "name": "stdout",
     "output_type": "stream",
     "text": [
      "                            OLS Regression Results                            \n",
      "==============================================================================\n",
      "Dep. Variable:                  RETRF   R-squared:                       0.254\n",
      "Model:                            OLS   Adj. R-squared:                  0.248\n",
      "Method:                 Least Squares   F-statistic:                     40.27\n",
      "Date:                Mon, 07 Sep 2020   Prob (F-statistic):           4.25e-09\n",
      "Time:                        15:27:17   Log-Likelihood:                 159.11\n",
      "No. Observations:                 120   AIC:                            -314.2\n",
      "Df Residuals:                     118   BIC:                            -308.6\n",
      "Df Model:                           1                                         \n",
      "Covariance Type:            nonrobust                                         \n",
      "==============================================================================\n",
      "                 coef    std err          t      P>|t|      [0.025      0.975]\n",
      "------------------------------------------------------------------------------\n",
      "Intercept      0.0117      0.006      1.891      0.061      -0.001       0.024\n",
      "MKTRF          1.0068      0.159      6.346      0.000       0.693       1.321\n",
      "==============================================================================\n",
      "Omnibus:                        7.990   Durbin-Watson:                   1.891\n",
      "Prob(Omnibus):                  0.018   Jarque-Bera (JB):                9.258\n",
      "Skew:                          -0.414   Prob(JB):                      0.00977\n",
      "Kurtosis:                       4.080   Cond. No.                         26.8\n",
      "==============================================================================\n",
      "\n",
      "Warnings:\n",
      "[1] Standard Errors assume that the covariance matrix of the errors is correctly specified.\n"
     ]
    }
   ],
   "source": [
    "print(results1.summary())"
   ]
  },
  {
   "cell_type": "markdown",
   "metadata": {},
   "source": [
    "### Note:\n",
    "\n",
    "We don't need to use `sm.add_constant()` to add a constant term with `smf`."
   ]
  },
  {
   "cell_type": "code",
   "execution_count": 23,
   "metadata": {},
   "outputs": [
    {
     "name": "stdout",
     "output_type": "stream",
     "text": [
      "DATE\n",
      "2010-01-29   -0.022174\n",
      "2010-02-26    0.045887\n",
      "2010-03-31    0.075185\n",
      "2010-04-30    0.031791\n",
      "2010-05-28   -0.067783\n",
      "dtype: float64\n"
     ]
    }
   ],
   "source": [
    "print(results1.predict(AAPL[:5]))"
   ]
  },
  {
   "cell_type": "markdown",
   "metadata": {},
   "source": [
    "### Run regression for each firm at once"
   ]
  },
  {
   "cell_type": "code",
   "execution_count": 24,
   "metadata": {},
   "outputs": [],
   "source": [
    "# define an OLS function to run regression for each firm and collect params/stdev\n",
    "def run_ols(x, y):\n",
    "    X = sm.add_constant(x)\n",
    "    model = sm.OLS(y, X)\n",
    "    result = model.fit()\n",
    "    params = pd.DataFrame(result.params).T  # result.params is a sequence, you have to convert it to DataFrame to transpose it.\n",
    "    params.columns = ['alpha', 'beta']\n",
    "    stderr = pd.DataFrame(result.bse).T\n",
    "    stdeff.columns = ['alpha_std', 'beta_std']\n",
    "    counts = pd.DataFrame([len(X)])\n",
    "    counts.columns = ['counts']\n",
    "    return params.join(stderr).join(counts)"
   ]
  },
  {
   "cell_type": "code",
   "execution_count": 25,
   "metadata": {},
   "outputs": [
    {
     "data": {
      "text/html": [
       "<div>\n",
       "<style scoped>\n",
       "    .dataframe tbody tr th:only-of-type {\n",
       "        vertical-align: middle;\n",
       "    }\n",
       "\n",
       "    .dataframe tbody tr th {\n",
       "        vertical-align: top;\n",
       "    }\n",
       "\n",
       "    .dataframe thead th {\n",
       "        text-align: right;\n",
       "    }\n",
       "</style>\n",
       "<table border=\"1\" class=\"dataframe\">\n",
       "  <thead>\n",
       "    <tr style=\"text-align: right;\">\n",
       "      <th></th>\n",
       "      <th></th>\n",
       "      <th>alpha</th>\n",
       "      <th>beta</th>\n",
       "      <th>alpha_t</th>\n",
       "      <th>beta_t</th>\n",
       "      <th>counts</th>\n",
       "    </tr>\n",
       "    <tr>\n",
       "      <th>TICKER</th>\n",
       "      <th></th>\n",
       "      <th></th>\n",
       "      <th></th>\n",
       "      <th></th>\n",
       "      <th></th>\n",
       "      <th></th>\n",
       "    </tr>\n",
       "  </thead>\n",
       "  <tbody>\n",
       "    <tr>\n",
       "      <th>AAPL</th>\n",
       "      <th>0</th>\n",
       "      <td>0.014291</td>\n",
       "      <td>0.857604</td>\n",
       "      <td>1.581862</td>\n",
       "      <td>3.879279</td>\n",
       "      <td>60</td>\n",
       "    </tr>\n",
       "    <tr>\n",
       "      <th>ABT</th>\n",
       "      <th>0</th>\n",
       "      <td>0.005139</td>\n",
       "      <td>0.573232</td>\n",
       "      <td>1.044162</td>\n",
       "      <td>4.759716</td>\n",
       "      <td>60</td>\n",
       "    </tr>\n",
       "    <tr>\n",
       "      <th>AMGN</th>\n",
       "      <th>0</th>\n",
       "      <td>0.013589</td>\n",
       "      <td>0.483661</td>\n",
       "      <td>1.985770</td>\n",
       "      <td>2.888355</td>\n",
       "      <td>60</td>\n",
       "    </tr>\n",
       "    <tr>\n",
       "      <th>AMZN</th>\n",
       "      <th>0</th>\n",
       "      <td>0.003319</td>\n",
       "      <td>1.063048</td>\n",
       "      <td>0.352628</td>\n",
       "      <td>4.615701</td>\n",
       "      <td>60</td>\n",
       "    </tr>\n",
       "    <tr>\n",
       "      <th>AXP</th>\n",
       "      <th>0</th>\n",
       "      <td>0.002881</td>\n",
       "      <td>1.066500</td>\n",
       "      <td>0.546880</td>\n",
       "      <td>8.272238</td>\n",
       "      <td>60</td>\n",
       "    </tr>\n",
       "  </tbody>\n",
       "</table>\n",
       "</div>"
      ],
      "text/plain": [
       "             alpha      beta   alpha_t    beta_t  counts\n",
       "TICKER                                                  \n",
       "AAPL   0  0.014291  0.857604  1.581862  3.879279      60\n",
       "ABT    0  0.005139  0.573232  1.044162  4.759716      60\n",
       "AMGN   0  0.013589  0.483661  1.985770  2.888355      60\n",
       "AMZN   0  0.003319  1.063048  0.352628  4.615701      60\n",
       "AXP    0  0.002881  1.066500  0.546880  8.272238      60"
      ]
     },
     "execution_count": 25,
     "metadata": {},
     "output_type": "execute_result"
    }
   ],
   "source": [
    "# select the time frame which we are going to run regression\n",
    "temp = data[(data.DATE > '2010-1-1') & (data.DATE <= '2014-12-31')]\n",
    "\n",
    "# group Sample by \"TICKER\" column, and apply \"run_regression\" function to each group\n",
    "reg_result = temp.groupby('TICKER').apply(lambda x: run_ols(x.MKTRF, x.RETRF))\n",
    "\n",
    "# show first few rows of regression result\n",
    "print(reg_result.head())"
   ]
  },
  {
   "cell_type": "code",
   "execution_count": 26,
   "metadata": {},
   "outputs": [],
   "source": [
    "reg_result = reg_result.reset_index(1)\n",
    "print(reg_result.head())\n",
    "\n",
    "reg_result = reg_result.drop(['level_1'], axis=1)\n",
    "print(reg_result.head())"
   ]
  },
  {
   "cell_type": "code",
   "execution_count": null,
   "metadata": {},
   "outputs": [],
   "source": []
  }
 ],
 "metadata": {
  "kernelspec": {
   "display_name": "Python 3",
   "language": "python",
   "name": "python3"
  },
  "language_info": {
   "codemirror_mode": {
    "name": "ipython",
    "version": 3
   },
   "file_extension": ".py",
   "mimetype": "text/x-python",
   "name": "python",
   "nbconvert_exporter": "python",
   "pygments_lexer": "ipython3",
   "version": "3.7.4"
  }
 },
 "nbformat": 4,
 "nbformat_minor": 2
}
